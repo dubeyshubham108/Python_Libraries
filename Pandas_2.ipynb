{
  "nbformat": 4,
  "nbformat_minor": 0,
  "metadata": {
    "colab": {
      "name": "Pandas_2.ipynb",
      "provenance": [],
      "collapsed_sections": [],
      "authorship_tag": "ABX9TyMhhAg6YJYyTBwWBxQuBkOt",
      "include_colab_link": true
    },
    "kernelspec": {
      "name": "python3",
      "display_name": "Python 3"
    },
    "language_info": {
      "name": "python"
    }
  },
  "cells": [
    {
      "cell_type": "markdown",
      "metadata": {
        "id": "view-in-github",
        "colab_type": "text"
      },
      "source": [
        "<a href=\"https://colab.research.google.com/github/dubeyshubham786/Python_libraries/blob/main/Pandas_2.ipynb\" target=\"_parent\"><img src=\"https://colab.research.google.com/assets/colab-badge.svg\" alt=\"Open In Colab\"/></a>"
      ]
    },
    {
      "cell_type": "markdown",
      "metadata": {
        "id": "MPldG_lyzAV5"
      },
      "source": [
        "# Selecting rows and Columns"
      ]
    },
    {
      "cell_type": "code",
      "metadata": {
        "id": "tnhnBmVnzHpC"
      },
      "source": [
        "# Importing pandas as pd\n",
        "\n",
        "import pandas as pd"
      ],
      "execution_count": null,
      "outputs": []
    },
    {
      "cell_type": "code",
      "metadata": {
        "colab": {
          "base_uri": "https://localhost:8080/"
        },
        "id": "Vfi0EQfFzH8Y",
        "outputId": "1c817d97-69db-45e3-89b6-7fbca52dfae8"
      },
      "source": [
        "from google.colab import drive\n",
        "drive.mount('/content/gdrive/')"
      ],
      "execution_count": null,
      "outputs": [
        {
          "output_type": "stream",
          "name": "stdout",
          "text": [
            "Mounted at /content/gdrive/\n"
          ]
        }
      ]
    },
    {
      "cell_type": "code",
      "metadata": {
        "id": "8iDp_-PX_hDR"
      },
      "source": [
        "# Read the csv file\n",
        "\n",
        "df = pd.read_csv('/content/gdrive/MyDrive/Colab Notebooks/Github/Pandas/imdb_data.csv')"
      ],
      "execution_count": null,
      "outputs": []
    },
    {
      "cell_type": "code",
      "metadata": {
        "colab": {
          "base_uri": "https://localhost:8080/",
          "height": 626
        },
        "id": "5yOZEh6zzIEQ",
        "outputId": "8876d12b-3070-4ea1-f7f4-71469dd9f0ed"
      },
      "source": [
        "df.head()"
      ],
      "execution_count": null,
      "outputs": [
        {
          "output_type": "execute_result",
          "data": {
            "text/html": [
              "<div>\n",
              "<style scoped>\n",
              "    .dataframe tbody tr th:only-of-type {\n",
              "        vertical-align: middle;\n",
              "    }\n",
              "\n",
              "    .dataframe tbody tr th {\n",
              "        vertical-align: top;\n",
              "    }\n",
              "\n",
              "    .dataframe thead th {\n",
              "        text-align: right;\n",
              "    }\n",
              "</style>\n",
              "<table border=\"1\" class=\"dataframe\">\n",
              "  <thead>\n",
              "    <tr style=\"text-align: right;\">\n",
              "      <th></th>\n",
              "      <th>id</th>\n",
              "      <th>belongs_to_collection</th>\n",
              "      <th>budget</th>\n",
              "      <th>genres</th>\n",
              "      <th>homepage</th>\n",
              "      <th>imdb_id</th>\n",
              "      <th>original_language</th>\n",
              "      <th>original_title</th>\n",
              "      <th>overview</th>\n",
              "      <th>popularity</th>\n",
              "      <th>poster_path</th>\n",
              "      <th>production_companies</th>\n",
              "      <th>production_countries</th>\n",
              "      <th>release_date</th>\n",
              "      <th>runtime</th>\n",
              "      <th>spoken_languages</th>\n",
              "      <th>status</th>\n",
              "      <th>tagline</th>\n",
              "      <th>title</th>\n",
              "      <th>Keywords</th>\n",
              "      <th>cast</th>\n",
              "      <th>crew</th>\n",
              "      <th>revenue</th>\n",
              "    </tr>\n",
              "  </thead>\n",
              "  <tbody>\n",
              "    <tr>\n",
              "      <th>0</th>\n",
              "      <td>1</td>\n",
              "      <td>[{'id': 313576, 'name': 'Hot Tub Time Machine ...</td>\n",
              "      <td>14000000</td>\n",
              "      <td>[{'id': 35, 'name': 'Comedy'}]</td>\n",
              "      <td>NaN</td>\n",
              "      <td>tt2637294</td>\n",
              "      <td>en</td>\n",
              "      <td>Hot Tub Time Machine 2</td>\n",
              "      <td>When Lou, who has become the \"father of the In...</td>\n",
              "      <td>6.575393</td>\n",
              "      <td>/tQtWuwvMf0hCc2QR2tkolwl7c3c.jpg</td>\n",
              "      <td>[{'name': 'Paramount Pictures', 'id': 4}, {'na...</td>\n",
              "      <td>[{'iso_3166_1': 'US', 'name': 'United States o...</td>\n",
              "      <td>2/20/15</td>\n",
              "      <td>93.0</td>\n",
              "      <td>[{'iso_639_1': 'en', 'name': 'English'}]</td>\n",
              "      <td>Released</td>\n",
              "      <td>The Laws of Space and Time are About to be Vio...</td>\n",
              "      <td>Hot Tub Time Machine 2</td>\n",
              "      <td>[{'id': 4379, 'name': 'time travel'}, {'id': 9...</td>\n",
              "      <td>[{'cast_id': 4, 'character': 'Lou', 'credit_id...</td>\n",
              "      <td>[{'credit_id': '59ac067c92514107af02c8c8', 'de...</td>\n",
              "      <td>12314651</td>\n",
              "    </tr>\n",
              "    <tr>\n",
              "      <th>1</th>\n",
              "      <td>2</td>\n",
              "      <td>[{'id': 107674, 'name': 'The Princess Diaries ...</td>\n",
              "      <td>40000000</td>\n",
              "      <td>[{'id': 35, 'name': 'Comedy'}, {'id': 18, 'nam...</td>\n",
              "      <td>NaN</td>\n",
              "      <td>tt0368933</td>\n",
              "      <td>en</td>\n",
              "      <td>The Princess Diaries 2: Royal Engagement</td>\n",
              "      <td>Mia Thermopolis is now a college graduate and ...</td>\n",
              "      <td>8.248895</td>\n",
              "      <td>/w9Z7A0GHEhIp7etpj0vyKOeU1Wx.jpg</td>\n",
              "      <td>[{'name': 'Walt Disney Pictures', 'id': 2}]</td>\n",
              "      <td>[{'iso_3166_1': 'US', 'name': 'United States o...</td>\n",
              "      <td>8/6/04</td>\n",
              "      <td>113.0</td>\n",
              "      <td>[{'iso_639_1': 'en', 'name': 'English'}]</td>\n",
              "      <td>Released</td>\n",
              "      <td>It can take a lifetime to find true love; she'...</td>\n",
              "      <td>The Princess Diaries 2: Royal Engagement</td>\n",
              "      <td>[{'id': 2505, 'name': 'coronation'}, {'id': 42...</td>\n",
              "      <td>[{'cast_id': 1, 'character': 'Mia Thermopolis'...</td>\n",
              "      <td>[{'credit_id': '52fe43fe9251416c7502563d', 'de...</td>\n",
              "      <td>95149435</td>\n",
              "    </tr>\n",
              "    <tr>\n",
              "      <th>2</th>\n",
              "      <td>3</td>\n",
              "      <td>NaN</td>\n",
              "      <td>3300000</td>\n",
              "      <td>[{'id': 18, 'name': 'Drama'}]</td>\n",
              "      <td>http://sonyclassics.com/whiplash/</td>\n",
              "      <td>tt2582802</td>\n",
              "      <td>en</td>\n",
              "      <td>Whiplash</td>\n",
              "      <td>Under the direction of a ruthless instructor, ...</td>\n",
              "      <td>64.299990</td>\n",
              "      <td>/lIv1QinFqz4dlp5U4lQ6HaiskOZ.jpg</td>\n",
              "      <td>[{'name': 'Bold Films', 'id': 2266}, {'name': ...</td>\n",
              "      <td>[{'iso_3166_1': 'US', 'name': 'United States o...</td>\n",
              "      <td>10/10/14</td>\n",
              "      <td>105.0</td>\n",
              "      <td>[{'iso_639_1': 'en', 'name': 'English'}]</td>\n",
              "      <td>Released</td>\n",
              "      <td>The road to greatness can take you to the edge.</td>\n",
              "      <td>Whiplash</td>\n",
              "      <td>[{'id': 1416, 'name': 'jazz'}, {'id': 1523, 'n...</td>\n",
              "      <td>[{'cast_id': 5, 'character': 'Andrew Neimann',...</td>\n",
              "      <td>[{'credit_id': '54d5356ec3a3683ba0000039', 'de...</td>\n",
              "      <td>13092000</td>\n",
              "    </tr>\n",
              "    <tr>\n",
              "      <th>3</th>\n",
              "      <td>4</td>\n",
              "      <td>NaN</td>\n",
              "      <td>1200000</td>\n",
              "      <td>[{'id': 53, 'name': 'Thriller'}, {'id': 18, 'n...</td>\n",
              "      <td>http://kahaanithefilm.com/</td>\n",
              "      <td>tt1821480</td>\n",
              "      <td>hi</td>\n",
              "      <td>Kahaani</td>\n",
              "      <td>Vidya Bagchi (Vidya Balan) arrives in Kolkata ...</td>\n",
              "      <td>3.174936</td>\n",
              "      <td>/aTXRaPrWSinhcmCrcfJK17urp3F.jpg</td>\n",
              "      <td>NaN</td>\n",
              "      <td>[{'iso_3166_1': 'IN', 'name': 'India'}]</td>\n",
              "      <td>3/9/12</td>\n",
              "      <td>122.0</td>\n",
              "      <td>[{'iso_639_1': 'en', 'name': 'English'}, {'iso...</td>\n",
              "      <td>Released</td>\n",
              "      <td>NaN</td>\n",
              "      <td>Kahaani</td>\n",
              "      <td>[{'id': 10092, 'name': 'mystery'}, {'id': 1054...</td>\n",
              "      <td>[{'cast_id': 1, 'character': 'Vidya Bagchi', '...</td>\n",
              "      <td>[{'credit_id': '52fe48779251416c9108d6eb', 'de...</td>\n",
              "      <td>16000000</td>\n",
              "    </tr>\n",
              "    <tr>\n",
              "      <th>4</th>\n",
              "      <td>5</td>\n",
              "      <td>NaN</td>\n",
              "      <td>0</td>\n",
              "      <td>[{'id': 28, 'name': 'Action'}, {'id': 53, 'nam...</td>\n",
              "      <td>NaN</td>\n",
              "      <td>tt1380152</td>\n",
              "      <td>ko</td>\n",
              "      <td>마린보이</td>\n",
              "      <td>Marine Boy is the story of a former national s...</td>\n",
              "      <td>1.148070</td>\n",
              "      <td>/m22s7zvkVFDU9ir56PiiqIEWFdT.jpg</td>\n",
              "      <td>NaN</td>\n",
              "      <td>[{'iso_3166_1': 'KR', 'name': 'South Korea'}]</td>\n",
              "      <td>2/5/09</td>\n",
              "      <td>118.0</td>\n",
              "      <td>[{'iso_639_1': 'ko', 'name': '한국어/조선말'}]</td>\n",
              "      <td>Released</td>\n",
              "      <td>NaN</td>\n",
              "      <td>Marine Boy</td>\n",
              "      <td>NaN</td>\n",
              "      <td>[{'cast_id': 3, 'character': 'Chun-soo', 'cred...</td>\n",
              "      <td>[{'credit_id': '52fe464b9251416c75073b43', 'de...</td>\n",
              "      <td>3923970</td>\n",
              "    </tr>\n",
              "  </tbody>\n",
              "</table>\n",
              "</div>"
            ],
            "text/plain": [
              "   id  ...   revenue\n",
              "0   1  ...  12314651\n",
              "1   2  ...  95149435\n",
              "2   3  ...  13092000\n",
              "3   4  ...  16000000\n",
              "4   5  ...   3923970\n",
              "\n",
              "[5 rows x 23 columns]"
            ]
          },
          "metadata": {},
          "execution_count": 23
        }
      ]
    },
    {
      "cell_type": "code",
      "metadata": {
        "colab": {
          "base_uri": "https://localhost:8080/",
          "height": 1000
        },
        "id": "6_ErcrJ5zIH9",
        "outputId": "7066fb9a-3f92-4d03-fa4c-26f643ef8198"
      },
      "source": [
        "df"
      ],
      "execution_count": null,
      "outputs": [
        {
          "output_type": "execute_result",
          "data": {
            "text/html": [
              "<div>\n",
              "<style scoped>\n",
              "    .dataframe tbody tr th:only-of-type {\n",
              "        vertical-align: middle;\n",
              "    }\n",
              "\n",
              "    .dataframe tbody tr th {\n",
              "        vertical-align: top;\n",
              "    }\n",
              "\n",
              "    .dataframe thead th {\n",
              "        text-align: right;\n",
              "    }\n",
              "</style>\n",
              "<table border=\"1\" class=\"dataframe\">\n",
              "  <thead>\n",
              "    <tr style=\"text-align: right;\">\n",
              "      <th></th>\n",
              "      <th>id</th>\n",
              "      <th>belongs_to_collection</th>\n",
              "      <th>budget</th>\n",
              "      <th>genres</th>\n",
              "      <th>homepage</th>\n",
              "      <th>imdb_id</th>\n",
              "      <th>original_language</th>\n",
              "      <th>original_title</th>\n",
              "      <th>overview</th>\n",
              "      <th>popularity</th>\n",
              "      <th>poster_path</th>\n",
              "      <th>production_companies</th>\n",
              "      <th>production_countries</th>\n",
              "      <th>release_date</th>\n",
              "      <th>runtime</th>\n",
              "      <th>spoken_languages</th>\n",
              "      <th>status</th>\n",
              "      <th>tagline</th>\n",
              "      <th>title</th>\n",
              "      <th>Keywords</th>\n",
              "      <th>cast</th>\n",
              "      <th>crew</th>\n",
              "      <th>revenue</th>\n",
              "    </tr>\n",
              "  </thead>\n",
              "  <tbody>\n",
              "    <tr>\n",
              "      <th>0</th>\n",
              "      <td>1</td>\n",
              "      <td>[{'id': 313576, 'name': 'Hot Tub Time Machine ...</td>\n",
              "      <td>14000000</td>\n",
              "      <td>[{'id': 35, 'name': 'Comedy'}]</td>\n",
              "      <td>NaN</td>\n",
              "      <td>tt2637294</td>\n",
              "      <td>en</td>\n",
              "      <td>Hot Tub Time Machine 2</td>\n",
              "      <td>When Lou, who has become the \"father of the In...</td>\n",
              "      <td>6.575393</td>\n",
              "      <td>/tQtWuwvMf0hCc2QR2tkolwl7c3c.jpg</td>\n",
              "      <td>[{'name': 'Paramount Pictures', 'id': 4}, {'na...</td>\n",
              "      <td>[{'iso_3166_1': 'US', 'name': 'United States o...</td>\n",
              "      <td>2/20/15</td>\n",
              "      <td>93.0</td>\n",
              "      <td>[{'iso_639_1': 'en', 'name': 'English'}]</td>\n",
              "      <td>Released</td>\n",
              "      <td>The Laws of Space and Time are About to be Vio...</td>\n",
              "      <td>Hot Tub Time Machine 2</td>\n",
              "      <td>[{'id': 4379, 'name': 'time travel'}, {'id': 9...</td>\n",
              "      <td>[{'cast_id': 4, 'character': 'Lou', 'credit_id...</td>\n",
              "      <td>[{'credit_id': '59ac067c92514107af02c8c8', 'de...</td>\n",
              "      <td>12314651</td>\n",
              "    </tr>\n",
              "    <tr>\n",
              "      <th>1</th>\n",
              "      <td>2</td>\n",
              "      <td>[{'id': 107674, 'name': 'The Princess Diaries ...</td>\n",
              "      <td>40000000</td>\n",
              "      <td>[{'id': 35, 'name': 'Comedy'}, {'id': 18, 'nam...</td>\n",
              "      <td>NaN</td>\n",
              "      <td>tt0368933</td>\n",
              "      <td>en</td>\n",
              "      <td>The Princess Diaries 2: Royal Engagement</td>\n",
              "      <td>Mia Thermopolis is now a college graduate and ...</td>\n",
              "      <td>8.248895</td>\n",
              "      <td>/w9Z7A0GHEhIp7etpj0vyKOeU1Wx.jpg</td>\n",
              "      <td>[{'name': 'Walt Disney Pictures', 'id': 2}]</td>\n",
              "      <td>[{'iso_3166_1': 'US', 'name': 'United States o...</td>\n",
              "      <td>8/6/04</td>\n",
              "      <td>113.0</td>\n",
              "      <td>[{'iso_639_1': 'en', 'name': 'English'}]</td>\n",
              "      <td>Released</td>\n",
              "      <td>It can take a lifetime to find true love; she'...</td>\n",
              "      <td>The Princess Diaries 2: Royal Engagement</td>\n",
              "      <td>[{'id': 2505, 'name': 'coronation'}, {'id': 42...</td>\n",
              "      <td>[{'cast_id': 1, 'character': 'Mia Thermopolis'...</td>\n",
              "      <td>[{'credit_id': '52fe43fe9251416c7502563d', 'de...</td>\n",
              "      <td>95149435</td>\n",
              "    </tr>\n",
              "    <tr>\n",
              "      <th>2</th>\n",
              "      <td>3</td>\n",
              "      <td>NaN</td>\n",
              "      <td>3300000</td>\n",
              "      <td>[{'id': 18, 'name': 'Drama'}]</td>\n",
              "      <td>http://sonyclassics.com/whiplash/</td>\n",
              "      <td>tt2582802</td>\n",
              "      <td>en</td>\n",
              "      <td>Whiplash</td>\n",
              "      <td>Under the direction of a ruthless instructor, ...</td>\n",
              "      <td>64.299990</td>\n",
              "      <td>/lIv1QinFqz4dlp5U4lQ6HaiskOZ.jpg</td>\n",
              "      <td>[{'name': 'Bold Films', 'id': 2266}, {'name': ...</td>\n",
              "      <td>[{'iso_3166_1': 'US', 'name': 'United States o...</td>\n",
              "      <td>10/10/14</td>\n",
              "      <td>105.0</td>\n",
              "      <td>[{'iso_639_1': 'en', 'name': 'English'}]</td>\n",
              "      <td>Released</td>\n",
              "      <td>The road to greatness can take you to the edge.</td>\n",
              "      <td>Whiplash</td>\n",
              "      <td>[{'id': 1416, 'name': 'jazz'}, {'id': 1523, 'n...</td>\n",
              "      <td>[{'cast_id': 5, 'character': 'Andrew Neimann',...</td>\n",
              "      <td>[{'credit_id': '54d5356ec3a3683ba0000039', 'de...</td>\n",
              "      <td>13092000</td>\n",
              "    </tr>\n",
              "    <tr>\n",
              "      <th>3</th>\n",
              "      <td>4</td>\n",
              "      <td>NaN</td>\n",
              "      <td>1200000</td>\n",
              "      <td>[{'id': 53, 'name': 'Thriller'}, {'id': 18, 'n...</td>\n",
              "      <td>http://kahaanithefilm.com/</td>\n",
              "      <td>tt1821480</td>\n",
              "      <td>hi</td>\n",
              "      <td>Kahaani</td>\n",
              "      <td>Vidya Bagchi (Vidya Balan) arrives in Kolkata ...</td>\n",
              "      <td>3.174936</td>\n",
              "      <td>/aTXRaPrWSinhcmCrcfJK17urp3F.jpg</td>\n",
              "      <td>NaN</td>\n",
              "      <td>[{'iso_3166_1': 'IN', 'name': 'India'}]</td>\n",
              "      <td>3/9/12</td>\n",
              "      <td>122.0</td>\n",
              "      <td>[{'iso_639_1': 'en', 'name': 'English'}, {'iso...</td>\n",
              "      <td>Released</td>\n",
              "      <td>NaN</td>\n",
              "      <td>Kahaani</td>\n",
              "      <td>[{'id': 10092, 'name': 'mystery'}, {'id': 1054...</td>\n",
              "      <td>[{'cast_id': 1, 'character': 'Vidya Bagchi', '...</td>\n",
              "      <td>[{'credit_id': '52fe48779251416c9108d6eb', 'de...</td>\n",
              "      <td>16000000</td>\n",
              "    </tr>\n",
              "    <tr>\n",
              "      <th>4</th>\n",
              "      <td>5</td>\n",
              "      <td>NaN</td>\n",
              "      <td>0</td>\n",
              "      <td>[{'id': 28, 'name': 'Action'}, {'id': 53, 'nam...</td>\n",
              "      <td>NaN</td>\n",
              "      <td>tt1380152</td>\n",
              "      <td>ko</td>\n",
              "      <td>마린보이</td>\n",
              "      <td>Marine Boy is the story of a former national s...</td>\n",
              "      <td>1.148070</td>\n",
              "      <td>/m22s7zvkVFDU9ir56PiiqIEWFdT.jpg</td>\n",
              "      <td>NaN</td>\n",
              "      <td>[{'iso_3166_1': 'KR', 'name': 'South Korea'}]</td>\n",
              "      <td>2/5/09</td>\n",
              "      <td>118.0</td>\n",
              "      <td>[{'iso_639_1': 'ko', 'name': '한국어/조선말'}]</td>\n",
              "      <td>Released</td>\n",
              "      <td>NaN</td>\n",
              "      <td>Marine Boy</td>\n",
              "      <td>NaN</td>\n",
              "      <td>[{'cast_id': 3, 'character': 'Chun-soo', 'cred...</td>\n",
              "      <td>[{'credit_id': '52fe464b9251416c75073b43', 'de...</td>\n",
              "      <td>3923970</td>\n",
              "    </tr>\n",
              "    <tr>\n",
              "      <th>...</th>\n",
              "      <td>...</td>\n",
              "      <td>...</td>\n",
              "      <td>...</td>\n",
              "      <td>...</td>\n",
              "      <td>...</td>\n",
              "      <td>...</td>\n",
              "      <td>...</td>\n",
              "      <td>...</td>\n",
              "      <td>...</td>\n",
              "      <td>...</td>\n",
              "      <td>...</td>\n",
              "      <td>...</td>\n",
              "      <td>...</td>\n",
              "      <td>...</td>\n",
              "      <td>...</td>\n",
              "      <td>...</td>\n",
              "      <td>...</td>\n",
              "      <td>...</td>\n",
              "      <td>...</td>\n",
              "      <td>...</td>\n",
              "      <td>...</td>\n",
              "      <td>...</td>\n",
              "      <td>...</td>\n",
              "    </tr>\n",
              "    <tr>\n",
              "      <th>2995</th>\n",
              "      <td>2996</td>\n",
              "      <td>NaN</td>\n",
              "      <td>0</td>\n",
              "      <td>[{'id': 35, 'name': 'Comedy'}, {'id': 10749, '...</td>\n",
              "      <td>NaN</td>\n",
              "      <td>tt0109403</td>\n",
              "      <td>en</td>\n",
              "      <td>Chasers</td>\n",
              "      <td>Military men Rock Reilly and Eddie Devane are ...</td>\n",
              "      <td>9.853270</td>\n",
              "      <td>/j8Q7pQ27hvH54wpxJzIuQgQCdro.jpg</td>\n",
              "      <td>[{'name': 'Warner Bros.', 'id': 6194}, {'name'...</td>\n",
              "      <td>[{'iso_3166_1': 'US', 'name': 'United States o...</td>\n",
              "      <td>4/22/94</td>\n",
              "      <td>102.0</td>\n",
              "      <td>[{'iso_639_1': 'en', 'name': 'English'}]</td>\n",
              "      <td>Released</td>\n",
              "      <td>It was supposed to be a routine prisoner trans...</td>\n",
              "      <td>Chasers</td>\n",
              "      <td>[{'id': 378, 'name': 'prison'}, {'id': 572, 'n...</td>\n",
              "      <td>[{'cast_id': 2, 'character': 'Rock Reilly', 'c...</td>\n",
              "      <td>[{'credit_id': '52fe4494c3a368484e02ac7d', 'de...</td>\n",
              "      <td>1596687</td>\n",
              "    </tr>\n",
              "    <tr>\n",
              "      <th>2996</th>\n",
              "      <td>2997</td>\n",
              "      <td>NaN</td>\n",
              "      <td>0</td>\n",
              "      <td>[{'id': 18, 'name': 'Drama'}, {'id': 10402, 'n...</td>\n",
              "      <td>NaN</td>\n",
              "      <td>tt2364975</td>\n",
              "      <td>sv</td>\n",
              "      <td>Vi är bäst!</td>\n",
              "      <td>Three girls in 1980s Stockholm decide to form ...</td>\n",
              "      <td>3.727996</td>\n",
              "      <td>/sS01LSy6KDrCZAhtkO18UdnWFT1.jpg</td>\n",
              "      <td>[{'name': 'Memfis Film', 'id': 321}, {'name': ...</td>\n",
              "      <td>[{'iso_3166_1': 'DK', 'name': 'Denmark'}, {'is...</td>\n",
              "      <td>3/28/13</td>\n",
              "      <td>102.0</td>\n",
              "      <td>[{'iso_639_1': 'sv', 'name': 'svenska'}]</td>\n",
              "      <td>Released</td>\n",
              "      <td>NaN</td>\n",
              "      <td>We Are the Best!</td>\n",
              "      <td>[{'id': 1192, 'name': 'sweden'}, {'id': 4470, ...</td>\n",
              "      <td>[{'cast_id': 5, 'character': 'Bobo', 'credit_i...</td>\n",
              "      <td>[{'credit_id': '5716b72ac3a3686678012c84', 'de...</td>\n",
              "      <td>180590</td>\n",
              "    </tr>\n",
              "    <tr>\n",
              "      <th>2997</th>\n",
              "      <td>2998</td>\n",
              "      <td>NaN</td>\n",
              "      <td>65000000</td>\n",
              "      <td>[{'id': 80, 'name': 'Crime'}, {'id': 28, 'name...</td>\n",
              "      <td>NaN</td>\n",
              "      <td>tt0116908</td>\n",
              "      <td>en</td>\n",
              "      <td>The Long Kiss Goodnight</td>\n",
              "      <td>Samantha Caine, suburban homemaker, is the ide...</td>\n",
              "      <td>14.482345</td>\n",
              "      <td>/4MENR8x6mYqnZvp2hGjSaPJz64J.jpg</td>\n",
              "      <td>[{'name': 'New Line Cinema', 'id': 12}, {'name...</td>\n",
              "      <td>[{'iso_3166_1': 'US', 'name': 'United States o...</td>\n",
              "      <td>10/11/96</td>\n",
              "      <td>120.0</td>\n",
              "      <td>[{'iso_639_1': 'en', 'name': 'English'}]</td>\n",
              "      <td>Released</td>\n",
              "      <td>What's forgotten is not always gone.</td>\n",
              "      <td>The Long Kiss Goodnight</td>\n",
              "      <td>[{'id': 441, 'name': 'assassination'}, {'id': ...</td>\n",
              "      <td>[{'cast_id': 10, 'character': 'Samantha Caine ...</td>\n",
              "      <td>[{'credit_id': '52fe443a9251416c7502d579', 'de...</td>\n",
              "      <td>89456761</td>\n",
              "    </tr>\n",
              "    <tr>\n",
              "      <th>2998</th>\n",
              "      <td>2999</td>\n",
              "      <td>NaN</td>\n",
              "      <td>42000000</td>\n",
              "      <td>[{'id': 35, 'name': 'Comedy'}, {'id': 10749, '...</td>\n",
              "      <td>http://www.alongcamepolly.com/</td>\n",
              "      <td>tt0343135</td>\n",
              "      <td>en</td>\n",
              "      <td>Along Came Polly</td>\n",
              "      <td>Reuben Feffer is a guy who's spent his entire ...</td>\n",
              "      <td>15.725542</td>\n",
              "      <td>/nIY4kvJTTnxoBR0wycrXng5MOYs.jpg</td>\n",
              "      <td>[{'name': 'Jersey Films', 'id': 216}, {'name':...</td>\n",
              "      <td>[{'iso_3166_1': 'US', 'name': 'United States o...</td>\n",
              "      <td>1/16/04</td>\n",
              "      <td>90.0</td>\n",
              "      <td>[{'iso_639_1': 'en', 'name': 'English'}]</td>\n",
              "      <td>Released</td>\n",
              "      <td>For the most cautious man on Earth, life is ab...</td>\n",
              "      <td>Along Came Polly</td>\n",
              "      <td>[{'id': 966, 'name': 'beach'}, {'id': 2676, 'n...</td>\n",
              "      <td>[{'cast_id': 8, 'character': 'Reuben Feffer', ...</td>\n",
              "      <td>[{'credit_id': '556f817b9251410866000a63', 'de...</td>\n",
              "      <td>171963386</td>\n",
              "    </tr>\n",
              "    <tr>\n",
              "      <th>2999</th>\n",
              "      <td>3000</td>\n",
              "      <td>NaN</td>\n",
              "      <td>35000000</td>\n",
              "      <td>[{'id': 53, 'name': 'Thriller'}, {'id': 28, 'n...</td>\n",
              "      <td>http://www.abductionthefilm.com/</td>\n",
              "      <td>tt1600195</td>\n",
              "      <td>en</td>\n",
              "      <td>Abduction</td>\n",
              "      <td>A young man sets out to uncover the truth abou...</td>\n",
              "      <td>10.512109</td>\n",
              "      <td>/cUT6NQP5LAJpmUoStGtXmvNt4zA.jpg</td>\n",
              "      <td>[{'name': 'Lions Gate Films', 'id': 35}, {'nam...</td>\n",
              "      <td>[{'iso_3166_1': 'US', 'name': 'United States o...</td>\n",
              "      <td>9/22/11</td>\n",
              "      <td>106.0</td>\n",
              "      <td>[{'iso_639_1': 'en', 'name': 'English'}]</td>\n",
              "      <td>Released</td>\n",
              "      <td>They stole his life. He's taking it back.</td>\n",
              "      <td>Abduction</td>\n",
              "      <td>[{'id': 591, 'name': 'cia'}, {'id': 822, 'name...</td>\n",
              "      <td>[{'cast_id': 2, 'character': 'Nathan Harper', ...</td>\n",
              "      <td>[{'credit_id': '5391990d0e0a260fb5001629', 'de...</td>\n",
              "      <td>82087155</td>\n",
              "    </tr>\n",
              "  </tbody>\n",
              "</table>\n",
              "<p>3000 rows × 23 columns</p>\n",
              "</div>"
            ],
            "text/plain": [
              "        id  ...    revenue\n",
              "0        1  ...   12314651\n",
              "1        2  ...   95149435\n",
              "2        3  ...   13092000\n",
              "3        4  ...   16000000\n",
              "4        5  ...    3923970\n",
              "...    ...  ...        ...\n",
              "2995  2996  ...    1596687\n",
              "2996  2997  ...     180590\n",
              "2997  2998  ...   89456761\n",
              "2998  2999  ...  171963386\n",
              "2999  3000  ...   82087155\n",
              "\n",
              "[3000 rows x 23 columns]"
            ]
          },
          "metadata": {},
          "execution_count": 5
        }
      ]
    },
    {
      "cell_type": "code",
      "metadata": {
        "id": "nLbcOTGg0Ip2"
      },
      "source": [
        "# Creating dataframe from dictionary\n",
        "\n",
        "person = {\n",
        "    \"first\": \"Corey\", \n",
        "    \"last\": \"Schafer\", \n",
        "    \"email\": \"CoreyMSchafer@gmail.com\"\n",
        "}\n",
        "\n",
        "\n",
        "\n",
        "people = {\n",
        "    \"first\": [\"Corey\"], \n",
        "    \"last\": [\"Schafer\"], \n",
        "    \"email\": [\"CoreyMSchafer@gmail.com\"]\n",
        "}\n",
        "\n",
        "\n",
        "people = {\n",
        "    \"first\": [\"Corey\", 'Jane', 'John'], \n",
        "    \"last\": [\"Schafer\", 'Doe', 'Doe'], \n",
        "    \"email\": [\"CoreyMSchafer@gmail.com\", 'JaneDoe@email.com', 'JohnDoe@email.com']\n",
        "}"
      ],
      "execution_count": null,
      "outputs": []
    },
    {
      "cell_type": "code",
      "metadata": {
        "colab": {
          "base_uri": "https://localhost:8080/"
        },
        "id": "3xCiV12E1GkF",
        "outputId": "48c7c87b-ac31-4fff-bb72-06871cc3fae7"
      },
      "source": [
        "people['email']\n",
        "\n",
        "# We get the list of emails of the people"
      ],
      "execution_count": null,
      "outputs": [
        {
          "output_type": "execute_result",
          "data": {
            "text/plain": [
              "['CoreyMSchafer@gmail.com', 'JaneDoe@email.com', 'JohnDoe@email.com']"
            ]
          },
          "metadata": {},
          "execution_count": 7
        }
      ]
    },
    {
      "cell_type": "code",
      "metadata": {
        "id": "z5k4FcAp1LD9"
      },
      "source": [
        "# We can create dataframe \n",
        "\n",
        "df = pd.DataFrame(people)"
      ],
      "execution_count": null,
      "outputs": []
    },
    {
      "cell_type": "code",
      "metadata": {
        "colab": {
          "base_uri": "https://localhost:8080/",
          "height": 142
        },
        "id": "b-GQQNHG1akS",
        "outputId": "e4c2ba0e-ce7b-431e-a76d-43f7aa73cd2b"
      },
      "source": [
        "df"
      ],
      "execution_count": null,
      "outputs": [
        {
          "output_type": "execute_result",
          "data": {
            "text/html": [
              "<div>\n",
              "<style scoped>\n",
              "    .dataframe tbody tr th:only-of-type {\n",
              "        vertical-align: middle;\n",
              "    }\n",
              "\n",
              "    .dataframe tbody tr th {\n",
              "        vertical-align: top;\n",
              "    }\n",
              "\n",
              "    .dataframe thead th {\n",
              "        text-align: right;\n",
              "    }\n",
              "</style>\n",
              "<table border=\"1\" class=\"dataframe\">\n",
              "  <thead>\n",
              "    <tr style=\"text-align: right;\">\n",
              "      <th></th>\n",
              "      <th>first</th>\n",
              "      <th>last</th>\n",
              "      <th>email</th>\n",
              "    </tr>\n",
              "  </thead>\n",
              "  <tbody>\n",
              "    <tr>\n",
              "      <th>0</th>\n",
              "      <td>Corey</td>\n",
              "      <td>Schafer</td>\n",
              "      <td>CoreyMSchafer@gmail.com</td>\n",
              "    </tr>\n",
              "    <tr>\n",
              "      <th>1</th>\n",
              "      <td>Jane</td>\n",
              "      <td>Doe</td>\n",
              "      <td>JaneDoe@email.com</td>\n",
              "    </tr>\n",
              "    <tr>\n",
              "      <th>2</th>\n",
              "      <td>John</td>\n",
              "      <td>Doe</td>\n",
              "      <td>JohnDoe@email.com</td>\n",
              "    </tr>\n",
              "  </tbody>\n",
              "</table>\n",
              "</div>"
            ],
            "text/plain": [
              "   first     last                    email\n",
              "0  Corey  Schafer  CoreyMSchafer@gmail.com\n",
              "1   Jane      Doe        JaneDoe@email.com\n",
              "2   John      Doe        JohnDoe@email.com"
            ]
          },
          "metadata": {},
          "execution_count": 9
        }
      ]
    },
    {
      "cell_type": "code",
      "metadata": {
        "colab": {
          "base_uri": "https://localhost:8080/"
        },
        "id": "4I0oOtTJ1cpz",
        "outputId": "353dea35-e13e-4391-bfdd-4f5e7ab023a8"
      },
      "source": [
        "# Accessing values of a dataframe\n",
        "\n",
        "df['email']"
      ],
      "execution_count": null,
      "outputs": [
        {
          "output_type": "execute_result",
          "data": {
            "text/plain": [
              "0    CoreyMSchafer@gmail.com\n",
              "1          JaneDoe@email.com\n",
              "2          JohnDoe@email.com\n",
              "Name: email, dtype: object"
            ]
          },
          "metadata": {},
          "execution_count": 10
        }
      ]
    },
    {
      "cell_type": "code",
      "metadata": {
        "colab": {
          "base_uri": "https://localhost:8080/"
        },
        "id": "jIG0XWdy1ttk",
        "outputId": "a9cb885f-a871-421f-e594-3931adb806c0"
      },
      "source": [
        "type(df['email'])"
      ],
      "execution_count": null,
      "outputs": [
        {
          "output_type": "execute_result",
          "data": {
            "text/plain": [
              "pandas.core.series.Series"
            ]
          },
          "metadata": {},
          "execution_count": 11
        }
      ]
    },
    {
      "cell_type": "code",
      "metadata": {
        "colab": {
          "base_uri": "https://localhost:8080/",
          "height": 142
        },
        "id": "XbX8ymNc1_Sl",
        "outputId": "2be80e19-5cb5-452e-a44d-8f891cf94c19"
      },
      "source": [
        "df[['last', 'email']]"
      ],
      "execution_count": null,
      "outputs": [
        {
          "output_type": "execute_result",
          "data": {
            "text/html": [
              "<div>\n",
              "<style scoped>\n",
              "    .dataframe tbody tr th:only-of-type {\n",
              "        vertical-align: middle;\n",
              "    }\n",
              "\n",
              "    .dataframe tbody tr th {\n",
              "        vertical-align: top;\n",
              "    }\n",
              "\n",
              "    .dataframe thead th {\n",
              "        text-align: right;\n",
              "    }\n",
              "</style>\n",
              "<table border=\"1\" class=\"dataframe\">\n",
              "  <thead>\n",
              "    <tr style=\"text-align: right;\">\n",
              "      <th></th>\n",
              "      <th>last</th>\n",
              "      <th>email</th>\n",
              "    </tr>\n",
              "  </thead>\n",
              "  <tbody>\n",
              "    <tr>\n",
              "      <th>0</th>\n",
              "      <td>Schafer</td>\n",
              "      <td>CoreyMSchafer@gmail.com</td>\n",
              "    </tr>\n",
              "    <tr>\n",
              "      <th>1</th>\n",
              "      <td>Doe</td>\n",
              "      <td>JaneDoe@email.com</td>\n",
              "    </tr>\n",
              "    <tr>\n",
              "      <th>2</th>\n",
              "      <td>Doe</td>\n",
              "      <td>JohnDoe@email.com</td>\n",
              "    </tr>\n",
              "  </tbody>\n",
              "</table>\n",
              "</div>"
            ],
            "text/plain": [
              "      last                    email\n",
              "0  Schafer  CoreyMSchafer@gmail.com\n",
              "1      Doe        JaneDoe@email.com\n",
              "2      Doe        JohnDoe@email.com"
            ]
          },
          "metadata": {},
          "execution_count": 12
        }
      ]
    },
    {
      "cell_type": "code",
      "metadata": {
        "colab": {
          "base_uri": "https://localhost:8080/"
        },
        "id": "Bm67Lqmc2jrW",
        "outputId": "abc6860e-5e8b-4b6d-ae1e-f4af783d7728"
      },
      "source": [
        "# TO get columns we can do like this\n",
        "\n",
        "df.columns"
      ],
      "execution_count": null,
      "outputs": [
        {
          "output_type": "execute_result",
          "data": {
            "text/plain": [
              "Index(['first', 'last', 'email'], dtype='object')"
            ]
          },
          "metadata": {},
          "execution_count": 13
        }
      ]
    },
    {
      "cell_type": "code",
      "metadata": {
        "id": "C2bPVPH63Ssx",
        "colab": {
          "base_uri": "https://localhost:8080/"
        },
        "outputId": "7c22c342-eac3-464a-f0f7-ee2c814fc70b"
      },
      "source": [
        "# To get the first row \n",
        "# Remember that in iloc we are searching by integer locations\n",
        "df.iloc[0]"
      ],
      "execution_count": null,
      "outputs": [
        {
          "output_type": "execute_result",
          "data": {
            "text/plain": [
              "first                      Corey\n",
              "last                     Schafer\n",
              "email    CoreyMSchafer@gmail.com\n",
              "Name: 0, dtype: object"
            ]
          },
          "metadata": {},
          "execution_count": 14
        }
      ]
    },
    {
      "cell_type": "code",
      "metadata": {
        "id": "A5JdEH_x28fc",
        "colab": {
          "base_uri": "https://localhost:8080/",
          "height": 110
        },
        "outputId": "442eba30-8288-4225-b338-64f938ab3574"
      },
      "source": [
        "# Similarly if we want first and second row\n",
        "\n",
        "df.iloc[[0, 1]]"
      ],
      "execution_count": null,
      "outputs": [
        {
          "output_type": "execute_result",
          "data": {
            "text/html": [
              "<div>\n",
              "<style scoped>\n",
              "    .dataframe tbody tr th:only-of-type {\n",
              "        vertical-align: middle;\n",
              "    }\n",
              "\n",
              "    .dataframe tbody tr th {\n",
              "        vertical-align: top;\n",
              "    }\n",
              "\n",
              "    .dataframe thead th {\n",
              "        text-align: right;\n",
              "    }\n",
              "</style>\n",
              "<table border=\"1\" class=\"dataframe\">\n",
              "  <thead>\n",
              "    <tr style=\"text-align: right;\">\n",
              "      <th></th>\n",
              "      <th>first</th>\n",
              "      <th>last</th>\n",
              "      <th>email</th>\n",
              "    </tr>\n",
              "  </thead>\n",
              "  <tbody>\n",
              "    <tr>\n",
              "      <th>0</th>\n",
              "      <td>Corey</td>\n",
              "      <td>Schafer</td>\n",
              "      <td>CoreyMSchafer@gmail.com</td>\n",
              "    </tr>\n",
              "    <tr>\n",
              "      <th>1</th>\n",
              "      <td>Jane</td>\n",
              "      <td>Doe</td>\n",
              "      <td>JaneDoe@email.com</td>\n",
              "    </tr>\n",
              "  </tbody>\n",
              "</table>\n",
              "</div>"
            ],
            "text/plain": [
              "   first     last                    email\n",
              "0  Corey  Schafer  CoreyMSchafer@gmail.com\n",
              "1   Jane      Doe        JaneDoe@email.com"
            ]
          },
          "metadata": {},
          "execution_count": 15
        }
      ]
    },
    {
      "cell_type": "code",
      "metadata": {
        "id": "7buJ6GDb2jzE",
        "colab": {
          "base_uri": "https://localhost:8080/"
        },
        "outputId": "c04c68ab-eaa6-4e9a-f4ff-e8a312861f24"
      },
      "source": [
        "# if we want required column lets say we want email's first two column values\n",
        "\n",
        "df.iloc[[0, 1], 2]"
      ],
      "execution_count": null,
      "outputs": [
        {
          "output_type": "execute_result",
          "data": {
            "text/plain": [
              "0    CoreyMSchafer@gmail.com\n",
              "1          JaneDoe@email.com\n",
              "Name: email, dtype: object"
            ]
          },
          "metadata": {},
          "execution_count": 16
        }
      ]
    },
    {
      "cell_type": "code",
      "metadata": {
        "id": "aVJ2cyae2j52",
        "colab": {
          "base_uri": "https://localhost:8080/",
          "height": 142
        },
        "outputId": "3d0dc976-8a75-47d3-ff7f-d3b772afa580"
      },
      "source": [
        "df"
      ],
      "execution_count": null,
      "outputs": [
        {
          "output_type": "execute_result",
          "data": {
            "text/html": [
              "<div>\n",
              "<style scoped>\n",
              "    .dataframe tbody tr th:only-of-type {\n",
              "        vertical-align: middle;\n",
              "    }\n",
              "\n",
              "    .dataframe tbody tr th {\n",
              "        vertical-align: top;\n",
              "    }\n",
              "\n",
              "    .dataframe thead th {\n",
              "        text-align: right;\n",
              "    }\n",
              "</style>\n",
              "<table border=\"1\" class=\"dataframe\">\n",
              "  <thead>\n",
              "    <tr style=\"text-align: right;\">\n",
              "      <th></th>\n",
              "      <th>first</th>\n",
              "      <th>last</th>\n",
              "      <th>email</th>\n",
              "    </tr>\n",
              "  </thead>\n",
              "  <tbody>\n",
              "    <tr>\n",
              "      <th>0</th>\n",
              "      <td>Corey</td>\n",
              "      <td>Schafer</td>\n",
              "      <td>CoreyMSchafer@gmail.com</td>\n",
              "    </tr>\n",
              "    <tr>\n",
              "      <th>1</th>\n",
              "      <td>Jane</td>\n",
              "      <td>Doe</td>\n",
              "      <td>JaneDoe@email.com</td>\n",
              "    </tr>\n",
              "    <tr>\n",
              "      <th>2</th>\n",
              "      <td>John</td>\n",
              "      <td>Doe</td>\n",
              "      <td>JohnDoe@email.com</td>\n",
              "    </tr>\n",
              "  </tbody>\n",
              "</table>\n",
              "</div>"
            ],
            "text/plain": [
              "   first     last                    email\n",
              "0  Corey  Schafer  CoreyMSchafer@gmail.com\n",
              "1   Jane      Doe        JaneDoe@email.com\n",
              "2   John      Doe        JohnDoe@email.com"
            ]
          },
          "metadata": {},
          "execution_count": 17
        }
      ]
    },
    {
      "cell_type": "code",
      "metadata": {
        "colab": {
          "base_uri": "https://localhost:8080/"
        },
        "id": "Gb7tRdv40iQU",
        "outputId": "1b2dad7e-8dca-45f7-e849-a5aa69ccd5db"
      },
      "source": [
        "# We can also use loc function\n",
        "# loc function uses labels values\n",
        "\n",
        "df.loc[[0, 1], 'email']"
      ],
      "execution_count": null,
      "outputs": [
        {
          "output_type": "execute_result",
          "data": {
            "text/plain": [
              "0    CoreyMSchafer@gmail.com\n",
              "1          JaneDoe@email.com\n",
              "Name: email, dtype: object"
            ]
          },
          "metadata": {},
          "execution_count": 18
        }
      ]
    },
    {
      "cell_type": "code",
      "metadata": {
        "colab": {
          "base_uri": "https://localhost:8080/",
          "height": 110
        },
        "id": "PZh6UeDI0iVY",
        "outputId": "50fd2c25-69b5-41af-d770-26e40db094b9"
      },
      "source": [
        "# Similarly if we want last name and email we can pass a list of string\n",
        "\n",
        "df.loc[[0, 1], ['last', 'email']]"
      ],
      "execution_count": null,
      "outputs": [
        {
          "output_type": "execute_result",
          "data": {
            "text/html": [
              "<div>\n",
              "<style scoped>\n",
              "    .dataframe tbody tr th:only-of-type {\n",
              "        vertical-align: middle;\n",
              "    }\n",
              "\n",
              "    .dataframe tbody tr th {\n",
              "        vertical-align: top;\n",
              "    }\n",
              "\n",
              "    .dataframe thead th {\n",
              "        text-align: right;\n",
              "    }\n",
              "</style>\n",
              "<table border=\"1\" class=\"dataframe\">\n",
              "  <thead>\n",
              "    <tr style=\"text-align: right;\">\n",
              "      <th></th>\n",
              "      <th>last</th>\n",
              "      <th>email</th>\n",
              "    </tr>\n",
              "  </thead>\n",
              "  <tbody>\n",
              "    <tr>\n",
              "      <th>0</th>\n",
              "      <td>Schafer</td>\n",
              "      <td>CoreyMSchafer@gmail.com</td>\n",
              "    </tr>\n",
              "    <tr>\n",
              "      <th>1</th>\n",
              "      <td>Doe</td>\n",
              "      <td>JaneDoe@email.com</td>\n",
              "    </tr>\n",
              "  </tbody>\n",
              "</table>\n",
              "</div>"
            ],
            "text/plain": [
              "      last                    email\n",
              "0  Schafer  CoreyMSchafer@gmail.com\n",
              "1      Doe        JaneDoe@email.com"
            ]
          },
          "metadata": {},
          "execution_count": 20
        }
      ]
    },
    {
      "cell_type": "markdown",
      "metadata": {
        "id": "JrW0Q56Y16TV"
      },
      "source": [
        "## Now Let's do pandas operations on csv files"
      ]
    },
    {
      "cell_type": "code",
      "metadata": {
        "colab": {
          "base_uri": "https://localhost:8080/"
        },
        "id": "zuCLCMJY2dyr",
        "outputId": "cf2fc9e5-e0e5-452b-f0d7-2f299ecd542c"
      },
      "source": [
        "# To get the shape of the file\n",
        "\n",
        "df.shape\n",
        "\n",
        "# 3000 rows and 23 columns"
      ],
      "execution_count": null,
      "outputs": [
        {
          "output_type": "execute_result",
          "data": {
            "text/plain": [
              "(3000, 23)"
            ]
          },
          "metadata": {},
          "execution_count": 25
        }
      ]
    },
    {
      "cell_type": "code",
      "metadata": {
        "colab": {
          "base_uri": "https://localhost:8080/"
        },
        "id": "2DTCsArp2Cpz",
        "outputId": "b5cfffaa-d3b5-4f6a-e0bf-080c05880c4f"
      },
      "source": [
        "# To get the total number of columns \n",
        "\n",
        "df.columns"
      ],
      "execution_count": null,
      "outputs": [
        {
          "output_type": "execute_result",
          "data": {
            "text/plain": [
              "Index(['id', 'belongs_to_collection', 'budget', 'genres', 'homepage',\n",
              "       'imdb_id', 'original_language', 'original_title', 'overview',\n",
              "       'popularity', 'poster_path', 'production_companies',\n",
              "       'production_countries', 'release_date', 'runtime', 'spoken_languages',\n",
              "       'status', 'tagline', 'title', 'Keywords', 'cast', 'crew', 'revenue'],\n",
              "      dtype='object')"
            ]
          },
          "metadata": {},
          "execution_count": 24
        }
      ]
    },
    {
      "cell_type": "code",
      "metadata": {
        "colab": {
          "base_uri": "https://localhost:8080/"
        },
        "id": "H_ivZ85W2Cyg",
        "outputId": "a9f2d0ba-c6bd-4c68-9eda-413e02df5445"
      },
      "source": [
        "# If we want title columns list\n",
        "\n",
        "df['title']"
      ],
      "execution_count": null,
      "outputs": [
        {
          "output_type": "execute_result",
          "data": {
            "text/plain": [
              "0                         Hot Tub Time Machine 2\n",
              "1       The Princess Diaries 2: Royal Engagement\n",
              "2                                       Whiplash\n",
              "3                                        Kahaani\n",
              "4                                     Marine Boy\n",
              "                          ...                   \n",
              "2995                                     Chasers\n",
              "2996                            We Are the Best!\n",
              "2997                     The Long Kiss Goodnight\n",
              "2998                            Along Came Polly\n",
              "2999                                   Abduction\n",
              "Name: title, Length: 3000, dtype: object"
            ]
          },
          "metadata": {},
          "execution_count": 26
        }
      ]
    },
    {
      "cell_type": "code",
      "metadata": {
        "colab": {
          "base_uri": "https://localhost:8080/"
        },
        "id": "0bMQiZg52C7T",
        "outputId": "f412283f-6d93-4b87-c33c-76b5d0c1cbf0"
      },
      "source": [
        "# similaly for spoken language\n",
        "\n",
        "df['original_language']"
      ],
      "execution_count": null,
      "outputs": [
        {
          "output_type": "execute_result",
          "data": {
            "text/plain": [
              "0       en\n",
              "1       en\n",
              "2       en\n",
              "3       hi\n",
              "4       ko\n",
              "        ..\n",
              "2995    en\n",
              "2996    sv\n",
              "2997    en\n",
              "2998    en\n",
              "2999    en\n",
              "Name: original_language, Length: 3000, dtype: object"
            ]
          },
          "metadata": {},
          "execution_count": 31
        }
      ]
    },
    {
      "cell_type": "code",
      "metadata": {
        "colab": {
          "base_uri": "https://localhost:8080/"
        },
        "id": "2u96D79O0iZP",
        "outputId": "90ec7bc9-3cd8-40fe-e95b-4adb6a4fb053"
      },
      "source": [
        "# To count how many films used english language and so on \n",
        "# We can use value_counts function to do that\n",
        "\n",
        "df['original_language'].value_counts()\n",
        "\n",
        "# Here we can see that english used in 2575 films similarly french in 78 movies and so on"
      ],
      "execution_count": null,
      "outputs": [
        {
          "output_type": "execute_result",
          "data": {
            "text/plain": [
              "en    2575\n",
              "fr      78\n",
              "ru      47\n",
              "es      43\n",
              "hi      42\n",
              "ja      37\n",
              "it      24\n",
              "ko      20\n",
              "cn      20\n",
              "zh      19\n",
              "de      18\n",
              "ta      16\n",
              "sv       8\n",
              "nl       6\n",
              "pt       6\n",
              "da       5\n",
              "fa       5\n",
              "ro       4\n",
              "tr       3\n",
              "hu       3\n",
              "pl       2\n",
              "ml       2\n",
              "no       2\n",
              "te       2\n",
              "fi       2\n",
              "nb       1\n",
              "ur       1\n",
              "id       1\n",
              "ar       1\n",
              "vi       1\n",
              "el       1\n",
              "cs       1\n",
              "mr       1\n",
              "bn       1\n",
              "he       1\n",
              "sr       1\n",
              "Name: original_language, dtype: int64"
            ]
          },
          "metadata": {},
          "execution_count": 33
        }
      ]
    },
    {
      "cell_type": "code",
      "metadata": {
        "colab": {
          "base_uri": "https://localhost:8080/"
        },
        "id": "T_V7gGVH4MoY",
        "outputId": "5de17e4d-f239-4dd3-d769-c43228c35baf"
      },
      "source": [
        "# To get the first rows we can use loc and iloc \n",
        "# Here label is 0 so we have used label as integer value in loc function\n",
        "\n",
        "df.loc[0]\n",
        "\n",
        "# This is the information of the first rows "
      ],
      "execution_count": null,
      "outputs": [
        {
          "output_type": "execute_result",
          "data": {
            "text/plain": [
              "id                                                                       1\n",
              "belongs_to_collection    [{'id': 313576, 'name': 'Hot Tub Time Machine ...\n",
              "budget                                                            14000000\n",
              "genres                                      [{'id': 35, 'name': 'Comedy'}]\n",
              "homepage                                                               NaN\n",
              "imdb_id                                                          tt2637294\n",
              "original_language                                                       en\n",
              "original_title                                      Hot Tub Time Machine 2\n",
              "overview                 When Lou, who has become the \"father of the In...\n",
              "popularity                                                         6.57539\n",
              "poster_path                               /tQtWuwvMf0hCc2QR2tkolwl7c3c.jpg\n",
              "production_companies     [{'name': 'Paramount Pictures', 'id': 4}, {'na...\n",
              "production_countries     [{'iso_3166_1': 'US', 'name': 'United States o...\n",
              "release_date                                                       2/20/15\n",
              "runtime                                                                 93\n",
              "spoken_languages                  [{'iso_639_1': 'en', 'name': 'English'}]\n",
              "status                                                            Released\n",
              "tagline                  The Laws of Space and Time are About to be Vio...\n",
              "title                                               Hot Tub Time Machine 2\n",
              "Keywords                 [{'id': 4379, 'name': 'time travel'}, {'id': 9...\n",
              "cast                     [{'cast_id': 4, 'character': 'Lou', 'credit_id...\n",
              "crew                     [{'credit_id': '59ac067c92514107af02c8c8', 'de...\n",
              "revenue                                                           12314651\n",
              "Name: 0, dtype: object"
            ]
          },
          "metadata": {},
          "execution_count": 34
        }
      ]
    },
    {
      "cell_type": "code",
      "metadata": {
        "colab": {
          "base_uri": "https://localhost:8080/",
          "height": 35
        },
        "id": "lxBBh6BW4Ptz",
        "outputId": "a4979ed9-af19-49fd-91d9-ce3d6acd4072"
      },
      "source": [
        "# Similarly if we want to see a particular column in the rows \n",
        "# lets say we want to see the title column of the first rows\n",
        "\n",
        "df.loc[0, 'title']\n",
        "\n",
        "# Note here that we have used label title to get the values"
      ],
      "execution_count": null,
      "outputs": [
        {
          "output_type": "execute_result",
          "data": {
            "application/vnd.google.colaboratory.intrinsic+json": {
              "type": "string"
            },
            "text/plain": [
              "'Hot Tub Time Machine 2'"
            ]
          },
          "metadata": {},
          "execution_count": 36
        }
      ]
    },
    {
      "cell_type": "code",
      "metadata": {
        "colab": {
          "base_uri": "https://localhost:8080/"
        },
        "id": "PG3yBVlT5o6E",
        "outputId": "81b3cc4d-11a0-48b8-cf64-448c6ed2ca14"
      },
      "source": [
        "# If we want title of the first 3 rows \n",
        "\n",
        "df.loc[[0, 1, 2], 'title']"
      ],
      "execution_count": null,
      "outputs": [
        {
          "output_type": "execute_result",
          "data": {
            "text/plain": [
              "0                      Hot Tub Time Machine 2\n",
              "1    The Princess Diaries 2: Royal Engagement\n",
              "2                                    Whiplash\n",
              "Name: title, dtype: object"
            ]
          },
          "metadata": {},
          "execution_count": 39
        }
      ]
    },
    {
      "cell_type": "code",
      "metadata": {
        "colab": {
          "base_uri": "https://localhost:8080/"
        },
        "id": "JaHs4ukm4PxZ",
        "outputId": "1807cc0e-a705-4289-b79a-ab5b6d7f4455"
      },
      "source": [
        "# We can do this by using list slicing \n",
        "\n",
        "df.loc[0:2, 'title']\n",
        "\n",
        "# Note here that slicing values is inclusive here"
      ],
      "execution_count": null,
      "outputs": [
        {
          "output_type": "execute_result",
          "data": {
            "text/plain": [
              "0                      Hot Tub Time Machine 2\n",
              "1    The Princess Diaries 2: Royal Engagement\n",
              "2                                    Whiplash\n",
              "Name: title, dtype: object"
            ]
          },
          "metadata": {},
          "execution_count": 40
        }
      ]
    },
    {
      "cell_type": "code",
      "metadata": {
        "colab": {
          "base_uri": "https://localhost:8080/",
          "height": 142
        },
        "id": "e-00pzbx4P0e",
        "outputId": "f0c9a59d-c333-40f8-f134-2c955e686cf8"
      },
      "source": [
        "# If we want column values from title to revenue then\n",
        "\n",
        "df.loc[0:2, 'title':'revenue']"
      ],
      "execution_count": null,
      "outputs": [
        {
          "output_type": "execute_result",
          "data": {
            "text/html": [
              "<div>\n",
              "<style scoped>\n",
              "    .dataframe tbody tr th:only-of-type {\n",
              "        vertical-align: middle;\n",
              "    }\n",
              "\n",
              "    .dataframe tbody tr th {\n",
              "        vertical-align: top;\n",
              "    }\n",
              "\n",
              "    .dataframe thead th {\n",
              "        text-align: right;\n",
              "    }\n",
              "</style>\n",
              "<table border=\"1\" class=\"dataframe\">\n",
              "  <thead>\n",
              "    <tr style=\"text-align: right;\">\n",
              "      <th></th>\n",
              "      <th>title</th>\n",
              "      <th>Keywords</th>\n",
              "      <th>cast</th>\n",
              "      <th>crew</th>\n",
              "      <th>revenue</th>\n",
              "    </tr>\n",
              "  </thead>\n",
              "  <tbody>\n",
              "    <tr>\n",
              "      <th>0</th>\n",
              "      <td>Hot Tub Time Machine 2</td>\n",
              "      <td>[{'id': 4379, 'name': 'time travel'}, {'id': 9...</td>\n",
              "      <td>[{'cast_id': 4, 'character': 'Lou', 'credit_id...</td>\n",
              "      <td>[{'credit_id': '59ac067c92514107af02c8c8', 'de...</td>\n",
              "      <td>12314651</td>\n",
              "    </tr>\n",
              "    <tr>\n",
              "      <th>1</th>\n",
              "      <td>The Princess Diaries 2: Royal Engagement</td>\n",
              "      <td>[{'id': 2505, 'name': 'coronation'}, {'id': 42...</td>\n",
              "      <td>[{'cast_id': 1, 'character': 'Mia Thermopolis'...</td>\n",
              "      <td>[{'credit_id': '52fe43fe9251416c7502563d', 'de...</td>\n",
              "      <td>95149435</td>\n",
              "    </tr>\n",
              "    <tr>\n",
              "      <th>2</th>\n",
              "      <td>Whiplash</td>\n",
              "      <td>[{'id': 1416, 'name': 'jazz'}, {'id': 1523, 'n...</td>\n",
              "      <td>[{'cast_id': 5, 'character': 'Andrew Neimann',...</td>\n",
              "      <td>[{'credit_id': '54d5356ec3a3683ba0000039', 'de...</td>\n",
              "      <td>13092000</td>\n",
              "    </tr>\n",
              "  </tbody>\n",
              "</table>\n",
              "</div>"
            ],
            "text/plain": [
              "                                      title  ...   revenue\n",
              "0                    Hot Tub Time Machine 2  ...  12314651\n",
              "1  The Princess Diaries 2: Royal Engagement  ...  95149435\n",
              "2                                  Whiplash  ...  13092000\n",
              "\n",
              "[3 rows x 5 columns]"
            ]
          },
          "metadata": {},
          "execution_count": 41
        }
      ]
    },
    {
      "cell_type": "markdown",
      "metadata": {
        "id": "hTIHsqvS67DH"
      },
      "source": [
        "# You can see the documnetation of pandas library by clicking [here](https://pandas.pydata.org/docs/reference/api/pandas.DataFrame.html)"
      ]
    }
  ]
}