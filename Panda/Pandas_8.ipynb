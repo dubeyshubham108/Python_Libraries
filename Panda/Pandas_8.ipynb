{
  "nbformat": 4,
  "nbformat_minor": 0,
  "metadata": {
    "colab": {
      "name": "Pandas_8.ipynb",
      "provenance": [],
      "authorship_tag": "ABX9TyOVwxFw7Tto9zRb47G399TV",
      "include_colab_link": true
    },
    "kernelspec": {
      "name": "python3",
      "display_name": "Python 3"
    },
    "language_info": {
      "name": "python"
    }
  },
  "cells": [
    {
      "cell_type": "markdown",
      "metadata": {
        "id": "view-in-github",
        "colab_type": "text"
      },
      "source": [
        "<a href=\"https://colab.research.google.com/github/dubeyshubham786/Python_libraries/blob/main/Pandas_8.ipynb\" target=\"_parent\"><img src=\"https://colab.research.google.com/assets/colab-badge.svg\" alt=\"Open In Colab\"/></a>"
      ]
    },
    {
      "cell_type": "markdown",
      "metadata": {
        "id": "Fkt9U4Ok8vZk"
      },
      "source": [
        "# Grouping and Aggregating: Analysising and exporting your data"
      ]
    },
    {
      "cell_type": "code",
      "metadata": {
        "id": "lRJ56X_g8uUr"
      },
      "source": [
        "import pandas as pd"
      ],
      "execution_count": null,
      "outputs": []
    },
    {
      "cell_type": "code",
      "metadata": {
        "id": "ehPV7Fzj8uX8",
        "colab": {
          "base_uri": "https://localhost:8080/"
        },
        "outputId": "aaa79b0c-0ab4-447c-ab15-6472f593c452"
      },
      "source": [
        "from google.colab import drive\n",
        "drive.mount('/content/gdrive/')"
      ],
      "execution_count": null,
      "outputs": [
        {
          "output_type": "stream",
          "name": "stdout",
          "text": [
            "Mounted at /content/gdrive/\n"
          ]
        }
      ]
    },
    {
      "cell_type": "code",
      "metadata": {
        "id": "suml1Lq_8uar"
      },
      "source": [
        "df = pd.read_csv('/content/gdrive/MyDrive/Colab Notebooks/Github/Pandas/imdb_data.csv', index_col='id')\n"
      ],
      "execution_count": null,
      "outputs": []
    },
    {
      "cell_type": "code",
      "metadata": {
        "id": "gfDTT5Lq8udo",
        "colab": {
          "base_uri": "https://localhost:8080/",
          "height": 380
        },
        "outputId": "a1faf4e2-7f2a-40ad-abd1-5f308c53f285"
      },
      "source": [
        "df.head(2)"
      ],
      "execution_count": null,
      "outputs": [
        {
          "output_type": "execute_result",
          "data": {
            "text/html": [
              "<div>\n",
              "<style scoped>\n",
              "    .dataframe tbody tr th:only-of-type {\n",
              "        vertical-align: middle;\n",
              "    }\n",
              "\n",
              "    .dataframe tbody tr th {\n",
              "        vertical-align: top;\n",
              "    }\n",
              "\n",
              "    .dataframe thead th {\n",
              "        text-align: right;\n",
              "    }\n",
              "</style>\n",
              "<table border=\"1\" class=\"dataframe\">\n",
              "  <thead>\n",
              "    <tr style=\"text-align: right;\">\n",
              "      <th></th>\n",
              "      <th>belongs_to_collection</th>\n",
              "      <th>budget</th>\n",
              "      <th>genres</th>\n",
              "      <th>homepage</th>\n",
              "      <th>imdb_id</th>\n",
              "      <th>original_language</th>\n",
              "      <th>original_title</th>\n",
              "      <th>overview</th>\n",
              "      <th>popularity</th>\n",
              "      <th>poster_path</th>\n",
              "      <th>production_companies</th>\n",
              "      <th>production_countries</th>\n",
              "      <th>release_date</th>\n",
              "      <th>runtime</th>\n",
              "      <th>spoken_languages</th>\n",
              "      <th>status</th>\n",
              "      <th>tagline</th>\n",
              "      <th>title</th>\n",
              "      <th>Keywords</th>\n",
              "      <th>cast</th>\n",
              "      <th>crew</th>\n",
              "      <th>revenue</th>\n",
              "    </tr>\n",
              "    <tr>\n",
              "      <th>id</th>\n",
              "      <th></th>\n",
              "      <th></th>\n",
              "      <th></th>\n",
              "      <th></th>\n",
              "      <th></th>\n",
              "      <th></th>\n",
              "      <th></th>\n",
              "      <th></th>\n",
              "      <th></th>\n",
              "      <th></th>\n",
              "      <th></th>\n",
              "      <th></th>\n",
              "      <th></th>\n",
              "      <th></th>\n",
              "      <th></th>\n",
              "      <th></th>\n",
              "      <th></th>\n",
              "      <th></th>\n",
              "      <th></th>\n",
              "      <th></th>\n",
              "      <th></th>\n",
              "      <th></th>\n",
              "    </tr>\n",
              "  </thead>\n",
              "  <tbody>\n",
              "    <tr>\n",
              "      <th>1</th>\n",
              "      <td>[{'id': 313576, 'name': 'Hot Tub Time Machine ...</td>\n",
              "      <td>14000000</td>\n",
              "      <td>[{'id': 35, 'name': 'Comedy'}]</td>\n",
              "      <td>NaN</td>\n",
              "      <td>tt2637294</td>\n",
              "      <td>en</td>\n",
              "      <td>Hot Tub Time Machine 2</td>\n",
              "      <td>When Lou, who has become the \"father of the In...</td>\n",
              "      <td>6.575393</td>\n",
              "      <td>/tQtWuwvMf0hCc2QR2tkolwl7c3c.jpg</td>\n",
              "      <td>[{'name': 'Paramount Pictures', 'id': 4}, {'na...</td>\n",
              "      <td>[{'iso_3166_1': 'US', 'name': 'United States o...</td>\n",
              "      <td>2/20/15</td>\n",
              "      <td>93.0</td>\n",
              "      <td>[{'iso_639_1': 'en', 'name': 'English'}]</td>\n",
              "      <td>Released</td>\n",
              "      <td>The Laws of Space and Time are About to be Vio...</td>\n",
              "      <td>Hot Tub Time Machine 2</td>\n",
              "      <td>[{'id': 4379, 'name': 'time travel'}, {'id': 9...</td>\n",
              "      <td>[{'cast_id': 4, 'character': 'Lou', 'credit_id...</td>\n",
              "      <td>[{'credit_id': '59ac067c92514107af02c8c8', 'de...</td>\n",
              "      <td>12314651</td>\n",
              "    </tr>\n",
              "    <tr>\n",
              "      <th>2</th>\n",
              "      <td>[{'id': 107674, 'name': 'The Princess Diaries ...</td>\n",
              "      <td>40000000</td>\n",
              "      <td>[{'id': 35, 'name': 'Comedy'}, {'id': 18, 'nam...</td>\n",
              "      <td>NaN</td>\n",
              "      <td>tt0368933</td>\n",
              "      <td>en</td>\n",
              "      <td>The Princess Diaries 2: Royal Engagement</td>\n",
              "      <td>Mia Thermopolis is now a college graduate and ...</td>\n",
              "      <td>8.248895</td>\n",
              "      <td>/w9Z7A0GHEhIp7etpj0vyKOeU1Wx.jpg</td>\n",
              "      <td>[{'name': 'Walt Disney Pictures', 'id': 2}]</td>\n",
              "      <td>[{'iso_3166_1': 'US', 'name': 'United States o...</td>\n",
              "      <td>8/6/04</td>\n",
              "      <td>113.0</td>\n",
              "      <td>[{'iso_639_1': 'en', 'name': 'English'}]</td>\n",
              "      <td>Released</td>\n",
              "      <td>It can take a lifetime to find true love; she'...</td>\n",
              "      <td>The Princess Diaries 2: Royal Engagement</td>\n",
              "      <td>[{'id': 2505, 'name': 'coronation'}, {'id': 42...</td>\n",
              "      <td>[{'cast_id': 1, 'character': 'Mia Thermopolis'...</td>\n",
              "      <td>[{'credit_id': '52fe43fe9251416c7502563d', 'de...</td>\n",
              "      <td>95149435</td>\n",
              "    </tr>\n",
              "  </tbody>\n",
              "</table>\n",
              "</div>"
            ],
            "text/plain": [
              "                                belongs_to_collection  ...   revenue\n",
              "id                                                     ...          \n",
              "1   [{'id': 313576, 'name': 'Hot Tub Time Machine ...  ...  12314651\n",
              "2   [{'id': 107674, 'name': 'The Princess Diaries ...  ...  95149435\n",
              "\n",
              "[2 rows x 22 columns]"
            ]
          },
          "metadata": {},
          "execution_count": 4
        }
      ]
    },
    {
      "cell_type": "code",
      "metadata": {
        "id": "9wRk9CFw8uoj",
        "colab": {
          "base_uri": "https://localhost:8080/"
        },
        "outputId": "98439403-ab69-4ef0-fe35-14cb22056ebf"
      },
      "source": [
        "# First just look at the runtime \n",
        "\n",
        "df['runtime'].head(15)"
      ],
      "execution_count": null,
      "outputs": [
        {
          "output_type": "execute_result",
          "data": {
            "text/plain": [
              "id\n",
              "1      93.0\n",
              "2     113.0\n",
              "3     105.0\n",
              "4     122.0\n",
              "5     118.0\n",
              "6      83.0\n",
              "7      92.0\n",
              "8      84.0\n",
              "9     100.0\n",
              "10     91.0\n",
              "11    119.0\n",
              "12     98.0\n",
              "13    122.0\n",
              "14    118.0\n",
              "15    145.0\n",
              "Name: runtime, dtype: float64"
            ]
          },
          "metadata": {},
          "execution_count": 6
        }
      ]
    },
    {
      "cell_type": "code",
      "metadata": {
        "id": "SWg0w6vX8urr",
        "colab": {
          "base_uri": "https://localhost:8080/"
        },
        "outputId": "fb1ec880-a3de-4cd5-b63e-2a6ec9390ac7"
      },
      "source": [
        "# If we want median of this runtime columns\n",
        "\n",
        "df['runtime'].median()"
      ],
      "execution_count": null,
      "outputs": [
        {
          "output_type": "execute_result",
          "data": {
            "text/plain": [
              "104.0"
            ]
          },
          "metadata": {},
          "execution_count": 7
        }
      ]
    },
    {
      "cell_type": "code",
      "metadata": {
        "id": "hzGWvkvb8uuo",
        "colab": {
          "base_uri": "https://localhost:8080/"
        },
        "outputId": "253ad1ca-c4e2-4241-8c9c-096cbbe74398"
      },
      "source": [
        "# We can also take the median of the entire dataframe\n",
        "\n",
        "df.median()\n",
        "\n",
        "# This function look at the entire dataframe and which ever column contains numeric value it will give that median"
      ],
      "execution_count": null,
      "outputs": [
        {
          "output_type": "execute_result",
          "data": {
            "text/plain": [
              "budget        8.000000e+06\n",
              "popularity    7.374861e+00\n",
              "runtime       1.040000e+02\n",
              "revenue       1.680707e+07\n",
              "dtype: float64"
            ]
          },
          "metadata": {},
          "execution_count": 8
        }
      ]
    },
    {
      "cell_type": "code",
      "metadata": {
        "colab": {
          "base_uri": "https://localhost:8080/",
          "height": 295
        },
        "id": "amMhYBnjoKyW",
        "outputId": "1d53dae3-272a-479e-c2a8-39259d253c62"
      },
      "source": [
        "# To get the broad overview of our data we should look describe method\n",
        "\n",
        "df.describe()\n",
        "\n",
        "# Here the count values is the number of non NaN rows"
      ],
      "execution_count": null,
      "outputs": [
        {
          "output_type": "execute_result",
          "data": {
            "text/html": [
              "<div>\n",
              "<style scoped>\n",
              "    .dataframe tbody tr th:only-of-type {\n",
              "        vertical-align: middle;\n",
              "    }\n",
              "\n",
              "    .dataframe tbody tr th {\n",
              "        vertical-align: top;\n",
              "    }\n",
              "\n",
              "    .dataframe thead th {\n",
              "        text-align: right;\n",
              "    }\n",
              "</style>\n",
              "<table border=\"1\" class=\"dataframe\">\n",
              "  <thead>\n",
              "    <tr style=\"text-align: right;\">\n",
              "      <th></th>\n",
              "      <th>budget</th>\n",
              "      <th>popularity</th>\n",
              "      <th>runtime</th>\n",
              "      <th>revenue</th>\n",
              "    </tr>\n",
              "  </thead>\n",
              "  <tbody>\n",
              "    <tr>\n",
              "      <th>count</th>\n",
              "      <td>3.000000e+03</td>\n",
              "      <td>3000.000000</td>\n",
              "      <td>2998.000000</td>\n",
              "      <td>3.000000e+03</td>\n",
              "    </tr>\n",
              "    <tr>\n",
              "      <th>mean</th>\n",
              "      <td>2.253133e+07</td>\n",
              "      <td>8.463274</td>\n",
              "      <td>107.856571</td>\n",
              "      <td>6.672585e+07</td>\n",
              "    </tr>\n",
              "    <tr>\n",
              "      <th>std</th>\n",
              "      <td>3.702609e+07</td>\n",
              "      <td>12.104000</td>\n",
              "      <td>22.086434</td>\n",
              "      <td>1.375323e+08</td>\n",
              "    </tr>\n",
              "    <tr>\n",
              "      <th>min</th>\n",
              "      <td>0.000000e+00</td>\n",
              "      <td>0.000001</td>\n",
              "      <td>0.000000</td>\n",
              "      <td>1.000000e+00</td>\n",
              "    </tr>\n",
              "    <tr>\n",
              "      <th>25%</th>\n",
              "      <td>0.000000e+00</td>\n",
              "      <td>4.018053</td>\n",
              "      <td>94.000000</td>\n",
              "      <td>2.379808e+06</td>\n",
              "    </tr>\n",
              "    <tr>\n",
              "      <th>50%</th>\n",
              "      <td>8.000000e+06</td>\n",
              "      <td>7.374861</td>\n",
              "      <td>104.000000</td>\n",
              "      <td>1.680707e+07</td>\n",
              "    </tr>\n",
              "    <tr>\n",
              "      <th>75%</th>\n",
              "      <td>2.900000e+07</td>\n",
              "      <td>10.890983</td>\n",
              "      <td>118.000000</td>\n",
              "      <td>6.891920e+07</td>\n",
              "    </tr>\n",
              "    <tr>\n",
              "      <th>max</th>\n",
              "      <td>3.800000e+08</td>\n",
              "      <td>294.337037</td>\n",
              "      <td>338.000000</td>\n",
              "      <td>1.519558e+09</td>\n",
              "    </tr>\n",
              "  </tbody>\n",
              "</table>\n",
              "</div>"
            ],
            "text/plain": [
              "             budget   popularity      runtime       revenue\n",
              "count  3.000000e+03  3000.000000  2998.000000  3.000000e+03\n",
              "mean   2.253133e+07     8.463274   107.856571  6.672585e+07\n",
              "std    3.702609e+07    12.104000    22.086434  1.375323e+08\n",
              "min    0.000000e+00     0.000001     0.000000  1.000000e+00\n",
              "25%    0.000000e+00     4.018053    94.000000  2.379808e+06\n",
              "50%    8.000000e+06     7.374861   104.000000  1.680707e+07\n",
              "75%    2.900000e+07    10.890983   118.000000  6.891920e+07\n",
              "max    3.800000e+08   294.337037   338.000000  1.519558e+09"
            ]
          },
          "metadata": {},
          "execution_count": 10
        }
      ]
    },
    {
      "cell_type": "code",
      "metadata": {
        "colab": {
          "base_uri": "https://localhost:8080/"
        },
        "id": "wp_D8TbXoK3d",
        "outputId": "abffaff1-cc20-46db-f095-e941f4b4a3b4"
      },
      "source": [
        "# If we want to know how many are non NaN values in a particular column \n",
        "# Then we can do that by running the count method on a single column\n",
        "\n",
        "df['runtime'].count()\n"
      ],
      "execution_count": null,
      "outputs": [
        {
          "output_type": "execute_result",
          "data": {
            "text/plain": [
              "2998"
            ]
          },
          "metadata": {},
          "execution_count": 12
        }
      ]
    },
    {
      "cell_type": "code",
      "metadata": {
        "colab": {
          "base_uri": "https://localhost:8080/"
        },
        "id": "2pvsWgHuoK9L",
        "outputId": "117470e3-1733-42df-ea06-558b1ed2fa9b"
      },
      "source": [
        "df.shape"
      ],
      "execution_count": null,
      "outputs": [
        {
          "output_type": "execute_result",
          "data": {
            "text/plain": [
              "(3000, 22)"
            ]
          },
          "metadata": {},
          "execution_count": 13
        }
      ]
    },
    {
      "cell_type": "code",
      "metadata": {
        "colab": {
          "base_uri": "https://localhost:8080/"
        },
        "id": "iC97b7iooLDA",
        "outputId": "dc5dbdcd-4a32-4728-82b3-d3c839fc2e33"
      },
      "source": [
        "# To see how many movies are there whose runtime is same.\n",
        "# For this we will use value_counts() method\n",
        "\n",
        "df['runtime'].value_counts().head(25)\n",
        "\n",
        "# Here we can see that there are total 100 movies whose runtime is 90 minutes\n",
        "# 99 movies whose runtime is 100, 91 movies whose runtime is 105 minutes and so on. "
      ],
      "execution_count": null,
      "outputs": [
        {
          "output_type": "execute_result",
          "data": {
            "text/plain": [
              "90.0     100\n",
              "100.0     99\n",
              "105.0     91\n",
              "95.0      89\n",
              "98.0      85\n",
              "97.0      82\n",
              "99.0      80\n",
              "93.0      78\n",
              "96.0      78\n",
              "108.0     77\n",
              "106.0     73\n",
              "89.0      67\n",
              "94.0      66\n",
              "104.0     63\n",
              "102.0     62\n",
              "91.0      60\n",
              "107.0     59\n",
              "103.0     56\n",
              "110.0     54\n",
              "101.0     54\n",
              "113.0     52\n",
              "87.0      51\n",
              "115.0     49\n",
              "112.0     48\n",
              "120.0     48\n",
              "Name: runtime, dtype: int64"
            ]
          },
          "metadata": {},
          "execution_count": 19
        }
      ]
    },
    {
      "cell_type": "code",
      "metadata": {
        "colab": {
          "base_uri": "https://localhost:8080/"
        },
        "id": "JjYcu5uxoLHg",
        "outputId": "80edc686-4a1f-4a22-ec03-dcfd37d5aa0f"
      },
      "source": [
        "# Now if we want to show this in percentage then \n",
        "\n",
        "df['runtime'].value_counts(normalize=True)\n",
        "\n",
        "# There are 3.33356% movies in our dataframe whose length is 90 minutes\n",
        "# similarly 2.835% movies in our dataframe whose lenght is 98 minutes and so on.\n"
      ],
      "execution_count": null,
      "outputs": [
        {
          "output_type": "execute_result",
          "data": {
            "text/plain": [
              "90.0     0.033356\n",
              "100.0    0.033022\n",
              "105.0    0.030354\n",
              "95.0     0.029686\n",
              "98.0     0.028352\n",
              "           ...   \n",
              "11.0     0.000334\n",
              "62.0     0.000334\n",
              "66.0     0.000334\n",
              "248.0    0.000334\n",
              "177.0    0.000334\n",
              "Name: runtime, Length: 139, dtype: float64"
            ]
          },
          "metadata": {},
          "execution_count": 20
        }
      ]
    },
    {
      "cell_type": "code",
      "metadata": {
        "colab": {
          "base_uri": "https://localhost:8080/"
        },
        "id": "RQAhyMpooLNF",
        "outputId": "4ea711c5-987c-4c26-a1a1-adb4f7bfd577"
      },
      "source": [
        "# Now if we want to see how many movies whose original language is English \n",
        "# For this we will use the groupby function \n",
        "\n",
        "df['original_language'].value_counts()"
      ],
      "execution_count": null,
      "outputs": [
        {
          "output_type": "execute_result",
          "data": {
            "text/plain": [
              "en    2575\n",
              "fr      78\n",
              "ru      47\n",
              "es      43\n",
              "hi      42\n",
              "ja      37\n",
              "it      24\n",
              "ko      20\n",
              "cn      20\n",
              "zh      19\n",
              "de      18\n",
              "ta      16\n",
              "sv       8\n",
              "nl       6\n",
              "pt       6\n",
              "da       5\n",
              "fa       5\n",
              "ro       4\n",
              "hu       3\n",
              "tr       3\n",
              "pl       2\n",
              "te       2\n",
              "fi       2\n",
              "ml       2\n",
              "no       2\n",
              "nb       1\n",
              "sr       1\n",
              "he       1\n",
              "el       1\n",
              "vi       1\n",
              "bn       1\n",
              "id       1\n",
              "cs       1\n",
              "ar       1\n",
              "ur       1\n",
              "mr       1\n",
              "Name: original_language, dtype: int64"
            ]
          },
          "metadata": {},
          "execution_count": 25
        }
      ]
    },
    {
      "cell_type": "code",
      "metadata": {
        "id": "VAQLfkwaoLWk"
      },
      "source": [
        "# Now to group this languages we use groupby function\n",
        "\n",
        "language_group = df.groupby(['original_language'])"
      ],
      "execution_count": null,
      "outputs": []
    },
    {
      "cell_type": "code",
      "metadata": {
        "colab": {
          "base_uri": "https://localhost:8080/",
          "height": 640
        },
        "id": "SugE97NptvNA",
        "outputId": "e228d1a8-eaa4-46cb-e487-041877bdd8bf"
      },
      "source": [
        "# Now if we want a list of movies whose original language is English we will use get_group function\n",
        "\n",
        "language_group.get_group('en').head()\n",
        "\n",
        "# You get a dataframe with original langauge is english "
      ],
      "execution_count": null,
      "outputs": [
        {
          "output_type": "execute_result",
          "data": {
            "text/html": [
              "<div>\n",
              "<style scoped>\n",
              "    .dataframe tbody tr th:only-of-type {\n",
              "        vertical-align: middle;\n",
              "    }\n",
              "\n",
              "    .dataframe tbody tr th {\n",
              "        vertical-align: top;\n",
              "    }\n",
              "\n",
              "    .dataframe thead th {\n",
              "        text-align: right;\n",
              "    }\n",
              "</style>\n",
              "<table border=\"1\" class=\"dataframe\">\n",
              "  <thead>\n",
              "    <tr style=\"text-align: right;\">\n",
              "      <th></th>\n",
              "      <th>belongs_to_collection</th>\n",
              "      <th>budget</th>\n",
              "      <th>genres</th>\n",
              "      <th>homepage</th>\n",
              "      <th>imdb_id</th>\n",
              "      <th>original_language</th>\n",
              "      <th>original_title</th>\n",
              "      <th>overview</th>\n",
              "      <th>popularity</th>\n",
              "      <th>poster_path</th>\n",
              "      <th>production_companies</th>\n",
              "      <th>production_countries</th>\n",
              "      <th>release_date</th>\n",
              "      <th>runtime</th>\n",
              "      <th>spoken_languages</th>\n",
              "      <th>status</th>\n",
              "      <th>tagline</th>\n",
              "      <th>title</th>\n",
              "      <th>Keywords</th>\n",
              "      <th>cast</th>\n",
              "      <th>crew</th>\n",
              "      <th>revenue</th>\n",
              "    </tr>\n",
              "    <tr>\n",
              "      <th>id</th>\n",
              "      <th></th>\n",
              "      <th></th>\n",
              "      <th></th>\n",
              "      <th></th>\n",
              "      <th></th>\n",
              "      <th></th>\n",
              "      <th></th>\n",
              "      <th></th>\n",
              "      <th></th>\n",
              "      <th></th>\n",
              "      <th></th>\n",
              "      <th></th>\n",
              "      <th></th>\n",
              "      <th></th>\n",
              "      <th></th>\n",
              "      <th></th>\n",
              "      <th></th>\n",
              "      <th></th>\n",
              "      <th></th>\n",
              "      <th></th>\n",
              "      <th></th>\n",
              "      <th></th>\n",
              "    </tr>\n",
              "  </thead>\n",
              "  <tbody>\n",
              "    <tr>\n",
              "      <th>1</th>\n",
              "      <td>[{'id': 313576, 'name': 'Hot Tub Time Machine ...</td>\n",
              "      <td>14000000</td>\n",
              "      <td>[{'id': 35, 'name': 'Comedy'}]</td>\n",
              "      <td>NaN</td>\n",
              "      <td>tt2637294</td>\n",
              "      <td>en</td>\n",
              "      <td>Hot Tub Time Machine 2</td>\n",
              "      <td>When Lou, who has become the \"father of the In...</td>\n",
              "      <td>6.575393</td>\n",
              "      <td>/tQtWuwvMf0hCc2QR2tkolwl7c3c.jpg</td>\n",
              "      <td>[{'name': 'Paramount Pictures', 'id': 4}, {'na...</td>\n",
              "      <td>[{'iso_3166_1': 'US', 'name': 'United States o...</td>\n",
              "      <td>2/20/15</td>\n",
              "      <td>93.0</td>\n",
              "      <td>[{'iso_639_1': 'en', 'name': 'English'}]</td>\n",
              "      <td>Released</td>\n",
              "      <td>The Laws of Space and Time are About to be Vio...</td>\n",
              "      <td>Hot Tub Time Machine 2</td>\n",
              "      <td>[{'id': 4379, 'name': 'time travel'}, {'id': 9...</td>\n",
              "      <td>[{'cast_id': 4, 'character': 'Lou', 'credit_id...</td>\n",
              "      <td>[{'credit_id': '59ac067c92514107af02c8c8', 'de...</td>\n",
              "      <td>12314651</td>\n",
              "    </tr>\n",
              "    <tr>\n",
              "      <th>2</th>\n",
              "      <td>[{'id': 107674, 'name': 'The Princess Diaries ...</td>\n",
              "      <td>40000000</td>\n",
              "      <td>[{'id': 35, 'name': 'Comedy'}, {'id': 18, 'nam...</td>\n",
              "      <td>NaN</td>\n",
              "      <td>tt0368933</td>\n",
              "      <td>en</td>\n",
              "      <td>The Princess Diaries 2: Royal Engagement</td>\n",
              "      <td>Mia Thermopolis is now a college graduate and ...</td>\n",
              "      <td>8.248895</td>\n",
              "      <td>/w9Z7A0GHEhIp7etpj0vyKOeU1Wx.jpg</td>\n",
              "      <td>[{'name': 'Walt Disney Pictures', 'id': 2}]</td>\n",
              "      <td>[{'iso_3166_1': 'US', 'name': 'United States o...</td>\n",
              "      <td>8/6/04</td>\n",
              "      <td>113.0</td>\n",
              "      <td>[{'iso_639_1': 'en', 'name': 'English'}]</td>\n",
              "      <td>Released</td>\n",
              "      <td>It can take a lifetime to find true love; she'...</td>\n",
              "      <td>The Princess Diaries 2: Royal Engagement</td>\n",
              "      <td>[{'id': 2505, 'name': 'coronation'}, {'id': 42...</td>\n",
              "      <td>[{'cast_id': 1, 'character': 'Mia Thermopolis'...</td>\n",
              "      <td>[{'credit_id': '52fe43fe9251416c7502563d', 'de...</td>\n",
              "      <td>95149435</td>\n",
              "    </tr>\n",
              "    <tr>\n",
              "      <th>3</th>\n",
              "      <td>NaN</td>\n",
              "      <td>3300000</td>\n",
              "      <td>[{'id': 18, 'name': 'Drama'}]</td>\n",
              "      <td>http://sonyclassics.com/whiplash/</td>\n",
              "      <td>tt2582802</td>\n",
              "      <td>en</td>\n",
              "      <td>Whiplash</td>\n",
              "      <td>Under the direction of a ruthless instructor, ...</td>\n",
              "      <td>64.299990</td>\n",
              "      <td>/lIv1QinFqz4dlp5U4lQ6HaiskOZ.jpg</td>\n",
              "      <td>[{'name': 'Bold Films', 'id': 2266}, {'name': ...</td>\n",
              "      <td>[{'iso_3166_1': 'US', 'name': 'United States o...</td>\n",
              "      <td>10/10/14</td>\n",
              "      <td>105.0</td>\n",
              "      <td>[{'iso_639_1': 'en', 'name': 'English'}]</td>\n",
              "      <td>Released</td>\n",
              "      <td>The road to greatness can take you to the edge.</td>\n",
              "      <td>Whiplash</td>\n",
              "      <td>[{'id': 1416, 'name': 'jazz'}, {'id': 1523, 'n...</td>\n",
              "      <td>[{'cast_id': 5, 'character': 'Andrew Neimann',...</td>\n",
              "      <td>[{'credit_id': '54d5356ec3a3683ba0000039', 'de...</td>\n",
              "      <td>13092000</td>\n",
              "    </tr>\n",
              "    <tr>\n",
              "      <th>6</th>\n",
              "      <td>NaN</td>\n",
              "      <td>8000000</td>\n",
              "      <td>[{'id': 16, 'name': 'Animation'}, {'id': 12, '...</td>\n",
              "      <td>NaN</td>\n",
              "      <td>tt0093743</td>\n",
              "      <td>en</td>\n",
              "      <td>Pinocchio and the Emperor of the Night</td>\n",
              "      <td>Pinocchio and his friends, a glow worm and a m...</td>\n",
              "      <td>0.743274</td>\n",
              "      <td>/6IDqA1D2NBIVhzEEaMMRL28iBrq.jpg</td>\n",
              "      <td>NaN</td>\n",
              "      <td>NaN</td>\n",
              "      <td>8/6/87</td>\n",
              "      <td>83.0</td>\n",
              "      <td>[{'iso_639_1': 'en', 'name': 'English'}]</td>\n",
              "      <td>Released</td>\n",
              "      <td>NaN</td>\n",
              "      <td>Pinocchio and the Emperor of the Night</td>\n",
              "      <td>NaN</td>\n",
              "      <td>[{'cast_id': 6, 'character': 'Pinocchio (voice...</td>\n",
              "      <td>[{'credit_id': '52fe46f49251416c9106558b', 'de...</td>\n",
              "      <td>3261638</td>\n",
              "    </tr>\n",
              "    <tr>\n",
              "      <th>7</th>\n",
              "      <td>NaN</td>\n",
              "      <td>14000000</td>\n",
              "      <td>[{'id': 27, 'name': 'Horror'}, {'id': 53, 'nam...</td>\n",
              "      <td>http://www.thepossessionmovie.com/</td>\n",
              "      <td>tt0431021</td>\n",
              "      <td>en</td>\n",
              "      <td>The Possession</td>\n",
              "      <td>A young girl buys an antique box at a yard sal...</td>\n",
              "      <td>7.286477</td>\n",
              "      <td>/4QjzFuaZmB4btGnLwAgdp23BzIU.jpg</td>\n",
              "      <td>[{'name': 'Ghost House Pictures', 'id': 768}, ...</td>\n",
              "      <td>[{'iso_3166_1': 'US', 'name': 'United States o...</td>\n",
              "      <td>8/30/12</td>\n",
              "      <td>92.0</td>\n",
              "      <td>[{'iso_639_1': 'en', 'name': 'English'}]</td>\n",
              "      <td>Released</td>\n",
              "      <td>Fear The Demon That Doesn't Fear God</td>\n",
              "      <td>The Possession</td>\n",
              "      <td>NaN</td>\n",
              "      <td>[{'cast_id': 23, 'character': 'Clyde', 'credit...</td>\n",
              "      <td>[{'credit_id': '52fe4981c3a368484e12ee29', 'de...</td>\n",
              "      <td>85446075</td>\n",
              "    </tr>\n",
              "  </tbody>\n",
              "</table>\n",
              "</div>"
            ],
            "text/plain": [
              "                                belongs_to_collection  ...   revenue\n",
              "id                                                     ...          \n",
              "1   [{'id': 313576, 'name': 'Hot Tub Time Machine ...  ...  12314651\n",
              "2   [{'id': 107674, 'name': 'The Princess Diaries ...  ...  95149435\n",
              "3                                                 NaN  ...  13092000\n",
              "6                                                 NaN  ...   3261638\n",
              "7                                                 NaN  ...  85446075\n",
              "\n",
              "[5 rows x 22 columns]"
            ]
          },
          "metadata": {},
          "execution_count": 41
        }
      ]
    },
    {
      "cell_type": "code",
      "metadata": {
        "id": "e5YdSJGh8uzU",
        "colab": {
          "base_uri": "https://localhost:8080/",
          "height": 640
        },
        "outputId": "793f2063-b951-4ae0-d634-00ba981b3706"
      },
      "source": [
        "# We can still get the same result\n",
        "# Here it will grab all the values whose having original language is English\n",
        "\n",
        "filt = df['original_language'] == 'en'\n",
        "\n",
        "# The apply this to our dataframe\n",
        "\n",
        "df.loc[filt].head()"
      ],
      "execution_count": null,
      "outputs": [
        {
          "output_type": "execute_result",
          "data": {
            "text/html": [
              "<div>\n",
              "<style scoped>\n",
              "    .dataframe tbody tr th:only-of-type {\n",
              "        vertical-align: middle;\n",
              "    }\n",
              "\n",
              "    .dataframe tbody tr th {\n",
              "        vertical-align: top;\n",
              "    }\n",
              "\n",
              "    .dataframe thead th {\n",
              "        text-align: right;\n",
              "    }\n",
              "</style>\n",
              "<table border=\"1\" class=\"dataframe\">\n",
              "  <thead>\n",
              "    <tr style=\"text-align: right;\">\n",
              "      <th></th>\n",
              "      <th>belongs_to_collection</th>\n",
              "      <th>budget</th>\n",
              "      <th>genres</th>\n",
              "      <th>homepage</th>\n",
              "      <th>imdb_id</th>\n",
              "      <th>original_language</th>\n",
              "      <th>original_title</th>\n",
              "      <th>overview</th>\n",
              "      <th>popularity</th>\n",
              "      <th>poster_path</th>\n",
              "      <th>production_companies</th>\n",
              "      <th>production_countries</th>\n",
              "      <th>release_date</th>\n",
              "      <th>runtime</th>\n",
              "      <th>spoken_languages</th>\n",
              "      <th>status</th>\n",
              "      <th>tagline</th>\n",
              "      <th>title</th>\n",
              "      <th>Keywords</th>\n",
              "      <th>cast</th>\n",
              "      <th>crew</th>\n",
              "      <th>revenue</th>\n",
              "    </tr>\n",
              "    <tr>\n",
              "      <th>id</th>\n",
              "      <th></th>\n",
              "      <th></th>\n",
              "      <th></th>\n",
              "      <th></th>\n",
              "      <th></th>\n",
              "      <th></th>\n",
              "      <th></th>\n",
              "      <th></th>\n",
              "      <th></th>\n",
              "      <th></th>\n",
              "      <th></th>\n",
              "      <th></th>\n",
              "      <th></th>\n",
              "      <th></th>\n",
              "      <th></th>\n",
              "      <th></th>\n",
              "      <th></th>\n",
              "      <th></th>\n",
              "      <th></th>\n",
              "      <th></th>\n",
              "      <th></th>\n",
              "      <th></th>\n",
              "    </tr>\n",
              "  </thead>\n",
              "  <tbody>\n",
              "    <tr>\n",
              "      <th>1</th>\n",
              "      <td>[{'id': 313576, 'name': 'Hot Tub Time Machine ...</td>\n",
              "      <td>14000000</td>\n",
              "      <td>[{'id': 35, 'name': 'Comedy'}]</td>\n",
              "      <td>NaN</td>\n",
              "      <td>tt2637294</td>\n",
              "      <td>en</td>\n",
              "      <td>Hot Tub Time Machine 2</td>\n",
              "      <td>When Lou, who has become the \"father of the In...</td>\n",
              "      <td>6.575393</td>\n",
              "      <td>/tQtWuwvMf0hCc2QR2tkolwl7c3c.jpg</td>\n",
              "      <td>[{'name': 'Paramount Pictures', 'id': 4}, {'na...</td>\n",
              "      <td>[{'iso_3166_1': 'US', 'name': 'United States o...</td>\n",
              "      <td>2/20/15</td>\n",
              "      <td>93.0</td>\n",
              "      <td>[{'iso_639_1': 'en', 'name': 'English'}]</td>\n",
              "      <td>Released</td>\n",
              "      <td>The Laws of Space and Time are About to be Vio...</td>\n",
              "      <td>Hot Tub Time Machine 2</td>\n",
              "      <td>[{'id': 4379, 'name': 'time travel'}, {'id': 9...</td>\n",
              "      <td>[{'cast_id': 4, 'character': 'Lou', 'credit_id...</td>\n",
              "      <td>[{'credit_id': '59ac067c92514107af02c8c8', 'de...</td>\n",
              "      <td>12314651</td>\n",
              "    </tr>\n",
              "    <tr>\n",
              "      <th>2</th>\n",
              "      <td>[{'id': 107674, 'name': 'The Princess Diaries ...</td>\n",
              "      <td>40000000</td>\n",
              "      <td>[{'id': 35, 'name': 'Comedy'}, {'id': 18, 'nam...</td>\n",
              "      <td>NaN</td>\n",
              "      <td>tt0368933</td>\n",
              "      <td>en</td>\n",
              "      <td>The Princess Diaries 2: Royal Engagement</td>\n",
              "      <td>Mia Thermopolis is now a college graduate and ...</td>\n",
              "      <td>8.248895</td>\n",
              "      <td>/w9Z7A0GHEhIp7etpj0vyKOeU1Wx.jpg</td>\n",
              "      <td>[{'name': 'Walt Disney Pictures', 'id': 2}]</td>\n",
              "      <td>[{'iso_3166_1': 'US', 'name': 'United States o...</td>\n",
              "      <td>8/6/04</td>\n",
              "      <td>113.0</td>\n",
              "      <td>[{'iso_639_1': 'en', 'name': 'English'}]</td>\n",
              "      <td>Released</td>\n",
              "      <td>It can take a lifetime to find true love; she'...</td>\n",
              "      <td>The Princess Diaries 2: Royal Engagement</td>\n",
              "      <td>[{'id': 2505, 'name': 'coronation'}, {'id': 42...</td>\n",
              "      <td>[{'cast_id': 1, 'character': 'Mia Thermopolis'...</td>\n",
              "      <td>[{'credit_id': '52fe43fe9251416c7502563d', 'de...</td>\n",
              "      <td>95149435</td>\n",
              "    </tr>\n",
              "    <tr>\n",
              "      <th>3</th>\n",
              "      <td>NaN</td>\n",
              "      <td>3300000</td>\n",
              "      <td>[{'id': 18, 'name': 'Drama'}]</td>\n",
              "      <td>http://sonyclassics.com/whiplash/</td>\n",
              "      <td>tt2582802</td>\n",
              "      <td>en</td>\n",
              "      <td>Whiplash</td>\n",
              "      <td>Under the direction of a ruthless instructor, ...</td>\n",
              "      <td>64.299990</td>\n",
              "      <td>/lIv1QinFqz4dlp5U4lQ6HaiskOZ.jpg</td>\n",
              "      <td>[{'name': 'Bold Films', 'id': 2266}, {'name': ...</td>\n",
              "      <td>[{'iso_3166_1': 'US', 'name': 'United States o...</td>\n",
              "      <td>10/10/14</td>\n",
              "      <td>105.0</td>\n",
              "      <td>[{'iso_639_1': 'en', 'name': 'English'}]</td>\n",
              "      <td>Released</td>\n",
              "      <td>The road to greatness can take you to the edge.</td>\n",
              "      <td>Whiplash</td>\n",
              "      <td>[{'id': 1416, 'name': 'jazz'}, {'id': 1523, 'n...</td>\n",
              "      <td>[{'cast_id': 5, 'character': 'Andrew Neimann',...</td>\n",
              "      <td>[{'credit_id': '54d5356ec3a3683ba0000039', 'de...</td>\n",
              "      <td>13092000</td>\n",
              "    </tr>\n",
              "    <tr>\n",
              "      <th>6</th>\n",
              "      <td>NaN</td>\n",
              "      <td>8000000</td>\n",
              "      <td>[{'id': 16, 'name': 'Animation'}, {'id': 12, '...</td>\n",
              "      <td>NaN</td>\n",
              "      <td>tt0093743</td>\n",
              "      <td>en</td>\n",
              "      <td>Pinocchio and the Emperor of the Night</td>\n",
              "      <td>Pinocchio and his friends, a glow worm and a m...</td>\n",
              "      <td>0.743274</td>\n",
              "      <td>/6IDqA1D2NBIVhzEEaMMRL28iBrq.jpg</td>\n",
              "      <td>NaN</td>\n",
              "      <td>NaN</td>\n",
              "      <td>8/6/87</td>\n",
              "      <td>83.0</td>\n",
              "      <td>[{'iso_639_1': 'en', 'name': 'English'}]</td>\n",
              "      <td>Released</td>\n",
              "      <td>NaN</td>\n",
              "      <td>Pinocchio and the Emperor of the Night</td>\n",
              "      <td>NaN</td>\n",
              "      <td>[{'cast_id': 6, 'character': 'Pinocchio (voice...</td>\n",
              "      <td>[{'credit_id': '52fe46f49251416c9106558b', 'de...</td>\n",
              "      <td>3261638</td>\n",
              "    </tr>\n",
              "    <tr>\n",
              "      <th>7</th>\n",
              "      <td>NaN</td>\n",
              "      <td>14000000</td>\n",
              "      <td>[{'id': 27, 'name': 'Horror'}, {'id': 53, 'nam...</td>\n",
              "      <td>http://www.thepossessionmovie.com/</td>\n",
              "      <td>tt0431021</td>\n",
              "      <td>en</td>\n",
              "      <td>The Possession</td>\n",
              "      <td>A young girl buys an antique box at a yard sal...</td>\n",
              "      <td>7.286477</td>\n",
              "      <td>/4QjzFuaZmB4btGnLwAgdp23BzIU.jpg</td>\n",
              "      <td>[{'name': 'Ghost House Pictures', 'id': 768}, ...</td>\n",
              "      <td>[{'iso_3166_1': 'US', 'name': 'United States o...</td>\n",
              "      <td>8/30/12</td>\n",
              "      <td>92.0</td>\n",
              "      <td>[{'iso_639_1': 'en', 'name': 'English'}]</td>\n",
              "      <td>Released</td>\n",
              "      <td>Fear The Demon That Doesn't Fear God</td>\n",
              "      <td>The Possession</td>\n",
              "      <td>NaN</td>\n",
              "      <td>[{'cast_id': 23, 'character': 'Clyde', 'credit...</td>\n",
              "      <td>[{'credit_id': '52fe4981c3a368484e12ee29', 'de...</td>\n",
              "      <td>85446075</td>\n",
              "    </tr>\n",
              "  </tbody>\n",
              "</table>\n",
              "</div>"
            ],
            "text/plain": [
              "                                belongs_to_collection  ...   revenue\n",
              "id                                                     ...          \n",
              "1   [{'id': 313576, 'name': 'Hot Tub Time Machine ...  ...  12314651\n",
              "2   [{'id': 107674, 'name': 'The Princess Diaries ...  ...  95149435\n",
              "3                                                 NaN  ...  13092000\n",
              "6                                                 NaN  ...   3261638\n",
              "7                                                 NaN  ...  85446075\n",
              "\n",
              "[5 rows x 22 columns]"
            ]
          },
          "metadata": {},
          "execution_count": 39
        }
      ]
    },
    {
      "cell_type": "code",
      "metadata": {
        "colab": {
          "base_uri": "https://localhost:8080/"
        },
        "id": "ioW0Eer3uwOz",
        "outputId": "dde95d92-79cb-4b7c-fdbc-c4c3a90490c4"
      },
      "source": [
        "# Now we can see the longest movies by the original language\n",
        "\n",
        "df.loc[filt]['original_language'].value_counts()"
      ],
      "execution_count": null,
      "outputs": [
        {
          "output_type": "execute_result",
          "data": {
            "text/plain": [
              "en    2575\n",
              "Name: original_language, dtype: int64"
            ]
          },
          "metadata": {},
          "execution_count": 40
        }
      ]
    },
    {
      "cell_type": "code",
      "metadata": {
        "colab": {
          "base_uri": "https://localhost:8080/"
        },
        "id": "bgF4fyHluxye",
        "outputId": "d7218a30-c192-4e95-cecb-f78633c2d2a4"
      },
      "source": [
        "#  If we want median runtime on the basis of original language\n",
        "\n",
        "language_group['runtime'].median()\n",
        "\n",
        "# Here the indexes is the language"
      ],
      "execution_count": null,
      "outputs": [
        {
          "output_type": "execute_result",
          "data": {
            "text/plain": [
              "original_language\n",
              "ar     98.0\n",
              "bn    125.0\n",
              "cn    105.5\n",
              "cs     90.0\n",
              "da    106.0\n",
              "de    120.0\n",
              "el     91.0\n",
              "en    103.0\n",
              "es     96.0\n",
              "fa     94.0\n",
              "fi    100.0\n",
              "fr    105.0\n",
              "he     90.0\n",
              "hi    145.5\n",
              "hu    121.0\n",
              "id    150.0\n",
              "it    104.5\n",
              "ja    116.0\n",
              "ko    119.0\n",
              "ml    137.0\n",
              "mr    162.0\n",
              "nb    103.0\n",
              "nl    107.5\n",
              "no     95.5\n",
              "pl     99.0\n",
              "pt    111.5\n",
              "ro    110.5\n",
              "ru     97.0\n",
              "sr     97.0\n",
              "sv    111.0\n",
              "ta    157.0\n",
              "te    146.0\n",
              "tr    117.0\n",
              "ur     94.0\n",
              "vi    135.0\n",
              "zh    125.0\n",
              "Name: runtime, dtype: float64"
            ]
          },
          "metadata": {},
          "execution_count": 53
        }
      ]
    },
    {
      "cell_type": "code",
      "metadata": {
        "colab": {
          "base_uri": "https://localhost:8080/"
        },
        "id": "VEoElMVgz22r",
        "outputId": "d219bd03-412e-4bdb-e46a-1d744880e3fb"
      },
      "source": [
        "# So if we want to grab a median by a particular language \n",
        "# Let's say we want to know the median of a movie whose original language is hindi\n",
        "\n",
        "language_group['runtime'].median().loc['hi']"
      ],
      "execution_count": null,
      "outputs": [
        {
          "output_type": "execute_result",
          "data": {
            "text/plain": [
              "145.5"
            ]
          },
          "metadata": {},
          "execution_count": 55
        }
      ]
    },
    {
      "cell_type": "code",
      "metadata": {
        "colab": {
          "base_uri": "https://localhost:8080/",
          "height": 1000
        },
        "id": "wzlWYnjH0wJW",
        "outputId": "aff85925-3016-4d13-aedb-8e7ee71c7527"
      },
      "source": [
        "# Let's say if we want multiple aggregate function then\n",
        "\n",
        "language_group['runtime'].agg(['median', 'mean'])\n",
        "\n",
        "# We get a dataframe of median and mean runtime of each movie"
      ],
      "execution_count": null,
      "outputs": [
        {
          "output_type": "execute_result",
          "data": {
            "text/html": [
              "<div>\n",
              "<style scoped>\n",
              "    .dataframe tbody tr th:only-of-type {\n",
              "        vertical-align: middle;\n",
              "    }\n",
              "\n",
              "    .dataframe tbody tr th {\n",
              "        vertical-align: top;\n",
              "    }\n",
              "\n",
              "    .dataframe thead th {\n",
              "        text-align: right;\n",
              "    }\n",
              "</style>\n",
              "<table border=\"1\" class=\"dataframe\">\n",
              "  <thead>\n",
              "    <tr style=\"text-align: right;\">\n",
              "      <th></th>\n",
              "      <th>median</th>\n",
              "      <th>mean</th>\n",
              "    </tr>\n",
              "    <tr>\n",
              "      <th>original_language</th>\n",
              "      <th></th>\n",
              "      <th></th>\n",
              "    </tr>\n",
              "  </thead>\n",
              "  <tbody>\n",
              "    <tr>\n",
              "      <th>ar</th>\n",
              "      <td>98.0</td>\n",
              "      <td>98.000000</td>\n",
              "    </tr>\n",
              "    <tr>\n",
              "      <th>bn</th>\n",
              "      <td>125.0</td>\n",
              "      <td>125.000000</td>\n",
              "    </tr>\n",
              "    <tr>\n",
              "      <th>cn</th>\n",
              "      <td>105.5</td>\n",
              "      <td>105.450000</td>\n",
              "    </tr>\n",
              "    <tr>\n",
              "      <th>cs</th>\n",
              "      <td>90.0</td>\n",
              "      <td>90.000000</td>\n",
              "    </tr>\n",
              "    <tr>\n",
              "      <th>da</th>\n",
              "      <td>106.0</td>\n",
              "      <td>105.400000</td>\n",
              "    </tr>\n",
              "    <tr>\n",
              "      <th>de</th>\n",
              "      <td>120.0</td>\n",
              "      <td>122.294118</td>\n",
              "    </tr>\n",
              "    <tr>\n",
              "      <th>el</th>\n",
              "      <td>91.0</td>\n",
              "      <td>91.000000</td>\n",
              "    </tr>\n",
              "    <tr>\n",
              "      <th>en</th>\n",
              "      <td>103.0</td>\n",
              "      <td>106.984078</td>\n",
              "    </tr>\n",
              "    <tr>\n",
              "      <th>es</th>\n",
              "      <td>96.0</td>\n",
              "      <td>100.372093</td>\n",
              "    </tr>\n",
              "    <tr>\n",
              "      <th>fa</th>\n",
              "      <td>94.0</td>\n",
              "      <td>96.400000</td>\n",
              "    </tr>\n",
              "    <tr>\n",
              "      <th>fi</th>\n",
              "      <td>100.0</td>\n",
              "      <td>100.000000</td>\n",
              "    </tr>\n",
              "    <tr>\n",
              "      <th>fr</th>\n",
              "      <td>105.0</td>\n",
              "      <td>106.294872</td>\n",
              "    </tr>\n",
              "    <tr>\n",
              "      <th>he</th>\n",
              "      <td>90.0</td>\n",
              "      <td>90.000000</td>\n",
              "    </tr>\n",
              "    <tr>\n",
              "      <th>hi</th>\n",
              "      <td>145.5</td>\n",
              "      <td>148.880952</td>\n",
              "    </tr>\n",
              "    <tr>\n",
              "      <th>hu</th>\n",
              "      <td>121.0</td>\n",
              "      <td>126.000000</td>\n",
              "    </tr>\n",
              "    <tr>\n",
              "      <th>id</th>\n",
              "      <td>150.0</td>\n",
              "      <td>150.000000</td>\n",
              "    </tr>\n",
              "    <tr>\n",
              "      <th>it</th>\n",
              "      <td>104.5</td>\n",
              "      <td>91.625000</td>\n",
              "    </tr>\n",
              "    <tr>\n",
              "      <th>ja</th>\n",
              "      <td>116.0</td>\n",
              "      <td>112.972973</td>\n",
              "    </tr>\n",
              "    <tr>\n",
              "      <th>ko</th>\n",
              "      <td>119.0</td>\n",
              "      <td>115.100000</td>\n",
              "    </tr>\n",
              "    <tr>\n",
              "      <th>ml</th>\n",
              "      <td>137.0</td>\n",
              "      <td>137.000000</td>\n",
              "    </tr>\n",
              "    <tr>\n",
              "      <th>mr</th>\n",
              "      <td>162.0</td>\n",
              "      <td>162.000000</td>\n",
              "    </tr>\n",
              "    <tr>\n",
              "      <th>nb</th>\n",
              "      <td>103.0</td>\n",
              "      <td>103.000000</td>\n",
              "    </tr>\n",
              "    <tr>\n",
              "      <th>nl</th>\n",
              "      <td>107.5</td>\n",
              "      <td>107.333333</td>\n",
              "    </tr>\n",
              "    <tr>\n",
              "      <th>no</th>\n",
              "      <td>95.5</td>\n",
              "      <td>95.500000</td>\n",
              "    </tr>\n",
              "    <tr>\n",
              "      <th>pl</th>\n",
              "      <td>99.0</td>\n",
              "      <td>99.000000</td>\n",
              "    </tr>\n",
              "    <tr>\n",
              "      <th>pt</th>\n",
              "      <td>111.5</td>\n",
              "      <td>114.666667</td>\n",
              "    </tr>\n",
              "    <tr>\n",
              "      <th>ro</th>\n",
              "      <td>110.5</td>\n",
              "      <td>108.750000</td>\n",
              "    </tr>\n",
              "    <tr>\n",
              "      <th>ru</th>\n",
              "      <td>97.0</td>\n",
              "      <td>95.586957</td>\n",
              "    </tr>\n",
              "    <tr>\n",
              "      <th>sr</th>\n",
              "      <td>97.0</td>\n",
              "      <td>97.000000</td>\n",
              "    </tr>\n",
              "    <tr>\n",
              "      <th>sv</th>\n",
              "      <td>111.0</td>\n",
              "      <td>122.375000</td>\n",
              "    </tr>\n",
              "    <tr>\n",
              "      <th>ta</th>\n",
              "      <td>157.0</td>\n",
              "      <td>159.875000</td>\n",
              "    </tr>\n",
              "    <tr>\n",
              "      <th>te</th>\n",
              "      <td>146.0</td>\n",
              "      <td>146.000000</td>\n",
              "    </tr>\n",
              "    <tr>\n",
              "      <th>tr</th>\n",
              "      <td>117.0</td>\n",
              "      <td>119.000000</td>\n",
              "    </tr>\n",
              "    <tr>\n",
              "      <th>ur</th>\n",
              "      <td>94.0</td>\n",
              "      <td>94.000000</td>\n",
              "    </tr>\n",
              "    <tr>\n",
              "      <th>vi</th>\n",
              "      <td>135.0</td>\n",
              "      <td>135.000000</td>\n",
              "    </tr>\n",
              "    <tr>\n",
              "      <th>zh</th>\n",
              "      <td>125.0</td>\n",
              "      <td>121.368421</td>\n",
              "    </tr>\n",
              "  </tbody>\n",
              "</table>\n",
              "</div>"
            ],
            "text/plain": [
              "                   median        mean\n",
              "original_language                    \n",
              "ar                   98.0   98.000000\n",
              "bn                  125.0  125.000000\n",
              "cn                  105.5  105.450000\n",
              "cs                   90.0   90.000000\n",
              "da                  106.0  105.400000\n",
              "de                  120.0  122.294118\n",
              "el                   91.0   91.000000\n",
              "en                  103.0  106.984078\n",
              "es                   96.0  100.372093\n",
              "fa                   94.0   96.400000\n",
              "fi                  100.0  100.000000\n",
              "fr                  105.0  106.294872\n",
              "he                   90.0   90.000000\n",
              "hi                  145.5  148.880952\n",
              "hu                  121.0  126.000000\n",
              "id                  150.0  150.000000\n",
              "it                  104.5   91.625000\n",
              "ja                  116.0  112.972973\n",
              "ko                  119.0  115.100000\n",
              "ml                  137.0  137.000000\n",
              "mr                  162.0  162.000000\n",
              "nb                  103.0  103.000000\n",
              "nl                  107.5  107.333333\n",
              "no                   95.5   95.500000\n",
              "pl                   99.0   99.000000\n",
              "pt                  111.5  114.666667\n",
              "ro                  110.5  108.750000\n",
              "ru                   97.0   95.586957\n",
              "sr                   97.0   97.000000\n",
              "sv                  111.0  122.375000\n",
              "ta                  157.0  159.875000\n",
              "te                  146.0  146.000000\n",
              "tr                  117.0  119.000000\n",
              "ur                   94.0   94.000000\n",
              "vi                  135.0  135.000000\n",
              "zh                  125.0  121.368421"
            ]
          },
          "metadata": {},
          "execution_count": 57
        }
      ]
    },
    {
      "cell_type": "code",
      "metadata": {
        "colab": {
          "base_uri": "https://localhost:8080/"
        },
        "id": "StU1b1ol0wM_",
        "outputId": "316d191c-8693-432f-e7cd-07062a7ada65"
      },
      "source": [
        "# Lets say if we want this for a movie whose original language is hindi\n",
        "\n",
        "language_group['runtime'].agg(['median', 'mean']).loc['hi']"
      ],
      "execution_count": null,
      "outputs": [
        {
          "output_type": "execute_result",
          "data": {
            "text/plain": [
              "median    145.500000\n",
              "mean      148.880952\n",
              "Name: hi, dtype: float64"
            ]
          },
          "metadata": {},
          "execution_count": 58
        }
      ]
    },
    {
      "cell_type": "code",
      "metadata": {
        "id": "015uOqOm0wQU"
      },
      "source": [
        ""
      ],
      "execution_count": null,
      "outputs": []
    },
    {
      "cell_type": "code",
      "metadata": {
        "id": "l4DTieYp0wTu"
      },
      "source": [
        ""
      ],
      "execution_count": null,
      "outputs": []
    },
    {
      "cell_type": "code",
      "metadata": {
        "id": "n60-qZMI0wXR"
      },
      "source": [
        ""
      ],
      "execution_count": null,
      "outputs": []
    },
    {
      "cell_type": "code",
      "metadata": {
        "id": "zlp5aJ0u0wbF"
      },
      "source": [
        ""
      ],
      "execution_count": null,
      "outputs": []
    }
  ]
}
