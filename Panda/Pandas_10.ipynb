{
  "nbformat": 4,
  "nbformat_minor": 0,
  "metadata": {
    "colab": {
      "name": "Pandas_10.ipynb",
      "provenance": [],
      "collapsed_sections": [],
      "authorship_tag": "ABX9TyMAm8LLyBsQVIh8nbHLdooR",
      "include_colab_link": true
    },
    "kernelspec": {
      "name": "python3",
      "display_name": "Python 3"
    },
    "language_info": {
      "name": "python"
    }
  },
  "cells": [
    {
      "cell_type": "markdown",
      "metadata": {
        "id": "view-in-github",
        "colab_type": "text"
      },
      "source": [
        "<a href=\"https://colab.research.google.com/github/dubeyshubham786/Python_libraries/blob/main/Pandas_10.ipynb\" target=\"_parent\"><img src=\"https://colab.research.google.com/assets/colab-badge.svg\" alt=\"Open In Colab\"/></a>"
      ]
    },
    {
      "cell_type": "markdown",
      "metadata": {
        "id": "f3oRz6MSurVe"
      },
      "source": [
        "# Dates and Time Series Data"
      ]
    },
    {
      "cell_type": "code",
      "metadata": {
        "id": "_8LyBdU-u0AY"
      },
      "source": [
        "import pandas as pd"
      ],
      "execution_count": 41,
      "outputs": []
    },
    {
      "cell_type": "code",
      "metadata": {
        "colab": {
          "base_uri": "https://localhost:8080/"
        },
        "id": "zXQlnCvFu0J5",
        "outputId": "ba064a57-7e28-4efb-d6f6-7af822e7a270"
      },
      "source": [
        "from google.colab import drive\n",
        "drive.mount('/content/gdrive/')"
      ],
      "execution_count": 42,
      "outputs": [
        {
          "output_type": "stream",
          "name": "stdout",
          "text": [
            "Drive already mounted at /content/gdrive/; to attempt to forcibly remount, call drive.mount(\"/content/gdrive/\", force_remount=True).\n"
          ]
        }
      ]
    },
    {
      "cell_type": "code",
      "metadata": {
        "id": "Tlro0Hzsu0Si"
      },
      "source": [
        "df = pd.read_csv('/content/gdrive/MyDrive/Colab Notebooks/Github/Pandas/ETH_1h.csv')\n",
        "\n",
        "# The csv file is Ethereum price and it is the data of one hour"
      ],
      "execution_count": 43,
      "outputs": []
    },
    {
      "cell_type": "code",
      "metadata": {
        "colab": {
          "base_uri": "https://localhost:8080/",
          "height": 203
        },
        "id": "adS1AOppu0b0",
        "outputId": "f8649bfb-72dd-49fd-deda-f4faac581845"
      },
      "source": [
        "df.head()"
      ],
      "execution_count": 44,
      "outputs": [
        {
          "output_type": "execute_result",
          "data": {
            "text/html": [
              "<div>\n",
              "<style scoped>\n",
              "    .dataframe tbody tr th:only-of-type {\n",
              "        vertical-align: middle;\n",
              "    }\n",
              "\n",
              "    .dataframe tbody tr th {\n",
              "        vertical-align: top;\n",
              "    }\n",
              "\n",
              "    .dataframe thead th {\n",
              "        text-align: right;\n",
              "    }\n",
              "</style>\n",
              "<table border=\"1\" class=\"dataframe\">\n",
              "  <thead>\n",
              "    <tr style=\"text-align: right;\">\n",
              "      <th></th>\n",
              "      <th>Date</th>\n",
              "      <th>Symbol</th>\n",
              "      <th>Open</th>\n",
              "      <th>High</th>\n",
              "      <th>Low</th>\n",
              "      <th>Close</th>\n",
              "      <th>Volume</th>\n",
              "    </tr>\n",
              "  </thead>\n",
              "  <tbody>\n",
              "    <tr>\n",
              "      <th>0</th>\n",
              "      <td>2020-03-13 08-PM</td>\n",
              "      <td>ETHUSD</td>\n",
              "      <td>129.94</td>\n",
              "      <td>131.82</td>\n",
              "      <td>126.87</td>\n",
              "      <td>128.71</td>\n",
              "      <td>1940673.93</td>\n",
              "    </tr>\n",
              "    <tr>\n",
              "      <th>1</th>\n",
              "      <td>2020-03-13 07-PM</td>\n",
              "      <td>ETHUSD</td>\n",
              "      <td>119.51</td>\n",
              "      <td>132.02</td>\n",
              "      <td>117.10</td>\n",
              "      <td>129.94</td>\n",
              "      <td>7579741.09</td>\n",
              "    </tr>\n",
              "    <tr>\n",
              "      <th>2</th>\n",
              "      <td>2020-03-13 06-PM</td>\n",
              "      <td>ETHUSD</td>\n",
              "      <td>124.47</td>\n",
              "      <td>124.85</td>\n",
              "      <td>115.50</td>\n",
              "      <td>119.51</td>\n",
              "      <td>4898735.81</td>\n",
              "    </tr>\n",
              "    <tr>\n",
              "      <th>3</th>\n",
              "      <td>2020-03-13 05-PM</td>\n",
              "      <td>ETHUSD</td>\n",
              "      <td>124.08</td>\n",
              "      <td>127.42</td>\n",
              "      <td>121.63</td>\n",
              "      <td>124.47</td>\n",
              "      <td>2753450.92</td>\n",
              "    </tr>\n",
              "    <tr>\n",
              "      <th>4</th>\n",
              "      <td>2020-03-13 04-PM</td>\n",
              "      <td>ETHUSD</td>\n",
              "      <td>124.85</td>\n",
              "      <td>129.51</td>\n",
              "      <td>120.17</td>\n",
              "      <td>124.08</td>\n",
              "      <td>4461424.71</td>\n",
              "    </tr>\n",
              "  </tbody>\n",
              "</table>\n",
              "</div>"
            ],
            "text/plain": [
              "               Date  Symbol    Open    High     Low   Close      Volume\n",
              "0  2020-03-13 08-PM  ETHUSD  129.94  131.82  126.87  128.71  1940673.93\n",
              "1  2020-03-13 07-PM  ETHUSD  119.51  132.02  117.10  129.94  7579741.09\n",
              "2  2020-03-13 06-PM  ETHUSD  124.47  124.85  115.50  119.51  4898735.81\n",
              "3  2020-03-13 05-PM  ETHUSD  124.08  127.42  121.63  124.47  2753450.92\n",
              "4  2020-03-13 04-PM  ETHUSD  124.85  129.51  120.17  124.08  4461424.71"
            ]
          },
          "metadata": {},
          "execution_count": 44
        }
      ]
    },
    {
      "cell_type": "code",
      "metadata": {
        "colab": {
          "base_uri": "https://localhost:8080/",
          "height": 35
        },
        "id": "w3l7_hTiu0mq",
        "outputId": "52a9b07a-d4db-4559-cf4c-8ce392497b77"
      },
      "source": [
        "# Just grab the Date column\n",
        "\n",
        "df.loc[0, 'Date']"
      ],
      "execution_count": 45,
      "outputs": [
        {
          "output_type": "execute_result",
          "data": {
            "application/vnd.google.colaboratory.intrinsic+json": {
              "type": "string"
            },
            "text/plain": [
              "'2020-03-13 08-PM'"
            ]
          },
          "metadata": {},
          "execution_count": 45
        }
      ]
    },
    {
      "cell_type": "code",
      "metadata": {
        "colab": {
          "base_uri": "https://localhost:8080/",
          "height": 229
        },
        "id": "bT4fM3FAx2qa",
        "outputId": "1b5f753a-df67-4307-e5cb-83d993414781"
      },
      "source": [
        "# Now let's try to run the datetime method on this.\n",
        "\n",
        "df.loc[0, 'Date'].day_name()\n",
        "\n",
        "# It is giving us the error because it is in the string format and not in the datetime format"
      ],
      "execution_count": 47,
      "outputs": [
        {
          "output_type": "error",
          "ename": "AttributeError",
          "evalue": "ignored",
          "traceback": [
            "\u001b[0;31m---------------------------------------------------------------------------\u001b[0m",
            "\u001b[0;31mAttributeError\u001b[0m                            Traceback (most recent call last)",
            "\u001b[0;32m<ipython-input-47-8d19e38115c6>\u001b[0m in \u001b[0;36m<module>\u001b[0;34m()\u001b[0m\n\u001b[1;32m      1\u001b[0m \u001b[0;31m# Now let's try to run the datetime method on this.\u001b[0m\u001b[0;34m\u001b[0m\u001b[0;34m\u001b[0m\u001b[0;34m\u001b[0m\u001b[0m\n\u001b[1;32m      2\u001b[0m \u001b[0;34m\u001b[0m\u001b[0m\n\u001b[0;32m----> 3\u001b[0;31m \u001b[0mdf\u001b[0m\u001b[0;34m.\u001b[0m\u001b[0mloc\u001b[0m\u001b[0;34m[\u001b[0m\u001b[0;36m0\u001b[0m\u001b[0;34m,\u001b[0m \u001b[0;34m'Date'\u001b[0m\u001b[0;34m]\u001b[0m\u001b[0;34m.\u001b[0m\u001b[0mday_name\u001b[0m\u001b[0;34m(\u001b[0m\u001b[0;34m)\u001b[0m\u001b[0;34m\u001b[0m\u001b[0;34m\u001b[0m\u001b[0m\n\u001b[0m\u001b[1;32m      4\u001b[0m \u001b[0;34m\u001b[0m\u001b[0m\n\u001b[1;32m      5\u001b[0m \u001b[0;31m# It is giving us the error because it is in the string format and not in the datetime format\u001b[0m\u001b[0;34m\u001b[0m\u001b[0;34m\u001b[0m\u001b[0;34m\u001b[0m\u001b[0m\n",
            "\u001b[0;31mAttributeError\u001b[0m: 'str' object has no attribute 'day_name'"
          ]
        }
      ]
    },
    {
      "cell_type": "code",
      "metadata": {
        "id": "H78iC7r5x2vG"
      },
      "source": [
        "# We can convert it to datetime \n",
        "# To convert column to datetime we can do like this\n",
        "\n",
        "df['Date'] = pd.to_datetime(df['Date'])\n",
        "\n",
        "# It gives an error because the format of datetime is different "
      ],
      "execution_count": null,
      "outputs": []
    },
    {
      "cell_type": "markdown",
      "metadata": {
        "id": "PXyHX3_Q0OO9"
      },
      "source": [
        "Now here we need to format the datetime. For this we will use the documentation by clicking [here](https://docs.python.org/3/library/datetime.html#strftime-and-strptime-behavior)"
      ]
    },
    {
      "cell_type": "code",
      "metadata": {
        "id": "2jEIUygtx2zD"
      },
      "source": [
        "# Formatting the string\n",
        "\n",
        "df['Date'] = pd.to_datetime(df['Date'], format = '%Y-%m-%d %I-%p')\n",
        "\n",
        "# We have found the above code with the help of documentation\n",
        "# No need to remember just always go to this documentation for your code."
      ],
      "execution_count": 48,
      "outputs": []
    },
    {
      "cell_type": "code",
      "metadata": {
        "colab": {
          "base_uri": "https://localhost:8080/"
        },
        "id": "GBazJ66ix23x",
        "outputId": "7240e5a5-7d71-4455-e797-9b09277988c8"
      },
      "source": [
        "df['Date']"
      ],
      "execution_count": 49,
      "outputs": [
        {
          "output_type": "execute_result",
          "data": {
            "text/plain": [
              "0       2020-03-13 20:00:00\n",
              "1       2020-03-13 19:00:00\n",
              "2       2020-03-13 18:00:00\n",
              "3       2020-03-13 17:00:00\n",
              "4       2020-03-13 16:00:00\n",
              "                ...        \n",
              "23669   2017-07-01 15:00:00\n",
              "23670   2017-07-01 14:00:00\n",
              "23671   2017-07-01 13:00:00\n",
              "23672   2017-07-01 12:00:00\n",
              "23673   2017-07-01 11:00:00\n",
              "Name: Date, Length: 23674, dtype: datetime64[ns]"
            ]
          },
          "metadata": {},
          "execution_count": 49
        }
      ]
    },
    {
      "cell_type": "code",
      "metadata": {
        "colab": {
          "base_uri": "https://localhost:8080/",
          "height": 35
        },
        "id": "UlWHnRAox28H",
        "outputId": "d62e1b17-ef6e-49cb-cb1e-5a97d207c41d"
      },
      "source": [
        "df.loc[0, 'Date'].day_name()"
      ],
      "execution_count": 50,
      "outputs": [
        {
          "output_type": "execute_result",
          "data": {
            "application/vnd.google.colaboratory.intrinsic+json": {
              "type": "string"
            },
            "text/plain": [
              "'Friday'"
            ]
          },
          "metadata": {},
          "execution_count": 50
        }
      ]
    },
    {
      "cell_type": "code",
      "metadata": {
        "colab": {
          "base_uri": "https://localhost:8080/"
        },
        "id": "fh8yqROKx3An",
        "outputId": "6dbb7130-2366-4fce-f7ac-f25b2643a62e"
      },
      "source": [
        "# We have converted the date column but we can convert it to this format as we are loading the data\n",
        "# by passing this arguement\n",
        "\n",
        "d_parser = lambda x: pd.datetime.strptime(x, '%Y-%m-%d %I-%p')\n",
        "df = pd.read_csv('/content/gdrive/MyDrive/Colab Notebooks/Github/Pandas/ETH_1h.csv', parse_dates=['Date'], date_parser=d_parser)"
      ],
      "execution_count": 51,
      "outputs": [
        {
          "output_type": "stream",
          "name": "stderr",
          "text": [
            "/usr/local/lib/python3.7/dist-packages/ipykernel_launcher.py:4: FutureWarning: The pandas.datetime class is deprecated and will be removed from pandas in a future version. Import from datetime module instead.\n",
            "  after removing the cwd from sys.path.\n"
          ]
        }
      ]
    },
    {
      "cell_type": "code",
      "metadata": {
        "colab": {
          "base_uri": "https://localhost:8080/",
          "height": 203
        },
        "id": "uJJC1e00x3FH",
        "outputId": "3d6c1f6b-db6f-48ab-9deb-5b7120e6f215"
      },
      "source": [
        "df.head()"
      ],
      "execution_count": 52,
      "outputs": [
        {
          "output_type": "execute_result",
          "data": {
            "text/html": [
              "<div>\n",
              "<style scoped>\n",
              "    .dataframe tbody tr th:only-of-type {\n",
              "        vertical-align: middle;\n",
              "    }\n",
              "\n",
              "    .dataframe tbody tr th {\n",
              "        vertical-align: top;\n",
              "    }\n",
              "\n",
              "    .dataframe thead th {\n",
              "        text-align: right;\n",
              "    }\n",
              "</style>\n",
              "<table border=\"1\" class=\"dataframe\">\n",
              "  <thead>\n",
              "    <tr style=\"text-align: right;\">\n",
              "      <th></th>\n",
              "      <th>Date</th>\n",
              "      <th>Symbol</th>\n",
              "      <th>Open</th>\n",
              "      <th>High</th>\n",
              "      <th>Low</th>\n",
              "      <th>Close</th>\n",
              "      <th>Volume</th>\n",
              "    </tr>\n",
              "  </thead>\n",
              "  <tbody>\n",
              "    <tr>\n",
              "      <th>0</th>\n",
              "      <td>2020-03-13 20:00:00</td>\n",
              "      <td>ETHUSD</td>\n",
              "      <td>129.94</td>\n",
              "      <td>131.82</td>\n",
              "      <td>126.87</td>\n",
              "      <td>128.71</td>\n",
              "      <td>1940673.93</td>\n",
              "    </tr>\n",
              "    <tr>\n",
              "      <th>1</th>\n",
              "      <td>2020-03-13 19:00:00</td>\n",
              "      <td>ETHUSD</td>\n",
              "      <td>119.51</td>\n",
              "      <td>132.02</td>\n",
              "      <td>117.10</td>\n",
              "      <td>129.94</td>\n",
              "      <td>7579741.09</td>\n",
              "    </tr>\n",
              "    <tr>\n",
              "      <th>2</th>\n",
              "      <td>2020-03-13 18:00:00</td>\n",
              "      <td>ETHUSD</td>\n",
              "      <td>124.47</td>\n",
              "      <td>124.85</td>\n",
              "      <td>115.50</td>\n",
              "      <td>119.51</td>\n",
              "      <td>4898735.81</td>\n",
              "    </tr>\n",
              "    <tr>\n",
              "      <th>3</th>\n",
              "      <td>2020-03-13 17:00:00</td>\n",
              "      <td>ETHUSD</td>\n",
              "      <td>124.08</td>\n",
              "      <td>127.42</td>\n",
              "      <td>121.63</td>\n",
              "      <td>124.47</td>\n",
              "      <td>2753450.92</td>\n",
              "    </tr>\n",
              "    <tr>\n",
              "      <th>4</th>\n",
              "      <td>2020-03-13 16:00:00</td>\n",
              "      <td>ETHUSD</td>\n",
              "      <td>124.85</td>\n",
              "      <td>129.51</td>\n",
              "      <td>120.17</td>\n",
              "      <td>124.08</td>\n",
              "      <td>4461424.71</td>\n",
              "    </tr>\n",
              "  </tbody>\n",
              "</table>\n",
              "</div>"
            ],
            "text/plain": [
              "                 Date  Symbol    Open    High     Low   Close      Volume\n",
              "0 2020-03-13 20:00:00  ETHUSD  129.94  131.82  126.87  128.71  1940673.93\n",
              "1 2020-03-13 19:00:00  ETHUSD  119.51  132.02  117.10  129.94  7579741.09\n",
              "2 2020-03-13 18:00:00  ETHUSD  124.47  124.85  115.50  119.51  4898735.81\n",
              "3 2020-03-13 17:00:00  ETHUSD  124.08  127.42  121.63  124.47  2753450.92\n",
              "4 2020-03-13 16:00:00  ETHUSD  124.85  129.51  120.17  124.08  4461424.71"
            ]
          },
          "metadata": {},
          "execution_count": 52
        }
      ]
    },
    {
      "cell_type": "code",
      "metadata": {
        "colab": {
          "base_uri": "https://localhost:8080/",
          "height": 35
        },
        "id": "YhF1sbB112u6",
        "outputId": "f33d2808-6e14-4447-f3a6-eb2a4b516d5e"
      },
      "source": [
        "# Now let's see if we want to run day method on the entire series objects\n",
        "# We can do this by using the dt class\n",
        "\n",
        "df.loc[0, 'Date'].day_name()"
      ],
      "execution_count": 53,
      "outputs": [
        {
          "output_type": "execute_result",
          "data": {
            "application/vnd.google.colaboratory.intrinsic+json": {
              "type": "string"
            },
            "text/plain": [
              "'Friday'"
            ]
          },
          "metadata": {},
          "execution_count": 53
        }
      ]
    },
    {
      "cell_type": "code",
      "metadata": {
        "colab": {
          "base_uri": "https://localhost:8080/"
        },
        "id": "Rzxf-iEF1217",
        "outputId": "eb27c5bb-6e03-4432-9b0e-72754c66e7b0"
      },
      "source": [
        "df['Date'].dt.day_name()"
      ],
      "execution_count": 54,
      "outputs": [
        {
          "output_type": "execute_result",
          "data": {
            "text/plain": [
              "0          Friday\n",
              "1          Friday\n",
              "2          Friday\n",
              "3          Friday\n",
              "4          Friday\n",
              "           ...   \n",
              "23669    Saturday\n",
              "23670    Saturday\n",
              "23671    Saturday\n",
              "23672    Saturday\n",
              "23673    Saturday\n",
              "Name: Date, Length: 23674, dtype: object"
            ]
          },
          "metadata": {},
          "execution_count": 54
        }
      ]
    },
    {
      "cell_type": "code",
      "metadata": {
        "id": "C-6-lfN1127l"
      },
      "source": [
        "# Now let's create a new column were all this days of the week \n",
        "\n",
        "df['DaysOfWeek'] = df['Date'].dt.day_name()"
      ],
      "execution_count": 55,
      "outputs": []
    },
    {
      "cell_type": "code",
      "metadata": {
        "colab": {
          "base_uri": "https://localhost:8080/",
          "height": 417
        },
        "id": "pP94L1y913BH",
        "outputId": "c8bcef21-cf59-44a8-e3f1-fdc06a4a3ee1"
      },
      "source": [
        "df\n",
        "\n",
        "# Now we can see the DaysOfWeek in our dataframe"
      ],
      "execution_count": 56,
      "outputs": [
        {
          "output_type": "execute_result",
          "data": {
            "text/html": [
              "<div>\n",
              "<style scoped>\n",
              "    .dataframe tbody tr th:only-of-type {\n",
              "        vertical-align: middle;\n",
              "    }\n",
              "\n",
              "    .dataframe tbody tr th {\n",
              "        vertical-align: top;\n",
              "    }\n",
              "\n",
              "    .dataframe thead th {\n",
              "        text-align: right;\n",
              "    }\n",
              "</style>\n",
              "<table border=\"1\" class=\"dataframe\">\n",
              "  <thead>\n",
              "    <tr style=\"text-align: right;\">\n",
              "      <th></th>\n",
              "      <th>Date</th>\n",
              "      <th>Symbol</th>\n",
              "      <th>Open</th>\n",
              "      <th>High</th>\n",
              "      <th>Low</th>\n",
              "      <th>Close</th>\n",
              "      <th>Volume</th>\n",
              "      <th>DaysOfWeek</th>\n",
              "    </tr>\n",
              "  </thead>\n",
              "  <tbody>\n",
              "    <tr>\n",
              "      <th>0</th>\n",
              "      <td>2020-03-13 20:00:00</td>\n",
              "      <td>ETHUSD</td>\n",
              "      <td>129.94</td>\n",
              "      <td>131.82</td>\n",
              "      <td>126.87</td>\n",
              "      <td>128.71</td>\n",
              "      <td>1940673.93</td>\n",
              "      <td>Friday</td>\n",
              "    </tr>\n",
              "    <tr>\n",
              "      <th>1</th>\n",
              "      <td>2020-03-13 19:00:00</td>\n",
              "      <td>ETHUSD</td>\n",
              "      <td>119.51</td>\n",
              "      <td>132.02</td>\n",
              "      <td>117.10</td>\n",
              "      <td>129.94</td>\n",
              "      <td>7579741.09</td>\n",
              "      <td>Friday</td>\n",
              "    </tr>\n",
              "    <tr>\n",
              "      <th>2</th>\n",
              "      <td>2020-03-13 18:00:00</td>\n",
              "      <td>ETHUSD</td>\n",
              "      <td>124.47</td>\n",
              "      <td>124.85</td>\n",
              "      <td>115.50</td>\n",
              "      <td>119.51</td>\n",
              "      <td>4898735.81</td>\n",
              "      <td>Friday</td>\n",
              "    </tr>\n",
              "    <tr>\n",
              "      <th>3</th>\n",
              "      <td>2020-03-13 17:00:00</td>\n",
              "      <td>ETHUSD</td>\n",
              "      <td>124.08</td>\n",
              "      <td>127.42</td>\n",
              "      <td>121.63</td>\n",
              "      <td>124.47</td>\n",
              "      <td>2753450.92</td>\n",
              "      <td>Friday</td>\n",
              "    </tr>\n",
              "    <tr>\n",
              "      <th>4</th>\n",
              "      <td>2020-03-13 16:00:00</td>\n",
              "      <td>ETHUSD</td>\n",
              "      <td>124.85</td>\n",
              "      <td>129.51</td>\n",
              "      <td>120.17</td>\n",
              "      <td>124.08</td>\n",
              "      <td>4461424.71</td>\n",
              "      <td>Friday</td>\n",
              "    </tr>\n",
              "    <tr>\n",
              "      <th>...</th>\n",
              "      <td>...</td>\n",
              "      <td>...</td>\n",
              "      <td>...</td>\n",
              "      <td>...</td>\n",
              "      <td>...</td>\n",
              "      <td>...</td>\n",
              "      <td>...</td>\n",
              "      <td>...</td>\n",
              "    </tr>\n",
              "    <tr>\n",
              "      <th>23669</th>\n",
              "      <td>2017-07-01 15:00:00</td>\n",
              "      <td>ETHUSD</td>\n",
              "      <td>265.74</td>\n",
              "      <td>272.74</td>\n",
              "      <td>265.00</td>\n",
              "      <td>272.57</td>\n",
              "      <td>1500282.55</td>\n",
              "      <td>Saturday</td>\n",
              "    </tr>\n",
              "    <tr>\n",
              "      <th>23670</th>\n",
              "      <td>2017-07-01 14:00:00</td>\n",
              "      <td>ETHUSD</td>\n",
              "      <td>268.79</td>\n",
              "      <td>269.90</td>\n",
              "      <td>265.00</td>\n",
              "      <td>265.74</td>\n",
              "      <td>1702536.85</td>\n",
              "      <td>Saturday</td>\n",
              "    </tr>\n",
              "    <tr>\n",
              "      <th>23671</th>\n",
              "      <td>2017-07-01 13:00:00</td>\n",
              "      <td>ETHUSD</td>\n",
              "      <td>274.83</td>\n",
              "      <td>274.93</td>\n",
              "      <td>265.00</td>\n",
              "      <td>268.79</td>\n",
              "      <td>3010787.99</td>\n",
              "      <td>Saturday</td>\n",
              "    </tr>\n",
              "    <tr>\n",
              "      <th>23672</th>\n",
              "      <td>2017-07-01 12:00:00</td>\n",
              "      <td>ETHUSD</td>\n",
              "      <td>275.01</td>\n",
              "      <td>275.01</td>\n",
              "      <td>271.00</td>\n",
              "      <td>274.83</td>\n",
              "      <td>824362.87</td>\n",
              "      <td>Saturday</td>\n",
              "    </tr>\n",
              "    <tr>\n",
              "      <th>23673</th>\n",
              "      <td>2017-07-01 11:00:00</td>\n",
              "      <td>ETHUSD</td>\n",
              "      <td>279.98</td>\n",
              "      <td>279.99</td>\n",
              "      <td>272.10</td>\n",
              "      <td>275.01</td>\n",
              "      <td>679358.87</td>\n",
              "      <td>Saturday</td>\n",
              "    </tr>\n",
              "  </tbody>\n",
              "</table>\n",
              "<p>23674 rows × 8 columns</p>\n",
              "</div>"
            ],
            "text/plain": [
              "                     Date  Symbol    Open  ...   Close      Volume  DaysOfWeek\n",
              "0     2020-03-13 20:00:00  ETHUSD  129.94  ...  128.71  1940673.93      Friday\n",
              "1     2020-03-13 19:00:00  ETHUSD  119.51  ...  129.94  7579741.09      Friday\n",
              "2     2020-03-13 18:00:00  ETHUSD  124.47  ...  119.51  4898735.81      Friday\n",
              "3     2020-03-13 17:00:00  ETHUSD  124.08  ...  124.47  2753450.92      Friday\n",
              "4     2020-03-13 16:00:00  ETHUSD  124.85  ...  124.08  4461424.71      Friday\n",
              "...                   ...     ...     ...  ...     ...         ...         ...\n",
              "23669 2017-07-01 15:00:00  ETHUSD  265.74  ...  272.57  1500282.55    Saturday\n",
              "23670 2017-07-01 14:00:00  ETHUSD  268.79  ...  265.74  1702536.85    Saturday\n",
              "23671 2017-07-01 13:00:00  ETHUSD  274.83  ...  268.79  3010787.99    Saturday\n",
              "23672 2017-07-01 12:00:00  ETHUSD  275.01  ...  274.83   824362.87    Saturday\n",
              "23673 2017-07-01 11:00:00  ETHUSD  279.98  ...  275.01   679358.87    Saturday\n",
              "\n",
              "[23674 rows x 8 columns]"
            ]
          },
          "metadata": {},
          "execution_count": 56
        }
      ]
    },
    {
      "cell_type": "code",
      "metadata": {
        "colab": {
          "base_uri": "https://localhost:8080/"
        },
        "id": "lCbPdt2G5AFL",
        "outputId": "b76cc993-fa49-46bd-f38e-0ef781b9a579"
      },
      "source": [
        "# Now we can also see the earliest date by using the min and max method\n",
        "\n",
        "df['Date'].min()"
      ],
      "execution_count": 57,
      "outputs": [
        {
          "output_type": "execute_result",
          "data": {
            "text/plain": [
              "Timestamp('2017-07-01 11:00:00')"
            ]
          },
          "metadata": {},
          "execution_count": 57
        }
      ]
    },
    {
      "cell_type": "code",
      "metadata": {
        "colab": {
          "base_uri": "https://localhost:8080/"
        },
        "id": "BN3RVKHh5AKI",
        "outputId": "fb4eb1d2-bdc3-488b-ce9e-ac8f188a20b9"
      },
      "source": [
        "# For most recent dates we will use the max method\n",
        "\n",
        "df['Date'].max()"
      ],
      "execution_count": 58,
      "outputs": [
        {
          "output_type": "execute_result",
          "data": {
            "text/plain": [
              "Timestamp('2020-03-13 20:00:00')"
            ]
          },
          "metadata": {},
          "execution_count": 58
        }
      ]
    },
    {
      "cell_type": "code",
      "metadata": {
        "colab": {
          "base_uri": "https://localhost:8080/"
        },
        "id": "AV9JQgUM5AOb",
        "outputId": "071ba368-1f2e-436d-b632-d7792f1eeac7"
      },
      "source": [
        "# we can also substract the dates or in other words we can see number of days between the days by using delta method\n",
        "\n",
        "df['Date'].max() - df['Date'].min()"
      ],
      "execution_count": 59,
      "outputs": [
        {
          "output_type": "execute_result",
          "data": {
            "text/plain": [
              "Timedelta('986 days 09:00:00')"
            ]
          },
          "metadata": {},
          "execution_count": 59
        }
      ]
    },
    {
      "cell_type": "code",
      "metadata": {
        "colab": {
          "base_uri": "https://localhost:8080/",
          "height": 417
        },
        "id": "NSPZU_0s5ATJ",
        "outputId": "7db3e310-f6ad-4feb-be31-0523b6a6b574"
      },
      "source": [
        "# Now suppose if we want our dates only in 2020 year\n",
        "\n",
        "filt = (df['Date'] >= '2020')\n",
        "df.loc[filt]"
      ],
      "execution_count": 60,
      "outputs": [
        {
          "output_type": "execute_result",
          "data": {
            "text/html": [
              "<div>\n",
              "<style scoped>\n",
              "    .dataframe tbody tr th:only-of-type {\n",
              "        vertical-align: middle;\n",
              "    }\n",
              "\n",
              "    .dataframe tbody tr th {\n",
              "        vertical-align: top;\n",
              "    }\n",
              "\n",
              "    .dataframe thead th {\n",
              "        text-align: right;\n",
              "    }\n",
              "</style>\n",
              "<table border=\"1\" class=\"dataframe\">\n",
              "  <thead>\n",
              "    <tr style=\"text-align: right;\">\n",
              "      <th></th>\n",
              "      <th>Date</th>\n",
              "      <th>Symbol</th>\n",
              "      <th>Open</th>\n",
              "      <th>High</th>\n",
              "      <th>Low</th>\n",
              "      <th>Close</th>\n",
              "      <th>Volume</th>\n",
              "      <th>DaysOfWeek</th>\n",
              "    </tr>\n",
              "  </thead>\n",
              "  <tbody>\n",
              "    <tr>\n",
              "      <th>0</th>\n",
              "      <td>2020-03-13 20:00:00</td>\n",
              "      <td>ETHUSD</td>\n",
              "      <td>129.94</td>\n",
              "      <td>131.82</td>\n",
              "      <td>126.87</td>\n",
              "      <td>128.71</td>\n",
              "      <td>1940673.93</td>\n",
              "      <td>Friday</td>\n",
              "    </tr>\n",
              "    <tr>\n",
              "      <th>1</th>\n",
              "      <td>2020-03-13 19:00:00</td>\n",
              "      <td>ETHUSD</td>\n",
              "      <td>119.51</td>\n",
              "      <td>132.02</td>\n",
              "      <td>117.10</td>\n",
              "      <td>129.94</td>\n",
              "      <td>7579741.09</td>\n",
              "      <td>Friday</td>\n",
              "    </tr>\n",
              "    <tr>\n",
              "      <th>2</th>\n",
              "      <td>2020-03-13 18:00:00</td>\n",
              "      <td>ETHUSD</td>\n",
              "      <td>124.47</td>\n",
              "      <td>124.85</td>\n",
              "      <td>115.50</td>\n",
              "      <td>119.51</td>\n",
              "      <td>4898735.81</td>\n",
              "      <td>Friday</td>\n",
              "    </tr>\n",
              "    <tr>\n",
              "      <th>3</th>\n",
              "      <td>2020-03-13 17:00:00</td>\n",
              "      <td>ETHUSD</td>\n",
              "      <td>124.08</td>\n",
              "      <td>127.42</td>\n",
              "      <td>121.63</td>\n",
              "      <td>124.47</td>\n",
              "      <td>2753450.92</td>\n",
              "      <td>Friday</td>\n",
              "    </tr>\n",
              "    <tr>\n",
              "      <th>4</th>\n",
              "      <td>2020-03-13 16:00:00</td>\n",
              "      <td>ETHUSD</td>\n",
              "      <td>124.85</td>\n",
              "      <td>129.51</td>\n",
              "      <td>120.17</td>\n",
              "      <td>124.08</td>\n",
              "      <td>4461424.71</td>\n",
              "      <td>Friday</td>\n",
              "    </tr>\n",
              "    <tr>\n",
              "      <th>...</th>\n",
              "      <td>...</td>\n",
              "      <td>...</td>\n",
              "      <td>...</td>\n",
              "      <td>...</td>\n",
              "      <td>...</td>\n",
              "      <td>...</td>\n",
              "      <td>...</td>\n",
              "      <td>...</td>\n",
              "    </tr>\n",
              "    <tr>\n",
              "      <th>1744</th>\n",
              "      <td>2020-01-01 04:00:00</td>\n",
              "      <td>ETHUSD</td>\n",
              "      <td>129.57</td>\n",
              "      <td>130.00</td>\n",
              "      <td>129.50</td>\n",
              "      <td>129.56</td>\n",
              "      <td>702786.82</td>\n",
              "      <td>Wednesday</td>\n",
              "    </tr>\n",
              "    <tr>\n",
              "      <th>1745</th>\n",
              "      <td>2020-01-01 03:00:00</td>\n",
              "      <td>ETHUSD</td>\n",
              "      <td>130.37</td>\n",
              "      <td>130.44</td>\n",
              "      <td>129.38</td>\n",
              "      <td>129.57</td>\n",
              "      <td>496704.23</td>\n",
              "      <td>Wednesday</td>\n",
              "    </tr>\n",
              "    <tr>\n",
              "      <th>1746</th>\n",
              "      <td>2020-01-01 02:00:00</td>\n",
              "      <td>ETHUSD</td>\n",
              "      <td>130.14</td>\n",
              "      <td>130.50</td>\n",
              "      <td>129.91</td>\n",
              "      <td>130.37</td>\n",
              "      <td>396315.72</td>\n",
              "      <td>Wednesday</td>\n",
              "    </tr>\n",
              "    <tr>\n",
              "      <th>1747</th>\n",
              "      <td>2020-01-01 01:00:00</td>\n",
              "      <td>ETHUSD</td>\n",
              "      <td>128.34</td>\n",
              "      <td>130.14</td>\n",
              "      <td>128.32</td>\n",
              "      <td>130.14</td>\n",
              "      <td>635419.40</td>\n",
              "      <td>Wednesday</td>\n",
              "    </tr>\n",
              "    <tr>\n",
              "      <th>1748</th>\n",
              "      <td>2020-01-01 00:00:00</td>\n",
              "      <td>ETHUSD</td>\n",
              "      <td>128.54</td>\n",
              "      <td>128.54</td>\n",
              "      <td>128.12</td>\n",
              "      <td>128.34</td>\n",
              "      <td>245119.91</td>\n",
              "      <td>Wednesday</td>\n",
              "    </tr>\n",
              "  </tbody>\n",
              "</table>\n",
              "<p>1749 rows × 8 columns</p>\n",
              "</div>"
            ],
            "text/plain": [
              "                    Date  Symbol    Open  ...   Close      Volume  DaysOfWeek\n",
              "0    2020-03-13 20:00:00  ETHUSD  129.94  ...  128.71  1940673.93      Friday\n",
              "1    2020-03-13 19:00:00  ETHUSD  119.51  ...  129.94  7579741.09      Friday\n",
              "2    2020-03-13 18:00:00  ETHUSD  124.47  ...  119.51  4898735.81      Friday\n",
              "3    2020-03-13 17:00:00  ETHUSD  124.08  ...  124.47  2753450.92      Friday\n",
              "4    2020-03-13 16:00:00  ETHUSD  124.85  ...  124.08  4461424.71      Friday\n",
              "...                  ...     ...     ...  ...     ...         ...         ...\n",
              "1744 2020-01-01 04:00:00  ETHUSD  129.57  ...  129.56   702786.82   Wednesday\n",
              "1745 2020-01-01 03:00:00  ETHUSD  130.37  ...  129.57   496704.23   Wednesday\n",
              "1746 2020-01-01 02:00:00  ETHUSD  130.14  ...  130.37   396315.72   Wednesday\n",
              "1747 2020-01-01 01:00:00  ETHUSD  128.34  ...  130.14   635419.40   Wednesday\n",
              "1748 2020-01-01 00:00:00  ETHUSD  128.54  ...  128.34   245119.91   Wednesday\n",
              "\n",
              "[1749 rows x 8 columns]"
            ]
          },
          "metadata": {},
          "execution_count": 60
        }
      ]
    },
    {
      "cell_type": "code",
      "metadata": {
        "colab": {
          "base_uri": "https://localhost:8080/",
          "height": 417
        },
        "id": "jddftAJx5AXB",
        "outputId": "5889dd61-c906-4c76-96c0-6197f9c8a671"
      },
      "source": [
        "# Now suppose we want our data to be only 2019 then\n",
        "\n",
        "filt = (df['Date'] >= '2019') & (df['Date'] < '2020')\n",
        "df.loc[filt]\n"
      ],
      "execution_count": 61,
      "outputs": [
        {
          "output_type": "execute_result",
          "data": {
            "text/html": [
              "<div>\n",
              "<style scoped>\n",
              "    .dataframe tbody tr th:only-of-type {\n",
              "        vertical-align: middle;\n",
              "    }\n",
              "\n",
              "    .dataframe tbody tr th {\n",
              "        vertical-align: top;\n",
              "    }\n",
              "\n",
              "    .dataframe thead th {\n",
              "        text-align: right;\n",
              "    }\n",
              "</style>\n",
              "<table border=\"1\" class=\"dataframe\">\n",
              "  <thead>\n",
              "    <tr style=\"text-align: right;\">\n",
              "      <th></th>\n",
              "      <th>Date</th>\n",
              "      <th>Symbol</th>\n",
              "      <th>Open</th>\n",
              "      <th>High</th>\n",
              "      <th>Low</th>\n",
              "      <th>Close</th>\n",
              "      <th>Volume</th>\n",
              "      <th>DaysOfWeek</th>\n",
              "    </tr>\n",
              "  </thead>\n",
              "  <tbody>\n",
              "    <tr>\n",
              "      <th>1749</th>\n",
              "      <td>2019-12-31 23:00:00</td>\n",
              "      <td>ETHUSD</td>\n",
              "      <td>128.33</td>\n",
              "      <td>128.69</td>\n",
              "      <td>128.14</td>\n",
              "      <td>128.54</td>\n",
              "      <td>440678.91</td>\n",
              "      <td>Tuesday</td>\n",
              "    </tr>\n",
              "    <tr>\n",
              "      <th>1750</th>\n",
              "      <td>2019-12-31 22:00:00</td>\n",
              "      <td>ETHUSD</td>\n",
              "      <td>128.38</td>\n",
              "      <td>128.69</td>\n",
              "      <td>127.95</td>\n",
              "      <td>128.33</td>\n",
              "      <td>554646.02</td>\n",
              "      <td>Tuesday</td>\n",
              "    </tr>\n",
              "    <tr>\n",
              "      <th>1751</th>\n",
              "      <td>2019-12-31 21:00:00</td>\n",
              "      <td>ETHUSD</td>\n",
              "      <td>127.86</td>\n",
              "      <td>128.43</td>\n",
              "      <td>127.72</td>\n",
              "      <td>128.38</td>\n",
              "      <td>350155.69</td>\n",
              "      <td>Tuesday</td>\n",
              "    </tr>\n",
              "    <tr>\n",
              "      <th>1752</th>\n",
              "      <td>2019-12-31 20:00:00</td>\n",
              "      <td>ETHUSD</td>\n",
              "      <td>127.84</td>\n",
              "      <td>128.34</td>\n",
              "      <td>127.71</td>\n",
              "      <td>127.86</td>\n",
              "      <td>428183.38</td>\n",
              "      <td>Tuesday</td>\n",
              "    </tr>\n",
              "    <tr>\n",
              "      <th>1753</th>\n",
              "      <td>2019-12-31 19:00:00</td>\n",
              "      <td>ETHUSD</td>\n",
              "      <td>128.69</td>\n",
              "      <td>128.69</td>\n",
              "      <td>127.60</td>\n",
              "      <td>127.84</td>\n",
              "      <td>1169847.84</td>\n",
              "      <td>Tuesday</td>\n",
              "    </tr>\n",
              "    <tr>\n",
              "      <th>...</th>\n",
              "      <td>...</td>\n",
              "      <td>...</td>\n",
              "      <td>...</td>\n",
              "      <td>...</td>\n",
              "      <td>...</td>\n",
              "      <td>...</td>\n",
              "      <td>...</td>\n",
              "      <td>...</td>\n",
              "    </tr>\n",
              "    <tr>\n",
              "      <th>10504</th>\n",
              "      <td>2019-01-01 04:00:00</td>\n",
              "      <td>ETHUSD</td>\n",
              "      <td>130.75</td>\n",
              "      <td>133.96</td>\n",
              "      <td>130.74</td>\n",
              "      <td>131.96</td>\n",
              "      <td>2791135.37</td>\n",
              "      <td>Tuesday</td>\n",
              "    </tr>\n",
              "    <tr>\n",
              "      <th>10505</th>\n",
              "      <td>2019-01-01 03:00:00</td>\n",
              "      <td>ETHUSD</td>\n",
              "      <td>130.06</td>\n",
              "      <td>130.79</td>\n",
              "      <td>130.06</td>\n",
              "      <td>130.75</td>\n",
              "      <td>503732.63</td>\n",
              "      <td>Tuesday</td>\n",
              "    </tr>\n",
              "    <tr>\n",
              "      <th>10506</th>\n",
              "      <td>2019-01-01 02:00:00</td>\n",
              "      <td>ETHUSD</td>\n",
              "      <td>130.79</td>\n",
              "      <td>130.88</td>\n",
              "      <td>129.55</td>\n",
              "      <td>130.06</td>\n",
              "      <td>838183.43</td>\n",
              "      <td>Tuesday</td>\n",
              "    </tr>\n",
              "    <tr>\n",
              "      <th>10507</th>\n",
              "      <td>2019-01-01 01:00:00</td>\n",
              "      <td>ETHUSD</td>\n",
              "      <td>131.62</td>\n",
              "      <td>131.62</td>\n",
              "      <td>130.77</td>\n",
              "      <td>130.79</td>\n",
              "      <td>434917.99</td>\n",
              "      <td>Tuesday</td>\n",
              "    </tr>\n",
              "    <tr>\n",
              "      <th>10508</th>\n",
              "      <td>2019-01-01 00:00:00</td>\n",
              "      <td>ETHUSD</td>\n",
              "      <td>130.53</td>\n",
              "      <td>131.91</td>\n",
              "      <td>130.48</td>\n",
              "      <td>131.62</td>\n",
              "      <td>1067136.21</td>\n",
              "      <td>Tuesday</td>\n",
              "    </tr>\n",
              "  </tbody>\n",
              "</table>\n",
              "<p>8760 rows × 8 columns</p>\n",
              "</div>"
            ],
            "text/plain": [
              "                     Date  Symbol    Open  ...   Close      Volume  DaysOfWeek\n",
              "1749  2019-12-31 23:00:00  ETHUSD  128.33  ...  128.54   440678.91     Tuesday\n",
              "1750  2019-12-31 22:00:00  ETHUSD  128.38  ...  128.33   554646.02     Tuesday\n",
              "1751  2019-12-31 21:00:00  ETHUSD  127.86  ...  128.38   350155.69     Tuesday\n",
              "1752  2019-12-31 20:00:00  ETHUSD  127.84  ...  127.86   428183.38     Tuesday\n",
              "1753  2019-12-31 19:00:00  ETHUSD  128.69  ...  127.84  1169847.84     Tuesday\n",
              "...                   ...     ...     ...  ...     ...         ...         ...\n",
              "10504 2019-01-01 04:00:00  ETHUSD  130.75  ...  131.96  2791135.37     Tuesday\n",
              "10505 2019-01-01 03:00:00  ETHUSD  130.06  ...  130.75   503732.63     Tuesday\n",
              "10506 2019-01-01 02:00:00  ETHUSD  130.79  ...  130.06   838183.43     Tuesday\n",
              "10507 2019-01-01 01:00:00  ETHUSD  131.62  ...  130.79   434917.99     Tuesday\n",
              "10508 2019-01-01 00:00:00  ETHUSD  130.53  ...  131.62  1067136.21     Tuesday\n",
              "\n",
              "[8760 rows x 8 columns]"
            ]
          },
          "metadata": {},
          "execution_count": 61
        }
      ]
    },
    {
      "cell_type": "code",
      "metadata": {
        "colab": {
          "base_uri": "https://localhost:8080/",
          "height": 417
        },
        "id": "8K2AVvda5AbV",
        "outputId": "8aa3a478-3896-4a5e-c9ac-ffd92d5f6809"
      },
      "source": [
        "# We can also filter it by using the pd.datetime method.\n",
        "\n",
        "filt = (df['Date'] >= pd.to_datetime('2019-01-01')) & (df['Date'] < pd.to_datetime('2020-01-01'))\n",
        "df.loc[filt]"
      ],
      "execution_count": 62,
      "outputs": [
        {
          "output_type": "execute_result",
          "data": {
            "text/html": [
              "<div>\n",
              "<style scoped>\n",
              "    .dataframe tbody tr th:only-of-type {\n",
              "        vertical-align: middle;\n",
              "    }\n",
              "\n",
              "    .dataframe tbody tr th {\n",
              "        vertical-align: top;\n",
              "    }\n",
              "\n",
              "    .dataframe thead th {\n",
              "        text-align: right;\n",
              "    }\n",
              "</style>\n",
              "<table border=\"1\" class=\"dataframe\">\n",
              "  <thead>\n",
              "    <tr style=\"text-align: right;\">\n",
              "      <th></th>\n",
              "      <th>Date</th>\n",
              "      <th>Symbol</th>\n",
              "      <th>Open</th>\n",
              "      <th>High</th>\n",
              "      <th>Low</th>\n",
              "      <th>Close</th>\n",
              "      <th>Volume</th>\n",
              "      <th>DaysOfWeek</th>\n",
              "    </tr>\n",
              "  </thead>\n",
              "  <tbody>\n",
              "    <tr>\n",
              "      <th>1749</th>\n",
              "      <td>2019-12-31 23:00:00</td>\n",
              "      <td>ETHUSD</td>\n",
              "      <td>128.33</td>\n",
              "      <td>128.69</td>\n",
              "      <td>128.14</td>\n",
              "      <td>128.54</td>\n",
              "      <td>440678.91</td>\n",
              "      <td>Tuesday</td>\n",
              "    </tr>\n",
              "    <tr>\n",
              "      <th>1750</th>\n",
              "      <td>2019-12-31 22:00:00</td>\n",
              "      <td>ETHUSD</td>\n",
              "      <td>128.38</td>\n",
              "      <td>128.69</td>\n",
              "      <td>127.95</td>\n",
              "      <td>128.33</td>\n",
              "      <td>554646.02</td>\n",
              "      <td>Tuesday</td>\n",
              "    </tr>\n",
              "    <tr>\n",
              "      <th>1751</th>\n",
              "      <td>2019-12-31 21:00:00</td>\n",
              "      <td>ETHUSD</td>\n",
              "      <td>127.86</td>\n",
              "      <td>128.43</td>\n",
              "      <td>127.72</td>\n",
              "      <td>128.38</td>\n",
              "      <td>350155.69</td>\n",
              "      <td>Tuesday</td>\n",
              "    </tr>\n",
              "    <tr>\n",
              "      <th>1752</th>\n",
              "      <td>2019-12-31 20:00:00</td>\n",
              "      <td>ETHUSD</td>\n",
              "      <td>127.84</td>\n",
              "      <td>128.34</td>\n",
              "      <td>127.71</td>\n",
              "      <td>127.86</td>\n",
              "      <td>428183.38</td>\n",
              "      <td>Tuesday</td>\n",
              "    </tr>\n",
              "    <tr>\n",
              "      <th>1753</th>\n",
              "      <td>2019-12-31 19:00:00</td>\n",
              "      <td>ETHUSD</td>\n",
              "      <td>128.69</td>\n",
              "      <td>128.69</td>\n",
              "      <td>127.60</td>\n",
              "      <td>127.84</td>\n",
              "      <td>1169847.84</td>\n",
              "      <td>Tuesday</td>\n",
              "    </tr>\n",
              "    <tr>\n",
              "      <th>...</th>\n",
              "      <td>...</td>\n",
              "      <td>...</td>\n",
              "      <td>...</td>\n",
              "      <td>...</td>\n",
              "      <td>...</td>\n",
              "      <td>...</td>\n",
              "      <td>...</td>\n",
              "      <td>...</td>\n",
              "    </tr>\n",
              "    <tr>\n",
              "      <th>10504</th>\n",
              "      <td>2019-01-01 04:00:00</td>\n",
              "      <td>ETHUSD</td>\n",
              "      <td>130.75</td>\n",
              "      <td>133.96</td>\n",
              "      <td>130.74</td>\n",
              "      <td>131.96</td>\n",
              "      <td>2791135.37</td>\n",
              "      <td>Tuesday</td>\n",
              "    </tr>\n",
              "    <tr>\n",
              "      <th>10505</th>\n",
              "      <td>2019-01-01 03:00:00</td>\n",
              "      <td>ETHUSD</td>\n",
              "      <td>130.06</td>\n",
              "      <td>130.79</td>\n",
              "      <td>130.06</td>\n",
              "      <td>130.75</td>\n",
              "      <td>503732.63</td>\n",
              "      <td>Tuesday</td>\n",
              "    </tr>\n",
              "    <tr>\n",
              "      <th>10506</th>\n",
              "      <td>2019-01-01 02:00:00</td>\n",
              "      <td>ETHUSD</td>\n",
              "      <td>130.79</td>\n",
              "      <td>130.88</td>\n",
              "      <td>129.55</td>\n",
              "      <td>130.06</td>\n",
              "      <td>838183.43</td>\n",
              "      <td>Tuesday</td>\n",
              "    </tr>\n",
              "    <tr>\n",
              "      <th>10507</th>\n",
              "      <td>2019-01-01 01:00:00</td>\n",
              "      <td>ETHUSD</td>\n",
              "      <td>131.62</td>\n",
              "      <td>131.62</td>\n",
              "      <td>130.77</td>\n",
              "      <td>130.79</td>\n",
              "      <td>434917.99</td>\n",
              "      <td>Tuesday</td>\n",
              "    </tr>\n",
              "    <tr>\n",
              "      <th>10508</th>\n",
              "      <td>2019-01-01 00:00:00</td>\n",
              "      <td>ETHUSD</td>\n",
              "      <td>130.53</td>\n",
              "      <td>131.91</td>\n",
              "      <td>130.48</td>\n",
              "      <td>131.62</td>\n",
              "      <td>1067136.21</td>\n",
              "      <td>Tuesday</td>\n",
              "    </tr>\n",
              "  </tbody>\n",
              "</table>\n",
              "<p>8760 rows × 8 columns</p>\n",
              "</div>"
            ],
            "text/plain": [
              "                     Date  Symbol    Open  ...   Close      Volume  DaysOfWeek\n",
              "1749  2019-12-31 23:00:00  ETHUSD  128.33  ...  128.54   440678.91     Tuesday\n",
              "1750  2019-12-31 22:00:00  ETHUSD  128.38  ...  128.33   554646.02     Tuesday\n",
              "1751  2019-12-31 21:00:00  ETHUSD  127.86  ...  128.38   350155.69     Tuesday\n",
              "1752  2019-12-31 20:00:00  ETHUSD  127.84  ...  127.86   428183.38     Tuesday\n",
              "1753  2019-12-31 19:00:00  ETHUSD  128.69  ...  127.84  1169847.84     Tuesday\n",
              "...                   ...     ...     ...  ...     ...         ...         ...\n",
              "10504 2019-01-01 04:00:00  ETHUSD  130.75  ...  131.96  2791135.37     Tuesday\n",
              "10505 2019-01-01 03:00:00  ETHUSD  130.06  ...  130.75   503732.63     Tuesday\n",
              "10506 2019-01-01 02:00:00  ETHUSD  130.79  ...  130.06   838183.43     Tuesday\n",
              "10507 2019-01-01 01:00:00  ETHUSD  131.62  ...  130.79   434917.99     Tuesday\n",
              "10508 2019-01-01 00:00:00  ETHUSD  130.53  ...  131.62  1067136.21     Tuesday\n",
              "\n",
              "[8760 rows x 8 columns]"
            ]
          },
          "metadata": {},
          "execution_count": 62
        }
      ]
    },
    {
      "cell_type": "code",
      "metadata": {
        "colab": {
          "base_uri": "https://localhost:8080/",
          "height": 447
        },
        "id": "Ve8GfHoU5Afz",
        "outputId": "661ec72a-935a-4faf-9f04-4e9853d186bf"
      },
      "source": [
        "# We can set index to date\n",
        "\n",
        "df.set_index('Date')"
      ],
      "execution_count": 63,
      "outputs": [
        {
          "output_type": "execute_result",
          "data": {
            "text/html": [
              "<div>\n",
              "<style scoped>\n",
              "    .dataframe tbody tr th:only-of-type {\n",
              "        vertical-align: middle;\n",
              "    }\n",
              "\n",
              "    .dataframe tbody tr th {\n",
              "        vertical-align: top;\n",
              "    }\n",
              "\n",
              "    .dataframe thead th {\n",
              "        text-align: right;\n",
              "    }\n",
              "</style>\n",
              "<table border=\"1\" class=\"dataframe\">\n",
              "  <thead>\n",
              "    <tr style=\"text-align: right;\">\n",
              "      <th></th>\n",
              "      <th>Symbol</th>\n",
              "      <th>Open</th>\n",
              "      <th>High</th>\n",
              "      <th>Low</th>\n",
              "      <th>Close</th>\n",
              "      <th>Volume</th>\n",
              "      <th>DaysOfWeek</th>\n",
              "    </tr>\n",
              "    <tr>\n",
              "      <th>Date</th>\n",
              "      <th></th>\n",
              "      <th></th>\n",
              "      <th></th>\n",
              "      <th></th>\n",
              "      <th></th>\n",
              "      <th></th>\n",
              "      <th></th>\n",
              "    </tr>\n",
              "  </thead>\n",
              "  <tbody>\n",
              "    <tr>\n",
              "      <th>2020-03-13 20:00:00</th>\n",
              "      <td>ETHUSD</td>\n",
              "      <td>129.94</td>\n",
              "      <td>131.82</td>\n",
              "      <td>126.87</td>\n",
              "      <td>128.71</td>\n",
              "      <td>1940673.93</td>\n",
              "      <td>Friday</td>\n",
              "    </tr>\n",
              "    <tr>\n",
              "      <th>2020-03-13 19:00:00</th>\n",
              "      <td>ETHUSD</td>\n",
              "      <td>119.51</td>\n",
              "      <td>132.02</td>\n",
              "      <td>117.10</td>\n",
              "      <td>129.94</td>\n",
              "      <td>7579741.09</td>\n",
              "      <td>Friday</td>\n",
              "    </tr>\n",
              "    <tr>\n",
              "      <th>2020-03-13 18:00:00</th>\n",
              "      <td>ETHUSD</td>\n",
              "      <td>124.47</td>\n",
              "      <td>124.85</td>\n",
              "      <td>115.50</td>\n",
              "      <td>119.51</td>\n",
              "      <td>4898735.81</td>\n",
              "      <td>Friday</td>\n",
              "    </tr>\n",
              "    <tr>\n",
              "      <th>2020-03-13 17:00:00</th>\n",
              "      <td>ETHUSD</td>\n",
              "      <td>124.08</td>\n",
              "      <td>127.42</td>\n",
              "      <td>121.63</td>\n",
              "      <td>124.47</td>\n",
              "      <td>2753450.92</td>\n",
              "      <td>Friday</td>\n",
              "    </tr>\n",
              "    <tr>\n",
              "      <th>2020-03-13 16:00:00</th>\n",
              "      <td>ETHUSD</td>\n",
              "      <td>124.85</td>\n",
              "      <td>129.51</td>\n",
              "      <td>120.17</td>\n",
              "      <td>124.08</td>\n",
              "      <td>4461424.71</td>\n",
              "      <td>Friday</td>\n",
              "    </tr>\n",
              "    <tr>\n",
              "      <th>...</th>\n",
              "      <td>...</td>\n",
              "      <td>...</td>\n",
              "      <td>...</td>\n",
              "      <td>...</td>\n",
              "      <td>...</td>\n",
              "      <td>...</td>\n",
              "      <td>...</td>\n",
              "    </tr>\n",
              "    <tr>\n",
              "      <th>2017-07-01 15:00:00</th>\n",
              "      <td>ETHUSD</td>\n",
              "      <td>265.74</td>\n",
              "      <td>272.74</td>\n",
              "      <td>265.00</td>\n",
              "      <td>272.57</td>\n",
              "      <td>1500282.55</td>\n",
              "      <td>Saturday</td>\n",
              "    </tr>\n",
              "    <tr>\n",
              "      <th>2017-07-01 14:00:00</th>\n",
              "      <td>ETHUSD</td>\n",
              "      <td>268.79</td>\n",
              "      <td>269.90</td>\n",
              "      <td>265.00</td>\n",
              "      <td>265.74</td>\n",
              "      <td>1702536.85</td>\n",
              "      <td>Saturday</td>\n",
              "    </tr>\n",
              "    <tr>\n",
              "      <th>2017-07-01 13:00:00</th>\n",
              "      <td>ETHUSD</td>\n",
              "      <td>274.83</td>\n",
              "      <td>274.93</td>\n",
              "      <td>265.00</td>\n",
              "      <td>268.79</td>\n",
              "      <td>3010787.99</td>\n",
              "      <td>Saturday</td>\n",
              "    </tr>\n",
              "    <tr>\n",
              "      <th>2017-07-01 12:00:00</th>\n",
              "      <td>ETHUSD</td>\n",
              "      <td>275.01</td>\n",
              "      <td>275.01</td>\n",
              "      <td>271.00</td>\n",
              "      <td>274.83</td>\n",
              "      <td>824362.87</td>\n",
              "      <td>Saturday</td>\n",
              "    </tr>\n",
              "    <tr>\n",
              "      <th>2017-07-01 11:00:00</th>\n",
              "      <td>ETHUSD</td>\n",
              "      <td>279.98</td>\n",
              "      <td>279.99</td>\n",
              "      <td>272.10</td>\n",
              "      <td>275.01</td>\n",
              "      <td>679358.87</td>\n",
              "      <td>Saturday</td>\n",
              "    </tr>\n",
              "  </tbody>\n",
              "</table>\n",
              "<p>23674 rows × 7 columns</p>\n",
              "</div>"
            ],
            "text/plain": [
              "                     Symbol    Open    High  ...   Close      Volume  DaysOfWeek\n",
              "Date                                         ...                                \n",
              "2020-03-13 20:00:00  ETHUSD  129.94  131.82  ...  128.71  1940673.93      Friday\n",
              "2020-03-13 19:00:00  ETHUSD  119.51  132.02  ...  129.94  7579741.09      Friday\n",
              "2020-03-13 18:00:00  ETHUSD  124.47  124.85  ...  119.51  4898735.81      Friday\n",
              "2020-03-13 17:00:00  ETHUSD  124.08  127.42  ...  124.47  2753450.92      Friday\n",
              "2020-03-13 16:00:00  ETHUSD  124.85  129.51  ...  124.08  4461424.71      Friday\n",
              "...                     ...     ...     ...  ...     ...         ...         ...\n",
              "2017-07-01 15:00:00  ETHUSD  265.74  272.74  ...  272.57  1500282.55    Saturday\n",
              "2017-07-01 14:00:00  ETHUSD  268.79  269.90  ...  265.74  1702536.85    Saturday\n",
              "2017-07-01 13:00:00  ETHUSD  274.83  274.93  ...  268.79  3010787.99    Saturday\n",
              "2017-07-01 12:00:00  ETHUSD  275.01  275.01  ...  274.83   824362.87    Saturday\n",
              "2017-07-01 11:00:00  ETHUSD  279.98  279.99  ...  275.01   679358.87    Saturday\n",
              "\n",
              "[23674 rows x 7 columns]"
            ]
          },
          "metadata": {},
          "execution_count": 63
        }
      ]
    },
    {
      "cell_type": "code",
      "metadata": {
        "id": "5xXDT2zX9UVj"
      },
      "source": [
        "df.set_index('Date',  inplace=True)"
      ],
      "execution_count": 64,
      "outputs": []
    },
    {
      "cell_type": "code",
      "metadata": {
        "colab": {
          "base_uri": "https://localhost:8080/",
          "height": 447
        },
        "id": "vz6QAmiE9Kip",
        "outputId": "7278a0d1-8eea-49f4-e779-90b2d4e47328"
      },
      "source": [
        "df"
      ],
      "execution_count": 66,
      "outputs": [
        {
          "output_type": "execute_result",
          "data": {
            "text/html": [
              "<div>\n",
              "<style scoped>\n",
              "    .dataframe tbody tr th:only-of-type {\n",
              "        vertical-align: middle;\n",
              "    }\n",
              "\n",
              "    .dataframe tbody tr th {\n",
              "        vertical-align: top;\n",
              "    }\n",
              "\n",
              "    .dataframe thead th {\n",
              "        text-align: right;\n",
              "    }\n",
              "</style>\n",
              "<table border=\"1\" class=\"dataframe\">\n",
              "  <thead>\n",
              "    <tr style=\"text-align: right;\">\n",
              "      <th></th>\n",
              "      <th>Symbol</th>\n",
              "      <th>Open</th>\n",
              "      <th>High</th>\n",
              "      <th>Low</th>\n",
              "      <th>Close</th>\n",
              "      <th>Volume</th>\n",
              "      <th>DaysOfWeek</th>\n",
              "    </tr>\n",
              "    <tr>\n",
              "      <th>Date</th>\n",
              "      <th></th>\n",
              "      <th></th>\n",
              "      <th></th>\n",
              "      <th></th>\n",
              "      <th></th>\n",
              "      <th></th>\n",
              "      <th></th>\n",
              "    </tr>\n",
              "  </thead>\n",
              "  <tbody>\n",
              "    <tr>\n",
              "      <th>2020-03-13 20:00:00</th>\n",
              "      <td>ETHUSD</td>\n",
              "      <td>129.94</td>\n",
              "      <td>131.82</td>\n",
              "      <td>126.87</td>\n",
              "      <td>128.71</td>\n",
              "      <td>1940673.93</td>\n",
              "      <td>Friday</td>\n",
              "    </tr>\n",
              "    <tr>\n",
              "      <th>2020-03-13 19:00:00</th>\n",
              "      <td>ETHUSD</td>\n",
              "      <td>119.51</td>\n",
              "      <td>132.02</td>\n",
              "      <td>117.10</td>\n",
              "      <td>129.94</td>\n",
              "      <td>7579741.09</td>\n",
              "      <td>Friday</td>\n",
              "    </tr>\n",
              "    <tr>\n",
              "      <th>2020-03-13 18:00:00</th>\n",
              "      <td>ETHUSD</td>\n",
              "      <td>124.47</td>\n",
              "      <td>124.85</td>\n",
              "      <td>115.50</td>\n",
              "      <td>119.51</td>\n",
              "      <td>4898735.81</td>\n",
              "      <td>Friday</td>\n",
              "    </tr>\n",
              "    <tr>\n",
              "      <th>2020-03-13 17:00:00</th>\n",
              "      <td>ETHUSD</td>\n",
              "      <td>124.08</td>\n",
              "      <td>127.42</td>\n",
              "      <td>121.63</td>\n",
              "      <td>124.47</td>\n",
              "      <td>2753450.92</td>\n",
              "      <td>Friday</td>\n",
              "    </tr>\n",
              "    <tr>\n",
              "      <th>2020-03-13 16:00:00</th>\n",
              "      <td>ETHUSD</td>\n",
              "      <td>124.85</td>\n",
              "      <td>129.51</td>\n",
              "      <td>120.17</td>\n",
              "      <td>124.08</td>\n",
              "      <td>4461424.71</td>\n",
              "      <td>Friday</td>\n",
              "    </tr>\n",
              "    <tr>\n",
              "      <th>...</th>\n",
              "      <td>...</td>\n",
              "      <td>...</td>\n",
              "      <td>...</td>\n",
              "      <td>...</td>\n",
              "      <td>...</td>\n",
              "      <td>...</td>\n",
              "      <td>...</td>\n",
              "    </tr>\n",
              "    <tr>\n",
              "      <th>2017-07-01 15:00:00</th>\n",
              "      <td>ETHUSD</td>\n",
              "      <td>265.74</td>\n",
              "      <td>272.74</td>\n",
              "      <td>265.00</td>\n",
              "      <td>272.57</td>\n",
              "      <td>1500282.55</td>\n",
              "      <td>Saturday</td>\n",
              "    </tr>\n",
              "    <tr>\n",
              "      <th>2017-07-01 14:00:00</th>\n",
              "      <td>ETHUSD</td>\n",
              "      <td>268.79</td>\n",
              "      <td>269.90</td>\n",
              "      <td>265.00</td>\n",
              "      <td>265.74</td>\n",
              "      <td>1702536.85</td>\n",
              "      <td>Saturday</td>\n",
              "    </tr>\n",
              "    <tr>\n",
              "      <th>2017-07-01 13:00:00</th>\n",
              "      <td>ETHUSD</td>\n",
              "      <td>274.83</td>\n",
              "      <td>274.93</td>\n",
              "      <td>265.00</td>\n",
              "      <td>268.79</td>\n",
              "      <td>3010787.99</td>\n",
              "      <td>Saturday</td>\n",
              "    </tr>\n",
              "    <tr>\n",
              "      <th>2017-07-01 12:00:00</th>\n",
              "      <td>ETHUSD</td>\n",
              "      <td>275.01</td>\n",
              "      <td>275.01</td>\n",
              "      <td>271.00</td>\n",
              "      <td>274.83</td>\n",
              "      <td>824362.87</td>\n",
              "      <td>Saturday</td>\n",
              "    </tr>\n",
              "    <tr>\n",
              "      <th>2017-07-01 11:00:00</th>\n",
              "      <td>ETHUSD</td>\n",
              "      <td>279.98</td>\n",
              "      <td>279.99</td>\n",
              "      <td>272.10</td>\n",
              "      <td>275.01</td>\n",
              "      <td>679358.87</td>\n",
              "      <td>Saturday</td>\n",
              "    </tr>\n",
              "  </tbody>\n",
              "</table>\n",
              "<p>23674 rows × 7 columns</p>\n",
              "</div>"
            ],
            "text/plain": [
              "                     Symbol    Open    High  ...   Close      Volume  DaysOfWeek\n",
              "Date                                         ...                                \n",
              "2020-03-13 20:00:00  ETHUSD  129.94  131.82  ...  128.71  1940673.93      Friday\n",
              "2020-03-13 19:00:00  ETHUSD  119.51  132.02  ...  129.94  7579741.09      Friday\n",
              "2020-03-13 18:00:00  ETHUSD  124.47  124.85  ...  119.51  4898735.81      Friday\n",
              "2020-03-13 17:00:00  ETHUSD  124.08  127.42  ...  124.47  2753450.92      Friday\n",
              "2020-03-13 16:00:00  ETHUSD  124.85  129.51  ...  124.08  4461424.71      Friday\n",
              "...                     ...     ...     ...  ...     ...         ...         ...\n",
              "2017-07-01 15:00:00  ETHUSD  265.74  272.74  ...  272.57  1500282.55    Saturday\n",
              "2017-07-01 14:00:00  ETHUSD  268.79  269.90  ...  265.74  1702536.85    Saturday\n",
              "2017-07-01 13:00:00  ETHUSD  274.83  274.93  ...  268.79  3010787.99    Saturday\n",
              "2017-07-01 12:00:00  ETHUSD  275.01  275.01  ...  274.83   824362.87    Saturday\n",
              "2017-07-01 11:00:00  ETHUSD  279.98  279.99  ...  275.01   679358.87    Saturday\n",
              "\n",
              "[23674 rows x 7 columns]"
            ]
          },
          "metadata": {},
          "execution_count": 66
        }
      ]
    },
    {
      "cell_type": "code",
      "metadata": {
        "colab": {
          "base_uri": "https://localhost:8080/",
          "height": 447
        },
        "id": "gaVeceAt9K4T",
        "outputId": "b13715ff-a078-482f-e85c-61ad2084155a"
      },
      "source": [
        "df['2019']"
      ],
      "execution_count": 69,
      "outputs": [
        {
          "output_type": "execute_result",
          "data": {
            "text/html": [
              "<div>\n",
              "<style scoped>\n",
              "    .dataframe tbody tr th:only-of-type {\n",
              "        vertical-align: middle;\n",
              "    }\n",
              "\n",
              "    .dataframe tbody tr th {\n",
              "        vertical-align: top;\n",
              "    }\n",
              "\n",
              "    .dataframe thead th {\n",
              "        text-align: right;\n",
              "    }\n",
              "</style>\n",
              "<table border=\"1\" class=\"dataframe\">\n",
              "  <thead>\n",
              "    <tr style=\"text-align: right;\">\n",
              "      <th></th>\n",
              "      <th>Symbol</th>\n",
              "      <th>Open</th>\n",
              "      <th>High</th>\n",
              "      <th>Low</th>\n",
              "      <th>Close</th>\n",
              "      <th>Volume</th>\n",
              "      <th>DaysOfWeek</th>\n",
              "    </tr>\n",
              "    <tr>\n",
              "      <th>Date</th>\n",
              "      <th></th>\n",
              "      <th></th>\n",
              "      <th></th>\n",
              "      <th></th>\n",
              "      <th></th>\n",
              "      <th></th>\n",
              "      <th></th>\n",
              "    </tr>\n",
              "  </thead>\n",
              "  <tbody>\n",
              "    <tr>\n",
              "      <th>2019-12-31 23:00:00</th>\n",
              "      <td>ETHUSD</td>\n",
              "      <td>128.33</td>\n",
              "      <td>128.69</td>\n",
              "      <td>128.14</td>\n",
              "      <td>128.54</td>\n",
              "      <td>440678.91</td>\n",
              "      <td>Tuesday</td>\n",
              "    </tr>\n",
              "    <tr>\n",
              "      <th>2019-12-31 22:00:00</th>\n",
              "      <td>ETHUSD</td>\n",
              "      <td>128.38</td>\n",
              "      <td>128.69</td>\n",
              "      <td>127.95</td>\n",
              "      <td>128.33</td>\n",
              "      <td>554646.02</td>\n",
              "      <td>Tuesday</td>\n",
              "    </tr>\n",
              "    <tr>\n",
              "      <th>2019-12-31 21:00:00</th>\n",
              "      <td>ETHUSD</td>\n",
              "      <td>127.86</td>\n",
              "      <td>128.43</td>\n",
              "      <td>127.72</td>\n",
              "      <td>128.38</td>\n",
              "      <td>350155.69</td>\n",
              "      <td>Tuesday</td>\n",
              "    </tr>\n",
              "    <tr>\n",
              "      <th>2019-12-31 20:00:00</th>\n",
              "      <td>ETHUSD</td>\n",
              "      <td>127.84</td>\n",
              "      <td>128.34</td>\n",
              "      <td>127.71</td>\n",
              "      <td>127.86</td>\n",
              "      <td>428183.38</td>\n",
              "      <td>Tuesday</td>\n",
              "    </tr>\n",
              "    <tr>\n",
              "      <th>2019-12-31 19:00:00</th>\n",
              "      <td>ETHUSD</td>\n",
              "      <td>128.69</td>\n",
              "      <td>128.69</td>\n",
              "      <td>127.60</td>\n",
              "      <td>127.84</td>\n",
              "      <td>1169847.84</td>\n",
              "      <td>Tuesday</td>\n",
              "    </tr>\n",
              "    <tr>\n",
              "      <th>...</th>\n",
              "      <td>...</td>\n",
              "      <td>...</td>\n",
              "      <td>...</td>\n",
              "      <td>...</td>\n",
              "      <td>...</td>\n",
              "      <td>...</td>\n",
              "      <td>...</td>\n",
              "    </tr>\n",
              "    <tr>\n",
              "      <th>2019-01-01 04:00:00</th>\n",
              "      <td>ETHUSD</td>\n",
              "      <td>130.75</td>\n",
              "      <td>133.96</td>\n",
              "      <td>130.74</td>\n",
              "      <td>131.96</td>\n",
              "      <td>2791135.37</td>\n",
              "      <td>Tuesday</td>\n",
              "    </tr>\n",
              "    <tr>\n",
              "      <th>2019-01-01 03:00:00</th>\n",
              "      <td>ETHUSD</td>\n",
              "      <td>130.06</td>\n",
              "      <td>130.79</td>\n",
              "      <td>130.06</td>\n",
              "      <td>130.75</td>\n",
              "      <td>503732.63</td>\n",
              "      <td>Tuesday</td>\n",
              "    </tr>\n",
              "    <tr>\n",
              "      <th>2019-01-01 02:00:00</th>\n",
              "      <td>ETHUSD</td>\n",
              "      <td>130.79</td>\n",
              "      <td>130.88</td>\n",
              "      <td>129.55</td>\n",
              "      <td>130.06</td>\n",
              "      <td>838183.43</td>\n",
              "      <td>Tuesday</td>\n",
              "    </tr>\n",
              "    <tr>\n",
              "      <th>2019-01-01 01:00:00</th>\n",
              "      <td>ETHUSD</td>\n",
              "      <td>131.62</td>\n",
              "      <td>131.62</td>\n",
              "      <td>130.77</td>\n",
              "      <td>130.79</td>\n",
              "      <td>434917.99</td>\n",
              "      <td>Tuesday</td>\n",
              "    </tr>\n",
              "    <tr>\n",
              "      <th>2019-01-01 00:00:00</th>\n",
              "      <td>ETHUSD</td>\n",
              "      <td>130.53</td>\n",
              "      <td>131.91</td>\n",
              "      <td>130.48</td>\n",
              "      <td>131.62</td>\n",
              "      <td>1067136.21</td>\n",
              "      <td>Tuesday</td>\n",
              "    </tr>\n",
              "  </tbody>\n",
              "</table>\n",
              "<p>8760 rows × 7 columns</p>\n",
              "</div>"
            ],
            "text/plain": [
              "                     Symbol    Open    High  ...   Close      Volume  DaysOfWeek\n",
              "Date                                         ...                                \n",
              "2019-12-31 23:00:00  ETHUSD  128.33  128.69  ...  128.54   440678.91     Tuesday\n",
              "2019-12-31 22:00:00  ETHUSD  128.38  128.69  ...  128.33   554646.02     Tuesday\n",
              "2019-12-31 21:00:00  ETHUSD  127.86  128.43  ...  128.38   350155.69     Tuesday\n",
              "2019-12-31 20:00:00  ETHUSD  127.84  128.34  ...  127.86   428183.38     Tuesday\n",
              "2019-12-31 19:00:00  ETHUSD  128.69  128.69  ...  127.84  1169847.84     Tuesday\n",
              "...                     ...     ...     ...  ...     ...         ...         ...\n",
              "2019-01-01 04:00:00  ETHUSD  130.75  133.96  ...  131.96  2791135.37     Tuesday\n",
              "2019-01-01 03:00:00  ETHUSD  130.06  130.79  ...  130.75   503732.63     Tuesday\n",
              "2019-01-01 02:00:00  ETHUSD  130.79  130.88  ...  130.06   838183.43     Tuesday\n",
              "2019-01-01 01:00:00  ETHUSD  131.62  131.62  ...  130.79   434917.99     Tuesday\n",
              "2019-01-01 00:00:00  ETHUSD  130.53  131.91  ...  131.62  1067136.21     Tuesday\n",
              "\n",
              "[8760 rows x 7 columns]"
            ]
          },
          "metadata": {},
          "execution_count": 69
        }
      ]
    },
    {
      "cell_type": "code",
      "metadata": {
        "colab": {
          "base_uri": "https://localhost:8080/",
          "height": 447
        },
        "id": "cJwnMJ0y-i8x",
        "outputId": "f9b9a1f0-ce61-4f27-ba18-70e621e325a6"
      },
      "source": [
        "# Now we can also use slice method for grabbing date for a specific dates\n",
        "# Let's say we want date from January 2020 to Feb 2020\n",
        "\n",
        "df['2020-01':'2020-02']"
      ],
      "execution_count": 70,
      "outputs": [
        {
          "output_type": "execute_result",
          "data": {
            "text/html": [
              "<div>\n",
              "<style scoped>\n",
              "    .dataframe tbody tr th:only-of-type {\n",
              "        vertical-align: middle;\n",
              "    }\n",
              "\n",
              "    .dataframe tbody tr th {\n",
              "        vertical-align: top;\n",
              "    }\n",
              "\n",
              "    .dataframe thead th {\n",
              "        text-align: right;\n",
              "    }\n",
              "</style>\n",
              "<table border=\"1\" class=\"dataframe\">\n",
              "  <thead>\n",
              "    <tr style=\"text-align: right;\">\n",
              "      <th></th>\n",
              "      <th>Symbol</th>\n",
              "      <th>Open</th>\n",
              "      <th>High</th>\n",
              "      <th>Low</th>\n",
              "      <th>Close</th>\n",
              "      <th>Volume</th>\n",
              "      <th>DaysOfWeek</th>\n",
              "    </tr>\n",
              "    <tr>\n",
              "      <th>Date</th>\n",
              "      <th></th>\n",
              "      <th></th>\n",
              "      <th></th>\n",
              "      <th></th>\n",
              "      <th></th>\n",
              "      <th></th>\n",
              "      <th></th>\n",
              "    </tr>\n",
              "  </thead>\n",
              "  <tbody>\n",
              "    <tr>\n",
              "      <th>2020-02-29 23:00:00</th>\n",
              "      <td>ETHUSD</td>\n",
              "      <td>223.35</td>\n",
              "      <td>223.58</td>\n",
              "      <td>216.83</td>\n",
              "      <td>217.31</td>\n",
              "      <td>1927939.88</td>\n",
              "      <td>Saturday</td>\n",
              "    </tr>\n",
              "    <tr>\n",
              "      <th>2020-02-29 22:00:00</th>\n",
              "      <td>ETHUSD</td>\n",
              "      <td>223.48</td>\n",
              "      <td>223.59</td>\n",
              "      <td>222.14</td>\n",
              "      <td>223.35</td>\n",
              "      <td>535998.57</td>\n",
              "      <td>Saturday</td>\n",
              "    </tr>\n",
              "    <tr>\n",
              "      <th>2020-02-29 21:00:00</th>\n",
              "      <td>ETHUSD</td>\n",
              "      <td>224.63</td>\n",
              "      <td>225.14</td>\n",
              "      <td>222.74</td>\n",
              "      <td>223.48</td>\n",
              "      <td>561158.03</td>\n",
              "      <td>Saturday</td>\n",
              "    </tr>\n",
              "    <tr>\n",
              "      <th>2020-02-29 20:00:00</th>\n",
              "      <td>ETHUSD</td>\n",
              "      <td>225.31</td>\n",
              "      <td>225.33</td>\n",
              "      <td>223.50</td>\n",
              "      <td>224.63</td>\n",
              "      <td>511648.65</td>\n",
              "      <td>Saturday</td>\n",
              "    </tr>\n",
              "    <tr>\n",
              "      <th>2020-02-29 19:00:00</th>\n",
              "      <td>ETHUSD</td>\n",
              "      <td>225.09</td>\n",
              "      <td>225.85</td>\n",
              "      <td>223.87</td>\n",
              "      <td>225.31</td>\n",
              "      <td>1250856.20</td>\n",
              "      <td>Saturday</td>\n",
              "    </tr>\n",
              "    <tr>\n",
              "      <th>...</th>\n",
              "      <td>...</td>\n",
              "      <td>...</td>\n",
              "      <td>...</td>\n",
              "      <td>...</td>\n",
              "      <td>...</td>\n",
              "      <td>...</td>\n",
              "      <td>...</td>\n",
              "    </tr>\n",
              "    <tr>\n",
              "      <th>2020-01-01 04:00:00</th>\n",
              "      <td>ETHUSD</td>\n",
              "      <td>129.57</td>\n",
              "      <td>130.00</td>\n",
              "      <td>129.50</td>\n",
              "      <td>129.56</td>\n",
              "      <td>702786.82</td>\n",
              "      <td>Wednesday</td>\n",
              "    </tr>\n",
              "    <tr>\n",
              "      <th>2020-01-01 03:00:00</th>\n",
              "      <td>ETHUSD</td>\n",
              "      <td>130.37</td>\n",
              "      <td>130.44</td>\n",
              "      <td>129.38</td>\n",
              "      <td>129.57</td>\n",
              "      <td>496704.23</td>\n",
              "      <td>Wednesday</td>\n",
              "    </tr>\n",
              "    <tr>\n",
              "      <th>2020-01-01 02:00:00</th>\n",
              "      <td>ETHUSD</td>\n",
              "      <td>130.14</td>\n",
              "      <td>130.50</td>\n",
              "      <td>129.91</td>\n",
              "      <td>130.37</td>\n",
              "      <td>396315.72</td>\n",
              "      <td>Wednesday</td>\n",
              "    </tr>\n",
              "    <tr>\n",
              "      <th>2020-01-01 01:00:00</th>\n",
              "      <td>ETHUSD</td>\n",
              "      <td>128.34</td>\n",
              "      <td>130.14</td>\n",
              "      <td>128.32</td>\n",
              "      <td>130.14</td>\n",
              "      <td>635419.40</td>\n",
              "      <td>Wednesday</td>\n",
              "    </tr>\n",
              "    <tr>\n",
              "      <th>2020-01-01 00:00:00</th>\n",
              "      <td>ETHUSD</td>\n",
              "      <td>128.54</td>\n",
              "      <td>128.54</td>\n",
              "      <td>128.12</td>\n",
              "      <td>128.34</td>\n",
              "      <td>245119.91</td>\n",
              "      <td>Wednesday</td>\n",
              "    </tr>\n",
              "  </tbody>\n",
              "</table>\n",
              "<p>1440 rows × 7 columns</p>\n",
              "</div>"
            ],
            "text/plain": [
              "                     Symbol    Open    High  ...   Close      Volume  DaysOfWeek\n",
              "Date                                         ...                                \n",
              "2020-02-29 23:00:00  ETHUSD  223.35  223.58  ...  217.31  1927939.88    Saturday\n",
              "2020-02-29 22:00:00  ETHUSD  223.48  223.59  ...  223.35   535998.57    Saturday\n",
              "2020-02-29 21:00:00  ETHUSD  224.63  225.14  ...  223.48   561158.03    Saturday\n",
              "2020-02-29 20:00:00  ETHUSD  225.31  225.33  ...  224.63   511648.65    Saturday\n",
              "2020-02-29 19:00:00  ETHUSD  225.09  225.85  ...  225.31  1250856.20    Saturday\n",
              "...                     ...     ...     ...  ...     ...         ...         ...\n",
              "2020-01-01 04:00:00  ETHUSD  129.57  130.00  ...  129.56   702786.82   Wednesday\n",
              "2020-01-01 03:00:00  ETHUSD  130.37  130.44  ...  129.57   496704.23   Wednesday\n",
              "2020-01-01 02:00:00  ETHUSD  130.14  130.50  ...  130.37   396315.72   Wednesday\n",
              "2020-01-01 01:00:00  ETHUSD  128.34  130.14  ...  130.14   635419.40   Wednesday\n",
              "2020-01-01 00:00:00  ETHUSD  128.54  128.54  ...  128.34   245119.91   Wednesday\n",
              "\n",
              "[1440 rows x 7 columns]"
            ]
          },
          "metadata": {},
          "execution_count": 70
        }
      ]
    },
    {
      "cell_type": "code",
      "metadata": {
        "colab": {
          "base_uri": "https://localhost:8080/"
        },
        "id": "Q1WWTaEr-eyl",
        "outputId": "e02d502e-b56f-41f0-97e5-523c5257a04c"
      },
      "source": [
        "# Now let's say we want average closing price for Ethreum for all of this days\n",
        "\n",
        "df['2020-01':'2020-02']['Close'].mean()\n",
        "\n",
        "# Here we get the mean of the closing price.\n",
        "# But it is on hourly basis "
      ],
      "execution_count": 72,
      "outputs": [
        {
          "output_type": "execute_result",
          "data": {
            "text/plain": [
              "195.16559027777814"
            ]
          },
          "metadata": {},
          "execution_count": 72
        }
      ]
    },
    {
      "cell_type": "code",
      "metadata": {
        "colab": {
          "base_uri": "https://localhost:8080/"
        },
        "id": "fI-fqXQk9LIl",
        "outputId": "1cad5bb5-9b22-42e8-ae16-ee3b21bae926"
      },
      "source": [
        "# Let's say if we want mean by daily basis\n",
        "\n",
        "df['2020-01-01']['High'].max()"
      ],
      "execution_count": 73,
      "outputs": [
        {
          "output_type": "execute_result",
          "data": {
            "text/plain": [
              "132.68"
            ]
          },
          "metadata": {},
          "execution_count": 73
        }
      ]
    },
    {
      "cell_type": "code",
      "metadata": {
        "colab": {
          "base_uri": "https://localhost:8080/"
        },
        "id": "KxKECVDP9LTR",
        "outputId": "5f1b956a-5c3a-4e51-aafc-a14e06bd87df"
      },
      "source": [
        "# Right now our data is sample on an hourly basis\n",
        "# We can resample it on a daily basis by using the resampling method\n",
        "# You can more see the documentation for reference by following this link. https://pandas.pydata.org/pandas-docs/stable/user_guide/timeseries.html#dateoffset-objects\n",
        "\n",
        "df['High'].resample('D').max()"
      ],
      "execution_count": 74,
      "outputs": [
        {
          "output_type": "execute_result",
          "data": {
            "text/plain": [
              "Date\n",
              "2017-07-01    279.99\n",
              "2017-07-02    293.73\n",
              "2017-07-03    285.00\n",
              "2017-07-04    282.83\n",
              "2017-07-05    274.97\n",
              "               ...  \n",
              "2020-03-09    208.65\n",
              "2020-03-10    206.28\n",
              "2020-03-11    202.98\n",
              "2020-03-12    195.64\n",
              "2020-03-13    148.00\n",
              "Freq: D, Name: High, Length: 987, dtype: float64"
            ]
          },
          "metadata": {},
          "execution_count": 74
        }
      ]
    },
    {
      "cell_type": "code",
      "metadata": {
        "id": "QZNDJauk9Lij"
      },
      "source": [
        "# Now save this series in a variable\n",
        "\n",
        "highs = df['High'].resample('D').max()"
      ],
      "execution_count": 75,
      "outputs": []
    },
    {
      "cell_type": "code",
      "metadata": {
        "colab": {
          "base_uri": "https://localhost:8080/"
        },
        "id": "pbashTc2BNV4",
        "outputId": "24a7325f-5aa3-4358-f688-72447933b155"
      },
      "source": [
        "highs['2020-01-01']"
      ],
      "execution_count": 76,
      "outputs": [
        {
          "output_type": "execute_result",
          "data": {
            "text/plain": [
              "132.68"
            ]
          },
          "metadata": {},
          "execution_count": 76
        }
      ]
    },
    {
      "cell_type": "code",
      "metadata": {
        "id": "bQ5KwpxnBNhK"
      },
      "source": [
        "# We can also draw a graph of a daily basis by using the matplotlib library\n",
        "# But without importing matplotlib library we can do it \n",
        "\n",
        "%matplotlib inline"
      ],
      "execution_count": 78,
      "outputs": []
    },
    {
      "cell_type": "code",
      "metadata": {
        "colab": {
          "base_uri": "https://localhost:8080/",
          "height": 308
        },
        "id": "IR5_-1VDBz2C",
        "outputId": "af538a14-42ff-48e4-8a7a-18a32419f017"
      },
      "source": [
        "highs.plot()"
      ],
      "execution_count": 79,
      "outputs": [
        {
          "output_type": "execute_result",
          "data": {
            "text/plain": [
              "<matplotlib.axes._subplots.AxesSubplot at 0x7f3251c4f350>"
            ]
          },
          "metadata": {},
          "execution_count": 79
        },
        {
          "output_type": "display_data",
          "data": {
            "image/png": "[encoded data removed]",
            "text/plain": [
              "<Figure size 432x288 with 1 Axes>"
            ]
          },
          "metadata": {
            "needs_background": "light"
          }
        }
      ]
    },
    {
      "cell_type": "code",
      "metadata": {
        "colab": {
          "base_uri": "https://localhost:8080/",
          "height": 447
        },
        "id": "q-4iU57cCTy9",
        "outputId": "2db85247-cd8d-4f10-b6f5-49a0404b60a2"
      },
      "source": [
        "# We can resample method by multiple column \n",
        "# Let's say we want to resample it by weeks and get the mean of our dataframe\n",
        "\n",
        "df.resample('W').mean()\n",
        "\n",
        "# But we don't want mean of High and Low column also there is no use of finding the mean of volume column"
      ],
      "execution_count": 80,
      "outputs": [
        {
          "output_type": "execute_result",
          "data": {
            "text/html": [
              "<div>\n",
              "<style scoped>\n",
              "    .dataframe tbody tr th:only-of-type {\n",
              "        vertical-align: middle;\n",
              "    }\n",
              "\n",
              "    .dataframe tbody tr th {\n",
              "        vertical-align: top;\n",
              "    }\n",
              "\n",
              "    .dataframe thead th {\n",
              "        text-align: right;\n",
              "    }\n",
              "</style>\n",
              "<table border=\"1\" class=\"dataframe\">\n",
              "  <thead>\n",
              "    <tr style=\"text-align: right;\">\n",
              "      <th></th>\n",
              "      <th>Open</th>\n",
              "      <th>High</th>\n",
              "      <th>Low</th>\n",
              "      <th>Close</th>\n",
              "      <th>Volume</th>\n",
              "    </tr>\n",
              "    <tr>\n",
              "      <th>Date</th>\n",
              "      <th></th>\n",
              "      <th></th>\n",
              "      <th></th>\n",
              "      <th></th>\n",
              "      <th></th>\n",
              "    </tr>\n",
              "  </thead>\n",
              "  <tbody>\n",
              "    <tr>\n",
              "      <th>2017-07-02</th>\n",
              "      <td>268.066486</td>\n",
              "      <td>271.124595</td>\n",
              "      <td>264.819730</td>\n",
              "      <td>268.202162</td>\n",
              "      <td>2.185035e+06</td>\n",
              "    </tr>\n",
              "    <tr>\n",
              "      <th>2017-07-09</th>\n",
              "      <td>261.337024</td>\n",
              "      <td>262.872917</td>\n",
              "      <td>259.186190</td>\n",
              "      <td>261.062083</td>\n",
              "      <td>1.337349e+06</td>\n",
              "    </tr>\n",
              "    <tr>\n",
              "      <th>2017-07-16</th>\n",
              "      <td>196.193214</td>\n",
              "      <td>199.204405</td>\n",
              "      <td>192.722321</td>\n",
              "      <td>195.698393</td>\n",
              "      <td>2.986756e+06</td>\n",
              "    </tr>\n",
              "    <tr>\n",
              "      <th>2017-07-23</th>\n",
              "      <td>212.351429</td>\n",
              "      <td>215.779286</td>\n",
              "      <td>209.126310</td>\n",
              "      <td>212.783750</td>\n",
              "      <td>4.298593e+06</td>\n",
              "    </tr>\n",
              "    <tr>\n",
              "      <th>2017-07-30</th>\n",
              "      <td>203.496190</td>\n",
              "      <td>205.110357</td>\n",
              "      <td>201.714048</td>\n",
              "      <td>203.309524</td>\n",
              "      <td>1.581729e+06</td>\n",
              "    </tr>\n",
              "    <tr>\n",
              "      <th>...</th>\n",
              "      <td>...</td>\n",
              "      <td>...</td>\n",
              "      <td>...</td>\n",
              "      <td>...</td>\n",
              "      <td>...</td>\n",
              "    </tr>\n",
              "    <tr>\n",
              "      <th>2020-02-16</th>\n",
              "      <td>255.021667</td>\n",
              "      <td>257.255238</td>\n",
              "      <td>252.679762</td>\n",
              "      <td>255.198452</td>\n",
              "      <td>2.329087e+06</td>\n",
              "    </tr>\n",
              "    <tr>\n",
              "      <th>2020-02-23</th>\n",
              "      <td>265.220833</td>\n",
              "      <td>267.263690</td>\n",
              "      <td>262.948512</td>\n",
              "      <td>265.321905</td>\n",
              "      <td>1.826094e+06</td>\n",
              "    </tr>\n",
              "    <tr>\n",
              "      <th>2020-03-01</th>\n",
              "      <td>236.720536</td>\n",
              "      <td>238.697500</td>\n",
              "      <td>234.208750</td>\n",
              "      <td>236.373988</td>\n",
              "      <td>2.198762e+06</td>\n",
              "    </tr>\n",
              "    <tr>\n",
              "      <th>2020-03-08</th>\n",
              "      <td>229.923571</td>\n",
              "      <td>231.284583</td>\n",
              "      <td>228.373810</td>\n",
              "      <td>229.817619</td>\n",
              "      <td>1.628910e+06</td>\n",
              "    </tr>\n",
              "    <tr>\n",
              "      <th>2020-03-15</th>\n",
              "      <td>176.937521</td>\n",
              "      <td>179.979487</td>\n",
              "      <td>172.936239</td>\n",
              "      <td>176.332821</td>\n",
              "      <td>4.259828e+06</td>\n",
              "    </tr>\n",
              "  </tbody>\n",
              "</table>\n",
              "<p>142 rows × 5 columns</p>\n",
              "</div>"
            ],
            "text/plain": [
              "                  Open        High         Low       Close        Volume\n",
              "Date                                                                    \n",
              "2017-07-02  268.066486  271.124595  264.819730  268.202162  2.185035e+06\n",
              "2017-07-09  261.337024  262.872917  259.186190  261.062083  1.337349e+06\n",
              "2017-07-16  196.193214  199.204405  192.722321  195.698393  2.986756e+06\n",
              "2017-07-23  212.351429  215.779286  209.126310  212.783750  4.298593e+06\n",
              "2017-07-30  203.496190  205.110357  201.714048  203.309524  1.581729e+06\n",
              "...                ...         ...         ...         ...           ...\n",
              "2020-02-16  255.021667  257.255238  252.679762  255.198452  2.329087e+06\n",
              "2020-02-23  265.220833  267.263690  262.948512  265.321905  1.826094e+06\n",
              "2020-03-01  236.720536  238.697500  234.208750  236.373988  2.198762e+06\n",
              "2020-03-08  229.923571  231.284583  228.373810  229.817619  1.628910e+06\n",
              "2020-03-15  176.937521  179.979487  172.936239  176.332821  4.259828e+06\n",
              "\n",
              "[142 rows x 5 columns]"
            ]
          },
          "metadata": {},
          "execution_count": 80
        }
      ]
    },
    {
      "cell_type": "code",
      "metadata": {
        "colab": {
          "base_uri": "https://localhost:8080/",
          "height": 447
        },
        "id": "FrpgmF3sBz6y",
        "outputId": "7979c62c-6870-408b-e304-62e998250000"
      },
      "source": [
        "# Let's say we want mean of close column for High and Low column we want maximum and minimum value and for the volume column we want sum\n",
        "# We can do this by passing an aggregate function\n",
        "\n",
        "df.resample('W').agg({'Close' : 'mean', 'High' : 'max', 'Low' : 'min', 'Volume' : 'sum'})"
      ],
      "execution_count": 82,
      "outputs": [
        {
          "output_type": "execute_result",
          "data": {
            "text/html": [
              "<div>\n",
              "<style scoped>\n",
              "    .dataframe tbody tr th:only-of-type {\n",
              "        vertical-align: middle;\n",
              "    }\n",
              "\n",
              "    .dataframe tbody tr th {\n",
              "        vertical-align: top;\n",
              "    }\n",
              "\n",
              "    .dataframe thead th {\n",
              "        text-align: right;\n",
              "    }\n",
              "</style>\n",
              "<table border=\"1\" class=\"dataframe\">\n",
              "  <thead>\n",
              "    <tr style=\"text-align: right;\">\n",
              "      <th></th>\n",
              "      <th>Close</th>\n",
              "      <th>High</th>\n",
              "      <th>Low</th>\n",
              "      <th>Volume</th>\n",
              "    </tr>\n",
              "    <tr>\n",
              "      <th>Date</th>\n",
              "      <th></th>\n",
              "      <th></th>\n",
              "      <th></th>\n",
              "      <th></th>\n",
              "    </tr>\n",
              "  </thead>\n",
              "  <tbody>\n",
              "    <tr>\n",
              "      <th>2017-07-02</th>\n",
              "      <td>268.202162</td>\n",
              "      <td>293.73</td>\n",
              "      <td>253.23</td>\n",
              "      <td>8.084631e+07</td>\n",
              "    </tr>\n",
              "    <tr>\n",
              "      <th>2017-07-09</th>\n",
              "      <td>261.062083</td>\n",
              "      <td>285.00</td>\n",
              "      <td>231.25</td>\n",
              "      <td>2.246746e+08</td>\n",
              "    </tr>\n",
              "    <tr>\n",
              "      <th>2017-07-16</th>\n",
              "      <td>195.698393</td>\n",
              "      <td>240.33</td>\n",
              "      <td>130.26</td>\n",
              "      <td>5.017750e+08</td>\n",
              "    </tr>\n",
              "    <tr>\n",
              "      <th>2017-07-23</th>\n",
              "      <td>212.783750</td>\n",
              "      <td>249.40</td>\n",
              "      <td>153.25</td>\n",
              "      <td>7.221637e+08</td>\n",
              "    </tr>\n",
              "    <tr>\n",
              "      <th>2017-07-30</th>\n",
              "      <td>203.309524</td>\n",
              "      <td>229.99</td>\n",
              "      <td>178.03</td>\n",
              "      <td>2.657305e+08</td>\n",
              "    </tr>\n",
              "    <tr>\n",
              "      <th>...</th>\n",
              "      <td>...</td>\n",
              "      <td>...</td>\n",
              "      <td>...</td>\n",
              "      <td>...</td>\n",
              "    </tr>\n",
              "    <tr>\n",
              "      <th>2020-02-16</th>\n",
              "      <td>255.198452</td>\n",
              "      <td>290.00</td>\n",
              "      <td>216.31</td>\n",
              "      <td>3.912867e+08</td>\n",
              "    </tr>\n",
              "    <tr>\n",
              "      <th>2020-02-23</th>\n",
              "      <td>265.321905</td>\n",
              "      <td>287.13</td>\n",
              "      <td>242.36</td>\n",
              "      <td>3.067838e+08</td>\n",
              "    </tr>\n",
              "    <tr>\n",
              "      <th>2020-03-01</th>\n",
              "      <td>236.373988</td>\n",
              "      <td>278.13</td>\n",
              "      <td>209.26</td>\n",
              "      <td>3.693920e+08</td>\n",
              "    </tr>\n",
              "    <tr>\n",
              "      <th>2020-03-08</th>\n",
              "      <td>229.817619</td>\n",
              "      <td>253.01</td>\n",
              "      <td>196.00</td>\n",
              "      <td>2.736569e+08</td>\n",
              "    </tr>\n",
              "    <tr>\n",
              "      <th>2020-03-15</th>\n",
              "      <td>176.332821</td>\n",
              "      <td>208.65</td>\n",
              "      <td>90.00</td>\n",
              "      <td>4.983998e+08</td>\n",
              "    </tr>\n",
              "  </tbody>\n",
              "</table>\n",
              "<p>142 rows × 4 columns</p>\n",
              "</div>"
            ],
            "text/plain": [
              "                 Close    High     Low        Volume\n",
              "Date                                                \n",
              "2017-07-02  268.202162  293.73  253.23  8.084631e+07\n",
              "2017-07-09  261.062083  285.00  231.25  2.246746e+08\n",
              "2017-07-16  195.698393  240.33  130.26  5.017750e+08\n",
              "2017-07-23  212.783750  249.40  153.25  7.221637e+08\n",
              "2017-07-30  203.309524  229.99  178.03  2.657305e+08\n",
              "...                ...     ...     ...           ...\n",
              "2020-02-16  255.198452  290.00  216.31  3.912867e+08\n",
              "2020-02-23  265.321905  287.13  242.36  3.067838e+08\n",
              "2020-03-01  236.373988  278.13  209.26  3.693920e+08\n",
              "2020-03-08  229.817619  253.01  196.00  2.736569e+08\n",
              "2020-03-15  176.332821  208.65   90.00  4.983998e+08\n",
              "\n",
              "[142 rows x 4 columns]"
            ]
          },
          "metadata": {},
          "execution_count": 82
        }
      ]
    },
    {
      "cell_type": "code",
      "metadata": {
        "id": "oiTqkPp1B0AZ"
      },
      "source": [
        ""
      ],
      "execution_count": 82,
      "outputs": []
    },
    {
      "cell_type": "code",
      "metadata": {
        "id": "WrC_k8aLFKX4"
      },
      "source": [
        ""
      ],
      "execution_count": null,
      "outputs": []
    },
    {
      "cell_type": "markdown",
      "metadata": {
        "id": "_bs50hUWwDmj"
      },
      "source": [
        "# check documentation link [here](https://docs.python.org/3/library/datetime.html#strftime-and-strptime-behavior) and the Time series link is [here](https://pandas.pydata.org/pandas-docs/stable/user_guide/timeseries.html#dateoffset-objects)"
      ]
    }
  ]
}
