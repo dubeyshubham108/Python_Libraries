{
  "nbformat": 4,
  "nbformat_minor": 0,
  "metadata": {
    "colab": {
      "name": "Pandas_6.ipynb",
      "provenance": [],
      "authorship_tag": "ABX9TyObfONXBFQSWqEfG8LrtRSR",
      "include_colab_link": true
    },
    "kernelspec": {
      "name": "python3",
      "display_name": "Python 3"
    },
    "language_info": {
      "name": "python"
    }
  },
  "cells": [
    {
      "cell_type": "markdown",
      "metadata": {
        "id": "view-in-github",
        "colab_type": "text"
      },
      "source": [
        "<a href=\"https://colab.research.google.com/github/dubeyshubham786/Python_libraries/blob/main/Pandas_6.ipynb\" target=\"_parent\"><img src=\"https://colab.research.google.com/assets/colab-badge.svg\" alt=\"Open In Colab\"/></a>"
      ]
    },
    {
      "cell_type": "markdown",
      "metadata": {
        "id": "yYepe-BtQLsI"
      },
      "source": [
        "# Add remove rows and columns"
      ]
    },
    {
      "cell_type": "code",
      "metadata": {
        "id": "O_rxjqX2QOyZ"
      },
      "source": [
        "import pandas as pd"
      ],
      "execution_count": null,
      "outputs": []
    },
    {
      "cell_type": "code",
      "metadata": {
        "id": "x6mra_70QO1s"
      },
      "source": [
        "people = {\n",
        "    \"first\": [\"Corey\", 'Jane', 'John'], \n",
        "    \"last\": [\"Schafer\", 'Doe', 'Doe'], \n",
        "    \"email\": [\"CoreyMSchafer@gmail.com\", 'JaneDoe@email.com', 'JohnDoe@email.com']\n",
        "}"
      ],
      "execution_count": null,
      "outputs": []
    },
    {
      "cell_type": "code",
      "metadata": {
        "id": "Q-svRQPHQO4u"
      },
      "source": [
        "df = pd.DataFrame(people)"
      ],
      "execution_count": null,
      "outputs": []
    },
    {
      "cell_type": "code",
      "metadata": {
        "colab": {
          "base_uri": "https://localhost:8080/",
          "height": 142
        },
        "id": "LfytrRcoQO63",
        "outputId": "cd85553b-ccd8-4355-a8a2-c74b297c9aa2"
      },
      "source": [
        "df"
      ],
      "execution_count": null,
      "outputs": [
        {
          "output_type": "execute_result",
          "data": {
            "text/html": [
              "<div>\n",
              "<style scoped>\n",
              "    .dataframe tbody tr th:only-of-type {\n",
              "        vertical-align: middle;\n",
              "    }\n",
              "\n",
              "    .dataframe tbody tr th {\n",
              "        vertical-align: top;\n",
              "    }\n",
              "\n",
              "    .dataframe thead th {\n",
              "        text-align: right;\n",
              "    }\n",
              "</style>\n",
              "<table border=\"1\" class=\"dataframe\">\n",
              "  <thead>\n",
              "    <tr style=\"text-align: right;\">\n",
              "      <th></th>\n",
              "      <th>first</th>\n",
              "      <th>last</th>\n",
              "      <th>email</th>\n",
              "    </tr>\n",
              "  </thead>\n",
              "  <tbody>\n",
              "    <tr>\n",
              "      <th>0</th>\n",
              "      <td>Corey</td>\n",
              "      <td>Schafer</td>\n",
              "      <td>CoreyMSchafer@gmail.com</td>\n",
              "    </tr>\n",
              "    <tr>\n",
              "      <th>1</th>\n",
              "      <td>Jane</td>\n",
              "      <td>Doe</td>\n",
              "      <td>JaneDoe@email.com</td>\n",
              "    </tr>\n",
              "    <tr>\n",
              "      <th>2</th>\n",
              "      <td>John</td>\n",
              "      <td>Doe</td>\n",
              "      <td>JohnDoe@email.com</td>\n",
              "    </tr>\n",
              "  </tbody>\n",
              "</table>\n",
              "</div>"
            ],
            "text/plain": [
              "   first     last                    email\n",
              "0  Corey  Schafer  CoreyMSchafer@gmail.com\n",
              "1   Jane      Doe        JaneDoe@email.com\n",
              "2   John      Doe        JohnDoe@email.com"
            ]
          },
          "metadata": {},
          "execution_count": 37
        }
      ]
    },
    {
      "cell_type": "code",
      "metadata": {
        "colab": {
          "base_uri": "https://localhost:8080/"
        },
        "id": "y6RAuQZQQO9t",
        "outputId": "6646fb81-b81d-45c1-a3bf-b15ae87804d2"
      },
      "source": [
        "# Now suppose we want to add the column\n",
        "\n",
        "df['first'] + ' ' + df['last']"
      ],
      "execution_count": null,
      "outputs": [
        {
          "output_type": "execute_result",
          "data": {
            "text/plain": [
              "0    Corey Schafer\n",
              "1         Jane Doe\n",
              "2         John Doe\n",
              "dtype: object"
            ]
          },
          "metadata": {},
          "execution_count": 38
        }
      ]
    },
    {
      "cell_type": "code",
      "metadata": {
        "id": "bleIfvtueG_H"
      },
      "source": [
        "# Add this to a new column\n",
        "\n",
        "df['fullname'] = df['first'] + ' ' + df['last']"
      ],
      "execution_count": null,
      "outputs": []
    },
    {
      "cell_type": "code",
      "metadata": {
        "colab": {
          "base_uri": "https://localhost:8080/",
          "height": 142
        },
        "id": "Ja_R2uwHeQhd",
        "outputId": "1d99c545-50df-4121-8e87-65bcc1da41c9"
      },
      "source": [
        "df"
      ],
      "execution_count": null,
      "outputs": [
        {
          "output_type": "execute_result",
          "data": {
            "text/html": [
              "<div>\n",
              "<style scoped>\n",
              "    .dataframe tbody tr th:only-of-type {\n",
              "        vertical-align: middle;\n",
              "    }\n",
              "\n",
              "    .dataframe tbody tr th {\n",
              "        vertical-align: top;\n",
              "    }\n",
              "\n",
              "    .dataframe thead th {\n",
              "        text-align: right;\n",
              "    }\n",
              "</style>\n",
              "<table border=\"1\" class=\"dataframe\">\n",
              "  <thead>\n",
              "    <tr style=\"text-align: right;\">\n",
              "      <th></th>\n",
              "      <th>first</th>\n",
              "      <th>last</th>\n",
              "      <th>email</th>\n",
              "      <th>fullname</th>\n",
              "    </tr>\n",
              "  </thead>\n",
              "  <tbody>\n",
              "    <tr>\n",
              "      <th>0</th>\n",
              "      <td>Corey</td>\n",
              "      <td>Schafer</td>\n",
              "      <td>CoreyMSchafer@gmail.com</td>\n",
              "      <td>Corey Schafer</td>\n",
              "    </tr>\n",
              "    <tr>\n",
              "      <th>1</th>\n",
              "      <td>Jane</td>\n",
              "      <td>Doe</td>\n",
              "      <td>JaneDoe@email.com</td>\n",
              "      <td>Jane Doe</td>\n",
              "    </tr>\n",
              "    <tr>\n",
              "      <th>2</th>\n",
              "      <td>John</td>\n",
              "      <td>Doe</td>\n",
              "      <td>JohnDoe@email.com</td>\n",
              "      <td>John Doe</td>\n",
              "    </tr>\n",
              "  </tbody>\n",
              "</table>\n",
              "</div>"
            ],
            "text/plain": [
              "   first     last                    email       fullname\n",
              "0  Corey  Schafer  CoreyMSchafer@gmail.com  Corey Schafer\n",
              "1   Jane      Doe        JaneDoe@email.com       Jane Doe\n",
              "2   John      Doe        JohnDoe@email.com       John Doe"
            ]
          },
          "metadata": {},
          "execution_count": 40
        }
      ]
    },
    {
      "cell_type": "code",
      "metadata": {
        "id": "MB_1aqSdeTSB"
      },
      "source": [
        "# Let's say we don't want this column\n",
        "# We can remove it by applying drop method.\n",
        "\n",
        "df.drop(columns = ['first', 'last'], inplace=True)"
      ],
      "execution_count": null,
      "outputs": []
    },
    {
      "cell_type": "code",
      "metadata": {
        "colab": {
          "base_uri": "https://localhost:8080/",
          "height": 142
        },
        "id": "AgsHNenWenmc",
        "outputId": "af35212e-5ae1-4cb8-ccf4-3900ccf0b82b"
      },
      "source": [
        "df"
      ],
      "execution_count": null,
      "outputs": [
        {
          "output_type": "execute_result",
          "data": {
            "text/html": [
              "<div>\n",
              "<style scoped>\n",
              "    .dataframe tbody tr th:only-of-type {\n",
              "        vertical-align: middle;\n",
              "    }\n",
              "\n",
              "    .dataframe tbody tr th {\n",
              "        vertical-align: top;\n",
              "    }\n",
              "\n",
              "    .dataframe thead th {\n",
              "        text-align: right;\n",
              "    }\n",
              "</style>\n",
              "<table border=\"1\" class=\"dataframe\">\n",
              "  <thead>\n",
              "    <tr style=\"text-align: right;\">\n",
              "      <th></th>\n",
              "      <th>email</th>\n",
              "      <th>fullname</th>\n",
              "    </tr>\n",
              "  </thead>\n",
              "  <tbody>\n",
              "    <tr>\n",
              "      <th>0</th>\n",
              "      <td>CoreyMSchafer@gmail.com</td>\n",
              "      <td>Corey Schafer</td>\n",
              "    </tr>\n",
              "    <tr>\n",
              "      <th>1</th>\n",
              "      <td>JaneDoe@email.com</td>\n",
              "      <td>Jane Doe</td>\n",
              "    </tr>\n",
              "    <tr>\n",
              "      <th>2</th>\n",
              "      <td>JohnDoe@email.com</td>\n",
              "      <td>John Doe</td>\n",
              "    </tr>\n",
              "  </tbody>\n",
              "</table>\n",
              "</div>"
            ],
            "text/plain": [
              "                     email       fullname\n",
              "0  CoreyMSchafer@gmail.com  Corey Schafer\n",
              "1        JaneDoe@email.com       Jane Doe\n",
              "2        JohnDoe@email.com       John Doe"
            ]
          },
          "metadata": {},
          "execution_count": 42
        }
      ]
    },
    {
      "cell_type": "code",
      "metadata": {
        "colab": {
          "base_uri": "https://localhost:8080/"
        },
        "id": "LFUnZwhBetEL",
        "outputId": "602aafe4-5532-4827-a4c3-dea93209781b"
      },
      "source": [
        "# We can split the full name column \n",
        "\n",
        "df['fullname'].str.split(' ')"
      ],
      "execution_count": null,
      "outputs": [
        {
          "output_type": "execute_result",
          "data": {
            "text/plain": [
              "0    [Corey, Schafer]\n",
              "1         [Jane, Doe]\n",
              "2         [John, Doe]\n",
              "Name: fullname, dtype: object"
            ]
          },
          "metadata": {},
          "execution_count": 43
        }
      ]
    },
    {
      "cell_type": "code",
      "metadata": {
        "colab": {
          "base_uri": "https://localhost:8080/",
          "height": 142
        },
        "id": "5Oinyrj8etOm",
        "outputId": "0738b617-2989-44ec-fa02-4d29b53d1399"
      },
      "source": [
        "# Now if we want to asign this to two different column we can do this by expand arguement\n",
        "\n",
        "df['fullname'].str.split(' ', expand=True)"
      ],
      "execution_count": null,
      "outputs": [
        {
          "output_type": "execute_result",
          "data": {
            "text/html": [
              "<div>\n",
              "<style scoped>\n",
              "    .dataframe tbody tr th:only-of-type {\n",
              "        vertical-align: middle;\n",
              "    }\n",
              "\n",
              "    .dataframe tbody tr th {\n",
              "        vertical-align: top;\n",
              "    }\n",
              "\n",
              "    .dataframe thead th {\n",
              "        text-align: right;\n",
              "    }\n",
              "</style>\n",
              "<table border=\"1\" class=\"dataframe\">\n",
              "  <thead>\n",
              "    <tr style=\"text-align: right;\">\n",
              "      <th></th>\n",
              "      <th>0</th>\n",
              "      <th>1</th>\n",
              "    </tr>\n",
              "  </thead>\n",
              "  <tbody>\n",
              "    <tr>\n",
              "      <th>0</th>\n",
              "      <td>Corey</td>\n",
              "      <td>Schafer</td>\n",
              "    </tr>\n",
              "    <tr>\n",
              "      <th>1</th>\n",
              "      <td>Jane</td>\n",
              "      <td>Doe</td>\n",
              "    </tr>\n",
              "    <tr>\n",
              "      <th>2</th>\n",
              "      <td>John</td>\n",
              "      <td>Doe</td>\n",
              "    </tr>\n",
              "  </tbody>\n",
              "</table>\n",
              "</div>"
            ],
            "text/plain": [
              "       0        1\n",
              "0  Corey  Schafer\n",
              "1   Jane      Doe\n",
              "2   John      Doe"
            ]
          },
          "metadata": {},
          "execution_count": 44
        }
      ]
    },
    {
      "cell_type": "code",
      "metadata": {
        "id": "N03DUuGXetWM"
      },
      "source": [
        "# We want to add this column \n",
        "\n",
        "df[['first','last']] = df['fullname'].str.split(' ', expand=True)"
      ],
      "execution_count": null,
      "outputs": []
    },
    {
      "cell_type": "code",
      "metadata": {
        "colab": {
          "base_uri": "https://localhost:8080/",
          "height": 142
        },
        "id": "iER434ZdfkZe",
        "outputId": "c550f766-4026-42cd-be7c-19744bbd2307"
      },
      "source": [
        "df"
      ],
      "execution_count": null,
      "outputs": [
        {
          "output_type": "execute_result",
          "data": {
            "text/html": [
              "<div>\n",
              "<style scoped>\n",
              "    .dataframe tbody tr th:only-of-type {\n",
              "        vertical-align: middle;\n",
              "    }\n",
              "\n",
              "    .dataframe tbody tr th {\n",
              "        vertical-align: top;\n",
              "    }\n",
              "\n",
              "    .dataframe thead th {\n",
              "        text-align: right;\n",
              "    }\n",
              "</style>\n",
              "<table border=\"1\" class=\"dataframe\">\n",
              "  <thead>\n",
              "    <tr style=\"text-align: right;\">\n",
              "      <th></th>\n",
              "      <th>email</th>\n",
              "      <th>fullname</th>\n",
              "      <th>first</th>\n",
              "      <th>last</th>\n",
              "    </tr>\n",
              "  </thead>\n",
              "  <tbody>\n",
              "    <tr>\n",
              "      <th>0</th>\n",
              "      <td>CoreyMSchafer@gmail.com</td>\n",
              "      <td>Corey Schafer</td>\n",
              "      <td>Corey</td>\n",
              "      <td>Schafer</td>\n",
              "    </tr>\n",
              "    <tr>\n",
              "      <th>1</th>\n",
              "      <td>JaneDoe@email.com</td>\n",
              "      <td>Jane Doe</td>\n",
              "      <td>Jane</td>\n",
              "      <td>Doe</td>\n",
              "    </tr>\n",
              "    <tr>\n",
              "      <th>2</th>\n",
              "      <td>JohnDoe@email.com</td>\n",
              "      <td>John Doe</td>\n",
              "      <td>John</td>\n",
              "      <td>Doe</td>\n",
              "    </tr>\n",
              "  </tbody>\n",
              "</table>\n",
              "</div>"
            ],
            "text/plain": [
              "                     email       fullname  first     last\n",
              "0  CoreyMSchafer@gmail.com  Corey Schafer  Corey  Schafer\n",
              "1        JaneDoe@email.com       Jane Doe   Jane      Doe\n",
              "2        JohnDoe@email.com       John Doe   John      Doe"
            ]
          },
          "metadata": {},
          "execution_count": 46
        }
      ]
    },
    {
      "cell_type": "code",
      "metadata": {
        "colab": {
          "base_uri": "https://localhost:8080/",
          "height": 172
        },
        "id": "l1n2cqrpfkzp",
        "outputId": "40619b95-60a2-433a-ff20-06893ed18c0b"
      },
      "source": [
        "# Add a single row\n",
        "\n",
        "df.append({'first':'Tony'}, ignore_index=True)"
      ],
      "execution_count": null,
      "outputs": [
        {
          "output_type": "execute_result",
          "data": {
            "text/html": [
              "<div>\n",
              "<style scoped>\n",
              "    .dataframe tbody tr th:only-of-type {\n",
              "        vertical-align: middle;\n",
              "    }\n",
              "\n",
              "    .dataframe tbody tr th {\n",
              "        vertical-align: top;\n",
              "    }\n",
              "\n",
              "    .dataframe thead th {\n",
              "        text-align: right;\n",
              "    }\n",
              "</style>\n",
              "<table border=\"1\" class=\"dataframe\">\n",
              "  <thead>\n",
              "    <tr style=\"text-align: right;\">\n",
              "      <th></th>\n",
              "      <th>email</th>\n",
              "      <th>fullname</th>\n",
              "      <th>first</th>\n",
              "      <th>last</th>\n",
              "    </tr>\n",
              "  </thead>\n",
              "  <tbody>\n",
              "    <tr>\n",
              "      <th>0</th>\n",
              "      <td>CoreyMSchafer@gmail.com</td>\n",
              "      <td>Corey Schafer</td>\n",
              "      <td>Corey</td>\n",
              "      <td>Schafer</td>\n",
              "    </tr>\n",
              "    <tr>\n",
              "      <th>1</th>\n",
              "      <td>JaneDoe@email.com</td>\n",
              "      <td>Jane Doe</td>\n",
              "      <td>Jane</td>\n",
              "      <td>Doe</td>\n",
              "    </tr>\n",
              "    <tr>\n",
              "      <th>2</th>\n",
              "      <td>JohnDoe@email.com</td>\n",
              "      <td>John Doe</td>\n",
              "      <td>John</td>\n",
              "      <td>Doe</td>\n",
              "    </tr>\n",
              "    <tr>\n",
              "      <th>3</th>\n",
              "      <td>NaN</td>\n",
              "      <td>NaN</td>\n",
              "      <td>Tony</td>\n",
              "      <td>NaN</td>\n",
              "    </tr>\n",
              "  </tbody>\n",
              "</table>\n",
              "</div>"
            ],
            "text/plain": [
              "                     email       fullname  first     last\n",
              "0  CoreyMSchafer@gmail.com  Corey Schafer  Corey  Schafer\n",
              "1        JaneDoe@email.com       Jane Doe   Jane      Doe\n",
              "2        JohnDoe@email.com       John Doe   John      Doe\n",
              "3                      NaN            NaN   Tony      NaN"
            ]
          },
          "metadata": {},
          "execution_count": 47
        }
      ]
    },
    {
      "cell_type": "code",
      "metadata": {
        "id": "VW-GacIFflU3"
      },
      "source": [
        "# Let's create a new dataframe\n",
        "\n",
        "people = {\n",
        "    \"first\": [\"Tony\", 'Steve'], \n",
        "    \"last\": [\"Stark\", 'Roger'], \n",
        "    \"email\": [\"ironman@avengers.com\", 'Cat@avenger.com']\n",
        "}"
      ],
      "execution_count": null,
      "outputs": []
    },
    {
      "cell_type": "code",
      "metadata": {
        "id": "vdMBV7UMflYA"
      },
      "source": [
        "df2 = pd.DataFrame(people)"
      ],
      "execution_count": null,
      "outputs": []
    },
    {
      "cell_type": "code",
      "metadata": {
        "colab": {
          "base_uri": "https://localhost:8080/",
          "height": 110
        },
        "id": "Fg2pUT7rflbQ",
        "outputId": "fbf9144e-2878-4541-9c2d-8214a633a480"
      },
      "source": [
        "df2"
      ],
      "execution_count": null,
      "outputs": [
        {
          "output_type": "execute_result",
          "data": {
            "text/html": [
              "<div>\n",
              "<style scoped>\n",
              "    .dataframe tbody tr th:only-of-type {\n",
              "        vertical-align: middle;\n",
              "    }\n",
              "\n",
              "    .dataframe tbody tr th {\n",
              "        vertical-align: top;\n",
              "    }\n",
              "\n",
              "    .dataframe thead th {\n",
              "        text-align: right;\n",
              "    }\n",
              "</style>\n",
              "<table border=\"1\" class=\"dataframe\">\n",
              "  <thead>\n",
              "    <tr style=\"text-align: right;\">\n",
              "      <th></th>\n",
              "      <th>first</th>\n",
              "      <th>last</th>\n",
              "      <th>email</th>\n",
              "    </tr>\n",
              "  </thead>\n",
              "  <tbody>\n",
              "    <tr>\n",
              "      <th>0</th>\n",
              "      <td>Tony</td>\n",
              "      <td>Stark</td>\n",
              "      <td>ironman@avengers.com</td>\n",
              "    </tr>\n",
              "    <tr>\n",
              "      <th>1</th>\n",
              "      <td>Steve</td>\n",
              "      <td>Roger</td>\n",
              "      <td>Cat@avenger.com</td>\n",
              "    </tr>\n",
              "  </tbody>\n",
              "</table>\n",
              "</div>"
            ],
            "text/plain": [
              "   first   last                 email\n",
              "0   Tony  Stark  ironman@avengers.com\n",
              "1  Steve  Roger       Cat@avenger.com"
            ]
          },
          "metadata": {},
          "execution_count": 50
        }
      ]
    },
    {
      "cell_type": "code",
      "metadata": {
        "colab": {
          "base_uri": "https://localhost:8080/",
          "height": 203
        },
        "id": "cF14a4Z-fleh",
        "outputId": "e3a3d184-4fa1-4937-8fad-c812893aa660"
      },
      "source": [
        "# Now let's suppose that we want to append this two dataframe \n",
        "\n",
        "df.append(df2, ignore_index=True)\n",
        "\n",
        "# if we want to make this changes permanent then unlike this drop method we don't have inplace method here."
      ],
      "execution_count": null,
      "outputs": [
        {
          "output_type": "execute_result",
          "data": {
            "text/html": [
              "<div>\n",
              "<style scoped>\n",
              "    .dataframe tbody tr th:only-of-type {\n",
              "        vertical-align: middle;\n",
              "    }\n",
              "\n",
              "    .dataframe tbody tr th {\n",
              "        vertical-align: top;\n",
              "    }\n",
              "\n",
              "    .dataframe thead th {\n",
              "        text-align: right;\n",
              "    }\n",
              "</style>\n",
              "<table border=\"1\" class=\"dataframe\">\n",
              "  <thead>\n",
              "    <tr style=\"text-align: right;\">\n",
              "      <th></th>\n",
              "      <th>email</th>\n",
              "      <th>fullname</th>\n",
              "      <th>first</th>\n",
              "      <th>last</th>\n",
              "    </tr>\n",
              "  </thead>\n",
              "  <tbody>\n",
              "    <tr>\n",
              "      <th>0</th>\n",
              "      <td>CoreyMSchafer@gmail.com</td>\n",
              "      <td>Corey Schafer</td>\n",
              "      <td>Corey</td>\n",
              "      <td>Schafer</td>\n",
              "    </tr>\n",
              "    <tr>\n",
              "      <th>1</th>\n",
              "      <td>JaneDoe@email.com</td>\n",
              "      <td>Jane Doe</td>\n",
              "      <td>Jane</td>\n",
              "      <td>Doe</td>\n",
              "    </tr>\n",
              "    <tr>\n",
              "      <th>2</th>\n",
              "      <td>JohnDoe@email.com</td>\n",
              "      <td>John Doe</td>\n",
              "      <td>John</td>\n",
              "      <td>Doe</td>\n",
              "    </tr>\n",
              "    <tr>\n",
              "      <th>3</th>\n",
              "      <td>ironman@avengers.com</td>\n",
              "      <td>NaN</td>\n",
              "      <td>Tony</td>\n",
              "      <td>Stark</td>\n",
              "    </tr>\n",
              "    <tr>\n",
              "      <th>4</th>\n",
              "      <td>Cat@avenger.com</td>\n",
              "      <td>NaN</td>\n",
              "      <td>Steve</td>\n",
              "      <td>Roger</td>\n",
              "    </tr>\n",
              "  </tbody>\n",
              "</table>\n",
              "</div>"
            ],
            "text/plain": [
              "                     email       fullname  first     last\n",
              "0  CoreyMSchafer@gmail.com  Corey Schafer  Corey  Schafer\n",
              "1        JaneDoe@email.com       Jane Doe   Jane      Doe\n",
              "2        JohnDoe@email.com       John Doe   John      Doe\n",
              "3     ironman@avengers.com            NaN   Tony    Stark\n",
              "4          Cat@avenger.com            NaN  Steve    Roger"
            ]
          },
          "metadata": {},
          "execution_count": 51
        }
      ]
    },
    {
      "cell_type": "code",
      "metadata": {
        "id": "mdHXjENthbjS"
      },
      "source": [
        "df = df.append(df2, ignore_index=True)\n"
      ],
      "execution_count": null,
      "outputs": []
    },
    {
      "cell_type": "code",
      "metadata": {
        "colab": {
          "base_uri": "https://localhost:8080/",
          "height": 203
        },
        "id": "On9njpLshbpE",
        "outputId": "55934a2d-a488-4f33-8c81-33b431d2f9fa"
      },
      "source": [
        "df"
      ],
      "execution_count": null,
      "outputs": [
        {
          "output_type": "execute_result",
          "data": {
            "text/html": [
              "<div>\n",
              "<style scoped>\n",
              "    .dataframe tbody tr th:only-of-type {\n",
              "        vertical-align: middle;\n",
              "    }\n",
              "\n",
              "    .dataframe tbody tr th {\n",
              "        vertical-align: top;\n",
              "    }\n",
              "\n",
              "    .dataframe thead th {\n",
              "        text-align: right;\n",
              "    }\n",
              "</style>\n",
              "<table border=\"1\" class=\"dataframe\">\n",
              "  <thead>\n",
              "    <tr style=\"text-align: right;\">\n",
              "      <th></th>\n",
              "      <th>email</th>\n",
              "      <th>fullname</th>\n",
              "      <th>first</th>\n",
              "      <th>last</th>\n",
              "    </tr>\n",
              "  </thead>\n",
              "  <tbody>\n",
              "    <tr>\n",
              "      <th>0</th>\n",
              "      <td>CoreyMSchafer@gmail.com</td>\n",
              "      <td>Corey Schafer</td>\n",
              "      <td>Corey</td>\n",
              "      <td>Schafer</td>\n",
              "    </tr>\n",
              "    <tr>\n",
              "      <th>1</th>\n",
              "      <td>JaneDoe@email.com</td>\n",
              "      <td>Jane Doe</td>\n",
              "      <td>Jane</td>\n",
              "      <td>Doe</td>\n",
              "    </tr>\n",
              "    <tr>\n",
              "      <th>2</th>\n",
              "      <td>JohnDoe@email.com</td>\n",
              "      <td>John Doe</td>\n",
              "      <td>John</td>\n",
              "      <td>Doe</td>\n",
              "    </tr>\n",
              "    <tr>\n",
              "      <th>3</th>\n",
              "      <td>ironman@avengers.com</td>\n",
              "      <td>NaN</td>\n",
              "      <td>Tony</td>\n",
              "      <td>Stark</td>\n",
              "    </tr>\n",
              "    <tr>\n",
              "      <th>4</th>\n",
              "      <td>Cat@avenger.com</td>\n",
              "      <td>NaN</td>\n",
              "      <td>Steve</td>\n",
              "      <td>Roger</td>\n",
              "    </tr>\n",
              "  </tbody>\n",
              "</table>\n",
              "</div>"
            ],
            "text/plain": [
              "                     email       fullname  first     last\n",
              "0  CoreyMSchafer@gmail.com  Corey Schafer  Corey  Schafer\n",
              "1        JaneDoe@email.com       Jane Doe   Jane      Doe\n",
              "2        JohnDoe@email.com       John Doe   John      Doe\n",
              "3     ironman@avengers.com            NaN   Tony    Stark\n",
              "4          Cat@avenger.com            NaN  Steve    Roger"
            ]
          },
          "metadata": {},
          "execution_count": 53
        }
      ]
    },
    {
      "cell_type": "code",
      "metadata": {
        "colab": {
          "base_uri": "https://localhost:8080/",
          "height": 172
        },
        "id": "mOoGoiUohbwS",
        "outputId": "f5c06e80-0936-4e65-85d2-e5cdbe91594b"
      },
      "source": [
        "# Now let's look at removing rows\n",
        "\n",
        "df.drop(index=4)\n",
        "\n",
        "# Again if we want to apply this to our dataframe then we have to use inplace=True"
      ],
      "execution_count": null,
      "outputs": [
        {
          "output_type": "execute_result",
          "data": {
            "text/html": [
              "<div>\n",
              "<style scoped>\n",
              "    .dataframe tbody tr th:only-of-type {\n",
              "        vertical-align: middle;\n",
              "    }\n",
              "\n",
              "    .dataframe tbody tr th {\n",
              "        vertical-align: top;\n",
              "    }\n",
              "\n",
              "    .dataframe thead th {\n",
              "        text-align: right;\n",
              "    }\n",
              "</style>\n",
              "<table border=\"1\" class=\"dataframe\">\n",
              "  <thead>\n",
              "    <tr style=\"text-align: right;\">\n",
              "      <th></th>\n",
              "      <th>email</th>\n",
              "      <th>fullname</th>\n",
              "      <th>first</th>\n",
              "      <th>last</th>\n",
              "    </tr>\n",
              "  </thead>\n",
              "  <tbody>\n",
              "    <tr>\n",
              "      <th>0</th>\n",
              "      <td>CoreyMSchafer@gmail.com</td>\n",
              "      <td>Corey Schafer</td>\n",
              "      <td>Corey</td>\n",
              "      <td>Schafer</td>\n",
              "    </tr>\n",
              "    <tr>\n",
              "      <th>1</th>\n",
              "      <td>JaneDoe@email.com</td>\n",
              "      <td>Jane Doe</td>\n",
              "      <td>Jane</td>\n",
              "      <td>Doe</td>\n",
              "    </tr>\n",
              "    <tr>\n",
              "      <th>2</th>\n",
              "      <td>JohnDoe@email.com</td>\n",
              "      <td>John Doe</td>\n",
              "      <td>John</td>\n",
              "      <td>Doe</td>\n",
              "    </tr>\n",
              "    <tr>\n",
              "      <th>3</th>\n",
              "      <td>ironman@avengers.com</td>\n",
              "      <td>NaN</td>\n",
              "      <td>Tony</td>\n",
              "      <td>Stark</td>\n",
              "    </tr>\n",
              "  </tbody>\n",
              "</table>\n",
              "</div>"
            ],
            "text/plain": [
              "                     email       fullname  first     last\n",
              "0  CoreyMSchafer@gmail.com  Corey Schafer  Corey  Schafer\n",
              "1        JaneDoe@email.com       Jane Doe   Jane      Doe\n",
              "2        JohnDoe@email.com       John Doe   John      Doe\n",
              "3     ironman@avengers.com            NaN   Tony    Stark"
            ]
          },
          "metadata": {},
          "execution_count": 54
        }
      ]
    },
    {
      "cell_type": "code",
      "metadata": {
        "colab": {
          "base_uri": "https://localhost:8080/",
          "height": 142
        },
        "id": "LmGayYqQiIkm",
        "outputId": "fb94fb5c-3124-4b0a-8d02-69e83b0b979c"
      },
      "source": [
        "# Now suppose if we want to drop all of the rows where last name is 'Doe'\n",
        "\n",
        "df.drop(index=df[df['last'] == 'Doe'].index)"
      ],
      "execution_count": null,
      "outputs": [
        {
          "output_type": "execute_result",
          "data": {
            "text/html": [
              "<div>\n",
              "<style scoped>\n",
              "    .dataframe tbody tr th:only-of-type {\n",
              "        vertical-align: middle;\n",
              "    }\n",
              "\n",
              "    .dataframe tbody tr th {\n",
              "        vertical-align: top;\n",
              "    }\n",
              "\n",
              "    .dataframe thead th {\n",
              "        text-align: right;\n",
              "    }\n",
              "</style>\n",
              "<table border=\"1\" class=\"dataframe\">\n",
              "  <thead>\n",
              "    <tr style=\"text-align: right;\">\n",
              "      <th></th>\n",
              "      <th>email</th>\n",
              "      <th>fullname</th>\n",
              "      <th>first</th>\n",
              "      <th>last</th>\n",
              "    </tr>\n",
              "  </thead>\n",
              "  <tbody>\n",
              "    <tr>\n",
              "      <th>0</th>\n",
              "      <td>CoreyMSchafer@gmail.com</td>\n",
              "      <td>Corey Schafer</td>\n",
              "      <td>Corey</td>\n",
              "      <td>Schafer</td>\n",
              "    </tr>\n",
              "    <tr>\n",
              "      <th>3</th>\n",
              "      <td>ironman@avengers.com</td>\n",
              "      <td>NaN</td>\n",
              "      <td>Tony</td>\n",
              "      <td>Stark</td>\n",
              "    </tr>\n",
              "    <tr>\n",
              "      <th>4</th>\n",
              "      <td>Cat@avenger.com</td>\n",
              "      <td>NaN</td>\n",
              "      <td>Steve</td>\n",
              "      <td>Roger</td>\n",
              "    </tr>\n",
              "  </tbody>\n",
              "</table>\n",
              "</div>"
            ],
            "text/plain": [
              "                     email       fullname  first     last\n",
              "0  CoreyMSchafer@gmail.com  Corey Schafer  Corey  Schafer\n",
              "3     ironman@avengers.com            NaN   Tony    Stark\n",
              "4          Cat@avenger.com            NaN  Steve    Roger"
            ]
          },
          "metadata": {},
          "execution_count": 55
        }
      ]
    },
    {
      "cell_type": "code",
      "metadata": {
        "colab": {
          "base_uri": "https://localhost:8080/",
          "height": 142
        },
        "id": "pi8N7ylOiIn7",
        "outputId": "ebb83ce3-740a-4330-8969-72c7b240af73"
      },
      "source": [
        "# but doing like this makes it unreadable instead we can do like this\n",
        "\n",
        "filt = df['last'] == 'Doe'\n",
        "df.drop(index=df[filt].index)\n"
      ],
      "execution_count": null,
      "outputs": [
        {
          "output_type": "execute_result",
          "data": {
            "text/html": [
              "<div>\n",
              "<style scoped>\n",
              "    .dataframe tbody tr th:only-of-type {\n",
              "        vertical-align: middle;\n",
              "    }\n",
              "\n",
              "    .dataframe tbody tr th {\n",
              "        vertical-align: top;\n",
              "    }\n",
              "\n",
              "    .dataframe thead th {\n",
              "        text-align: right;\n",
              "    }\n",
              "</style>\n",
              "<table border=\"1\" class=\"dataframe\">\n",
              "  <thead>\n",
              "    <tr style=\"text-align: right;\">\n",
              "      <th></th>\n",
              "      <th>email</th>\n",
              "      <th>fullname</th>\n",
              "      <th>first</th>\n",
              "      <th>last</th>\n",
              "    </tr>\n",
              "  </thead>\n",
              "  <tbody>\n",
              "    <tr>\n",
              "      <th>0</th>\n",
              "      <td>CoreyMSchafer@gmail.com</td>\n",
              "      <td>Corey Schafer</td>\n",
              "      <td>Corey</td>\n",
              "      <td>Schafer</td>\n",
              "    </tr>\n",
              "    <tr>\n",
              "      <th>3</th>\n",
              "      <td>ironman@avengers.com</td>\n",
              "      <td>NaN</td>\n",
              "      <td>Tony</td>\n",
              "      <td>Stark</td>\n",
              "    </tr>\n",
              "    <tr>\n",
              "      <th>4</th>\n",
              "      <td>Cat@avenger.com</td>\n",
              "      <td>NaN</td>\n",
              "      <td>Steve</td>\n",
              "      <td>Roger</td>\n",
              "    </tr>\n",
              "  </tbody>\n",
              "</table>\n",
              "</div>"
            ],
            "text/plain": [
              "                     email       fullname  first     last\n",
              "0  CoreyMSchafer@gmail.com  Corey Schafer  Corey  Schafer\n",
              "3     ironman@avengers.com            NaN   Tony    Stark\n",
              "4          Cat@avenger.com            NaN  Steve    Roger"
            ]
          },
          "metadata": {},
          "execution_count": 60
        }
      ]
    },
    {
      "cell_type": "code",
      "metadata": {
        "id": "OvtwXQcahb22"
      },
      "source": [
        ""
      ],
      "execution_count": null,
      "outputs": []
    },
    {
      "cell_type": "code",
      "metadata": {
        "id": "pGMATX9ShcBJ"
      },
      "source": [
        ""
      ],
      "execution_count": null,
      "outputs": []
    }
  ]
}
